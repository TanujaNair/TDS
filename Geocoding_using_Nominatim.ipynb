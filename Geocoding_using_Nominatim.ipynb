{
  "nbformat": 4,
  "nbformat_minor": 0,
  "metadata": {
    "colab": {
      "name": "Geocoding using Nominatim.ipynb",
      "provenance": [],
      "authorship_tag": "ABX9TyMYEAAtOYsdG6nPX64TpG6a"
    },
    "kernelspec": {
      "name": "python3",
      "display_name": "Python 3"
    },
    "language_info": {
      "name": "python"
    }
  },
  "cells": [
    {
      "cell_type": "markdown",
      "source": [
        "We would be using the Nominatim API to scrape geocoding information of any open ended address text using Python."
      ],
      "metadata": {
        "id": "ZNIa52BFNTtL"
      }
    },
    {
      "cell_type": "code",
      "execution_count": null,
      "metadata": {
        "id": "Hl6XIn_vNEaW"
      },
      "outputs": [],
      "source": [
        "# no need to install these if using Google Colab\n",
        "!pip install geopandas\n",
        "!pip install geopy"
      ]
    },
    {
      "cell_type": "code",
      "source": [
        "#import nominatim api\n",
        "from geopy.geocoders import Nominatim"
      ],
      "metadata": {
        "id": "9r_m0i1IRr8q"
      },
      "execution_count": 2,
      "outputs": []
    },
    {
      "cell_type": "code",
      "source": [
        "#activate nominatim geocoder\n",
        "locator = Nominatim(user_agent=\"21f1000660@student.onlinedegree.iitm.ac.in\")\n",
        "#type any address text\n",
        "location = locator.geocode(\"Mall of India, Noida\")"
      ],
      "metadata": {
        "id": "gmo2sgfJTHo-"
      },
      "execution_count": 3,
      "outputs": []
    },
    {
      "cell_type": "code",
      "source": [
        "#print lattitude and longitude of the address\n",
        "print(\"Latitude = {}, Longitude = {}\".format(location.latitude, location.longitude))"
      ],
      "metadata": {
        "colab": {
          "base_uri": "https://localhost:8080/"
        },
        "id": "0Qc7zMIeTAhS",
        "outputId": "2dbc02d5-6eeb-4679-d736-461a0619b459"
      },
      "execution_count": 4,
      "outputs": [
        {
          "output_type": "stream",
          "name": "stdout",
          "text": [
            "Latitude = 28.5674306, Longitude = 77.3212524\n"
          ]
        }
      ]
    },
    {
      "cell_type": "code",
      "source": [
        "#the API output has multiple other details as a json like altitude, lattitude, longitude, correct raw addres, etc.\n",
        "#printing all the informaton\n",
        "location.raw,location.point,location.longitude,location.latitude,location.altitude,location.address"
      ],
      "metadata": {
        "colab": {
          "base_uri": "https://localhost:8080/"
        },
        "id": "s3Ve3iIJTCSJ",
        "outputId": "b357419b-c03a-44b5-a983-4953168bdbb7"
      },
      "execution_count": 5,
      "outputs": [
        {
          "output_type": "execute_result",
          "data": {
            "text/plain": [
              "({'boundingbox': ['28.5673806', '28.5674806', '77.3212024', '77.3213024'],\n",
              "  'class': 'tourism',\n",
              "  'display_name': 'मॉल ऑफ इंडिया, सेक्टर १८, Maharaja Agrasen Marg, Dadri, Gautam Buddha Nagar, Uttar Pradesh, 201301, India',\n",
              "  'icon': 'https://nominatim.openstreetmap.org/ui/mapicons/poi_point_of_interest.p.20.png',\n",
              "  'importance': 0.11100000000000002,\n",
              "  'lat': '28.5674306',\n",
              "  'licence': 'Data © OpenStreetMap contributors, ODbL 1.0. https://osm.org/copyright',\n",
              "  'lon': '77.3212524',\n",
              "  'osm_id': 5808894662,\n",
              "  'osm_type': 'node',\n",
              "  'place_id': 63531256,\n",
              "  'type': 'attraction'},\n",
              " Point(28.5674306, 77.3212524, 0.0),\n",
              " 77.3212524,\n",
              " 28.5674306,\n",
              " 0.0,\n",
              " 'मॉल ऑफ इंडिया, सेक्टर १८, Maharaja Agrasen Marg, Dadri, Gautam Buddha Nagar, Uttar Pradesh, 201301, India')"
            ]
          },
          "metadata": {},
          "execution_count": 5
        }
      ]
    }
  ]
}