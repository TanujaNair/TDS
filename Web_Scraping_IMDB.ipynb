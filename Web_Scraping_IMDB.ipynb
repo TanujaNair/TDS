{
  "nbformat": 4,
  "nbformat_minor": 0,
  "metadata": {
    "colab": {
      "name": "Web Scraping IMDB.ipynb",
      "provenance": [],
      "authorship_tag": "ABX9TyNQmmRAfkDll+psT1kS0MMb"
    },
    "kernelspec": {
      "name": "python3",
      "display_name": "Python 3"
    },
    "language_info": {
      "name": "python"
    }
  },
  "cells": [
    {
      "cell_type": "markdown",
      "source": [
        "A tutorial to scrape movie information from IMDb 1: Import Necessary Libraries"
      ],
      "metadata": {
        "id": "590Lzo65-k8L"
      }
    },
    {
      "cell_type": "code",
      "execution_count": 39,
      "metadata": {
        "id": "0DT86F-ZUo51"
      },
      "outputs": [],
      "source": [
        "from bs4 import BeautifulSoup as bs\n",
        "import requests #to access website\n",
        "import pandas as pd"
      ]
    },
    {
      "cell_type": "markdown",
      "source": [
        "2: Load the webpage"
      ],
      "metadata": {
        "id": "IfYK_kmN-ow-"
      }
    },
    {
      "cell_type": "code",
      "source": [
        "r = requests.get(\"https://www.imdb.com/chart/top/\")\n",
        "\n",
        "# Convert to a beautiful soup object\n",
        "soup = bs(r.content)\n",
        "\n",
        "# Print out HTML\n",
        "contents = soup.prettify()\n",
        "print(contents[:100])"
      ],
      "metadata": {
        "colab": {
          "base_uri": "https://localhost:8080/"
        },
        "id": "zlDM6-R3Uywu",
        "outputId": "16f28e0a-33e1-447f-95e7-60dc0ffc929d"
      },
      "execution_count": 40,
      "outputs": [
        {
          "output_type": "stream",
          "name": "stdout",
          "text": [
            "<!DOCTYPE html>\n",
            "<html xmlns:fb=\"http://www.facebook.com/2008/fbml\" xmlns:og=\"http://ogp.me/ns#\">\n",
            " <h\n"
          ]
        }
      ]
    },
    {
      "cell_type": "markdown",
      "source": [
        "3: Creating empty list"
      ],
      "metadata": {
        "id": "obQYmrPI-rkc"
      }
    },
    {
      "cell_type": "code",
      "source": [
        "movie_title = []\n",
        "movie_year = []\n",
        "movie_rating = []"
      ],
      "metadata": {
        "id": "5QnRa62l-V_B"
      },
      "execution_count": 41,
      "outputs": []
    },
    {
      "cell_type": "markdown",
      "source": [
        "4: Extract HTML tag contents"
      ],
      "metadata": {
        "id": "Gcd45_dD-uya"
      }
    },
    {
      "cell_type": "code",
      "source": [
        "imdb_table = soup.find(class_=\"chart full-width\")"
      ],
      "metadata": {
        "id": "rDxcWGP4-1JD"
      },
      "execution_count": 42,
      "outputs": []
    },
    {
      "cell_type": "code",
      "source": [
        "movie_titlecolumn = imdb_table.find_all(class_=\"titleColumn\")"
      ],
      "metadata": {
        "id": "um1T4PVi-4f9"
      },
      "execution_count": 43,
      "outputs": []
    },
    {
      "cell_type": "code",
      "source": [
        "movie_ratingscolumn = imdb_table.find_all(class_=\"ratingColumn imdbRating\")"
      ],
      "metadata": {
        "id": "0laPdvAK-6dR"
      },
      "execution_count": 44,
      "outputs": []
    },
    {
      "cell_type": "code",
      "source": [
        "for row in movie_titlecolumn:\n",
        "    title = row.a.text # tag content extraction\n",
        "    movie_title.append(title)\n",
        "movie_title"
      ],
      "metadata": {
        "id": "LknsdFmK-8lp"
      },
      "execution_count": null,
      "outputs": []
    },
    {
      "cell_type": "code",
      "source": [
        "for row in movie_titlecolumn:\n",
        "    year = row.span.text # tag content extraction\n",
        "    movie_year.append(year)\n",
        "movie_year"
      ],
      "metadata": {
        "id": "ti117E1LGrQp"
      },
      "execution_count": null,
      "outputs": []
    },
    {
      "cell_type": "code",
      "source": [
        "for row in movie_ratingscolumn:\n",
        "    rating = row.strong.text # tag content extraction\n",
        "    movie_rating.append(rating)\n",
        "movie_rating"
      ],
      "metadata": {
        "id": "wF78G75yIlJG"
      },
      "execution_count": null,
      "outputs": []
    },
    {
      "cell_type": "markdown",
      "source": [
        "5. Create Dataframe"
      ],
      "metadata": {
        "id": "BH_hpaigJVWs"
      }
    },
    {
      "cell_type": "code",
      "source": [
        "movie_df = pd.DataFrame({'Movie Title': movie_title, 'Year of Release': movie_year, 'IMDb Rating': movie_rating})\n",
        "movie_df.head(30) #View first 30 rows of dataframe"
      ],
      "metadata": {
        "colab": {
          "base_uri": "https://localhost:8080/",
          "height": 979
        },
        "id": "RB-zS-zfJXg3",
        "outputId": "1655c809-8dd9-4f48-ad12-9815c56884fd"
      },
      "execution_count": 48,
      "outputs": [
        {
          "output_type": "execute_result",
          "data": {
            "text/plain": [
              "                                          Movie Title Year of Release  \\\n",
              "0                            The Shawshank Redemption          (1994)   \n",
              "1                                       The Godfather          (1972)   \n",
              "2                                     The Dark Knight          (2008)   \n",
              "3                               The Godfather Part II          (1974)   \n",
              "4                                        12 Angry Men          (1957)   \n",
              "5                                    Schindler's List          (1993)   \n",
              "6       The Lord of the Rings: The Return of the King          (2003)   \n",
              "7                                        Pulp Fiction          (1994)   \n",
              "8   The Lord of the Rings: The Fellowship of the Ring          (2001)   \n",
              "9                      The Good, the Bad and the Ugly          (1966)   \n",
              "10                                       Forrest Gump          (1994)   \n",
              "11                                         Fight Club          (1999)   \n",
              "12                                          Inception          (2010)   \n",
              "13              The Lord of the Rings: The Two Towers          (2002)   \n",
              "14     Star Wars: Episode V - The Empire Strikes Back          (1980)   \n",
              "15                                         The Matrix          (1999)   \n",
              "16                                         Goodfellas          (1990)   \n",
              "17                    One Flew Over the Cuckoo's Nest          (1975)   \n",
              "18                                              Se7en          (1995)   \n",
              "19                                      Seven Samurai          (1954)   \n",
              "20                              It's a Wonderful Life          (1946)   \n",
              "21                           The Silence of the Lambs          (1991)   \n",
              "22                                        City of God          (2002)   \n",
              "23                                Saving Private Ryan          (1998)   \n",
              "24                                  Life Is Beautiful          (1997)   \n",
              "25                                     The Green Mile          (1999)   \n",
              "26                                       Interstellar          (2014)   \n",
              "27                                          Star Wars          (1977)   \n",
              "28                         Terminator 2: Judgment Day          (1991)   \n",
              "29                                 Back to the Future          (1985)   \n",
              "\n",
              "   IMDb Rating  \n",
              "0          9.2  \n",
              "1          9.2  \n",
              "2          9.0  \n",
              "3          9.0  \n",
              "4          8.9  \n",
              "5          8.9  \n",
              "6          8.9  \n",
              "7          8.9  \n",
              "8          8.8  \n",
              "9          8.8  \n",
              "10         8.8  \n",
              "11         8.7  \n",
              "12         8.7  \n",
              "13         8.7  \n",
              "14         8.7  \n",
              "15         8.7  \n",
              "16         8.7  \n",
              "17         8.6  \n",
              "18         8.6  \n",
              "19         8.6  \n",
              "20         8.6  \n",
              "21         8.6  \n",
              "22         8.6  \n",
              "23         8.6  \n",
              "24         8.6  \n",
              "25         8.6  \n",
              "26         8.6  \n",
              "27         8.6  \n",
              "28         8.5  \n",
              "29         8.5  "
            ],
            "text/html": [
              "\n",
              "  <div id=\"df-e0a18255-2abe-4f01-bec3-e1c985ff4104\">\n",
              "    <div class=\"colab-df-container\">\n",
              "      <div>\n",
              "<style scoped>\n",
              "    .dataframe tbody tr th:only-of-type {\n",
              "        vertical-align: middle;\n",
              "    }\n",
              "\n",
              "    .dataframe tbody tr th {\n",
              "        vertical-align: top;\n",
              "    }\n",
              "\n",
              "    .dataframe thead th {\n",
              "        text-align: right;\n",
              "    }\n",
              "</style>\n",
              "<table border=\"1\" class=\"dataframe\">\n",
              "  <thead>\n",
              "    <tr style=\"text-align: right;\">\n",
              "      <th></th>\n",
              "      <th>Movie Title</th>\n",
              "      <th>Year of Release</th>\n",
              "      <th>IMDb Rating</th>\n",
              "    </tr>\n",
              "  </thead>\n",
              "  <tbody>\n",
              "    <tr>\n",
              "      <th>0</th>\n",
              "      <td>The Shawshank Redemption</td>\n",
              "      <td>(1994)</td>\n",
              "      <td>9.2</td>\n",
              "    </tr>\n",
              "    <tr>\n",
              "      <th>1</th>\n",
              "      <td>The Godfather</td>\n",
              "      <td>(1972)</td>\n",
              "      <td>9.2</td>\n",
              "    </tr>\n",
              "    <tr>\n",
              "      <th>2</th>\n",
              "      <td>The Dark Knight</td>\n",
              "      <td>(2008)</td>\n",
              "      <td>9.0</td>\n",
              "    </tr>\n",
              "    <tr>\n",
              "      <th>3</th>\n",
              "      <td>The Godfather Part II</td>\n",
              "      <td>(1974)</td>\n",
              "      <td>9.0</td>\n",
              "    </tr>\n",
              "    <tr>\n",
              "      <th>4</th>\n",
              "      <td>12 Angry Men</td>\n",
              "      <td>(1957)</td>\n",
              "      <td>8.9</td>\n",
              "    </tr>\n",
              "    <tr>\n",
              "      <th>5</th>\n",
              "      <td>Schindler's List</td>\n",
              "      <td>(1993)</td>\n",
              "      <td>8.9</td>\n",
              "    </tr>\n",
              "    <tr>\n",
              "      <th>6</th>\n",
              "      <td>The Lord of the Rings: The Return of the King</td>\n",
              "      <td>(2003)</td>\n",
              "      <td>8.9</td>\n",
              "    </tr>\n",
              "    <tr>\n",
              "      <th>7</th>\n",
              "      <td>Pulp Fiction</td>\n",
              "      <td>(1994)</td>\n",
              "      <td>8.9</td>\n",
              "    </tr>\n",
              "    <tr>\n",
              "      <th>8</th>\n",
              "      <td>The Lord of the Rings: The Fellowship of the Ring</td>\n",
              "      <td>(2001)</td>\n",
              "      <td>8.8</td>\n",
              "    </tr>\n",
              "    <tr>\n",
              "      <th>9</th>\n",
              "      <td>The Good, the Bad and the Ugly</td>\n",
              "      <td>(1966)</td>\n",
              "      <td>8.8</td>\n",
              "    </tr>\n",
              "    <tr>\n",
              "      <th>10</th>\n",
              "      <td>Forrest Gump</td>\n",
              "      <td>(1994)</td>\n",
              "      <td>8.8</td>\n",
              "    </tr>\n",
              "    <tr>\n",
              "      <th>11</th>\n",
              "      <td>Fight Club</td>\n",
              "      <td>(1999)</td>\n",
              "      <td>8.7</td>\n",
              "    </tr>\n",
              "    <tr>\n",
              "      <th>12</th>\n",
              "      <td>Inception</td>\n",
              "      <td>(2010)</td>\n",
              "      <td>8.7</td>\n",
              "    </tr>\n",
              "    <tr>\n",
              "      <th>13</th>\n",
              "      <td>The Lord of the Rings: The Two Towers</td>\n",
              "      <td>(2002)</td>\n",
              "      <td>8.7</td>\n",
              "    </tr>\n",
              "    <tr>\n",
              "      <th>14</th>\n",
              "      <td>Star Wars: Episode V - The Empire Strikes Back</td>\n",
              "      <td>(1980)</td>\n",
              "      <td>8.7</td>\n",
              "    </tr>\n",
              "    <tr>\n",
              "      <th>15</th>\n",
              "      <td>The Matrix</td>\n",
              "      <td>(1999)</td>\n",
              "      <td>8.7</td>\n",
              "    </tr>\n",
              "    <tr>\n",
              "      <th>16</th>\n",
              "      <td>Goodfellas</td>\n",
              "      <td>(1990)</td>\n",
              "      <td>8.7</td>\n",
              "    </tr>\n",
              "    <tr>\n",
              "      <th>17</th>\n",
              "      <td>One Flew Over the Cuckoo's Nest</td>\n",
              "      <td>(1975)</td>\n",
              "      <td>8.6</td>\n",
              "    </tr>\n",
              "    <tr>\n",
              "      <th>18</th>\n",
              "      <td>Se7en</td>\n",
              "      <td>(1995)</td>\n",
              "      <td>8.6</td>\n",
              "    </tr>\n",
              "    <tr>\n",
              "      <th>19</th>\n",
              "      <td>Seven Samurai</td>\n",
              "      <td>(1954)</td>\n",
              "      <td>8.6</td>\n",
              "    </tr>\n",
              "    <tr>\n",
              "      <th>20</th>\n",
              "      <td>It's a Wonderful Life</td>\n",
              "      <td>(1946)</td>\n",
              "      <td>8.6</td>\n",
              "    </tr>\n",
              "    <tr>\n",
              "      <th>21</th>\n",
              "      <td>The Silence of the Lambs</td>\n",
              "      <td>(1991)</td>\n",
              "      <td>8.6</td>\n",
              "    </tr>\n",
              "    <tr>\n",
              "      <th>22</th>\n",
              "      <td>City of God</td>\n",
              "      <td>(2002)</td>\n",
              "      <td>8.6</td>\n",
              "    </tr>\n",
              "    <tr>\n",
              "      <th>23</th>\n",
              "      <td>Saving Private Ryan</td>\n",
              "      <td>(1998)</td>\n",
              "      <td>8.6</td>\n",
              "    </tr>\n",
              "    <tr>\n",
              "      <th>24</th>\n",
              "      <td>Life Is Beautiful</td>\n",
              "      <td>(1997)</td>\n",
              "      <td>8.6</td>\n",
              "    </tr>\n",
              "    <tr>\n",
              "      <th>25</th>\n",
              "      <td>The Green Mile</td>\n",
              "      <td>(1999)</td>\n",
              "      <td>8.6</td>\n",
              "    </tr>\n",
              "    <tr>\n",
              "      <th>26</th>\n",
              "      <td>Interstellar</td>\n",
              "      <td>(2014)</td>\n",
              "      <td>8.6</td>\n",
              "    </tr>\n",
              "    <tr>\n",
              "      <th>27</th>\n",
              "      <td>Star Wars</td>\n",
              "      <td>(1977)</td>\n",
              "      <td>8.6</td>\n",
              "    </tr>\n",
              "    <tr>\n",
              "      <th>28</th>\n",
              "      <td>Terminator 2: Judgment Day</td>\n",
              "      <td>(1991)</td>\n",
              "      <td>8.5</td>\n",
              "    </tr>\n",
              "    <tr>\n",
              "      <th>29</th>\n",
              "      <td>Back to the Future</td>\n",
              "      <td>(1985)</td>\n",
              "      <td>8.5</td>\n",
              "    </tr>\n",
              "  </tbody>\n",
              "</table>\n",
              "</div>\n",
              "      <button class=\"colab-df-convert\" onclick=\"convertToInteractive('df-e0a18255-2abe-4f01-bec3-e1c985ff4104')\"\n",
              "              title=\"Convert this dataframe to an interactive table.\"\n",
              "              style=\"display:none;\">\n",
              "        \n",
              "  <svg xmlns=\"http://www.w3.org/2000/svg\" height=\"24px\"viewBox=\"0 0 24 24\"\n",
              "       width=\"24px\">\n",
              "    <path d=\"M0 0h24v24H0V0z\" fill=\"none\"/>\n",
              "    <path d=\"M18.56 5.44l.94 2.06.94-2.06 2.06-.94-2.06-.94-.94-2.06-.94 2.06-2.06.94zm-11 1L8.5 8.5l.94-2.06 2.06-.94-2.06-.94L8.5 2.5l-.94 2.06-2.06.94zm10 10l.94 2.06.94-2.06 2.06-.94-2.06-.94-.94-2.06-.94 2.06-2.06.94z\"/><path d=\"M17.41 7.96l-1.37-1.37c-.4-.4-.92-.59-1.43-.59-.52 0-1.04.2-1.43.59L10.3 9.45l-7.72 7.72c-.78.78-.78 2.05 0 2.83L4 21.41c.39.39.9.59 1.41.59.51 0 1.02-.2 1.41-.59l7.78-7.78 2.81-2.81c.8-.78.8-2.07 0-2.86zM5.41 20L4 18.59l7.72-7.72 1.47 1.35L5.41 20z\"/>\n",
              "  </svg>\n",
              "      </button>\n",
              "      \n",
              "  <style>\n",
              "    .colab-df-container {\n",
              "      display:flex;\n",
              "      flex-wrap:wrap;\n",
              "      gap: 12px;\n",
              "    }\n",
              "\n",
              "    .colab-df-convert {\n",
              "      background-color: #E8F0FE;\n",
              "      border: none;\n",
              "      border-radius: 50%;\n",
              "      cursor: pointer;\n",
              "      display: none;\n",
              "      fill: #1967D2;\n",
              "      height: 32px;\n",
              "      padding: 0 0 0 0;\n",
              "      width: 32px;\n",
              "    }\n",
              "\n",
              "    .colab-df-convert:hover {\n",
              "      background-color: #E2EBFA;\n",
              "      box-shadow: 0px 1px 2px rgba(60, 64, 67, 0.3), 0px 1px 3px 1px rgba(60, 64, 67, 0.15);\n",
              "      fill: #174EA6;\n",
              "    }\n",
              "\n",
              "    [theme=dark] .colab-df-convert {\n",
              "      background-color: #3B4455;\n",
              "      fill: #D2E3FC;\n",
              "    }\n",
              "\n",
              "    [theme=dark] .colab-df-convert:hover {\n",
              "      background-color: #434B5C;\n",
              "      box-shadow: 0px 1px 3px 1px rgba(0, 0, 0, 0.15);\n",
              "      filter: drop-shadow(0px 1px 2px rgba(0, 0, 0, 0.3));\n",
              "      fill: #FFFFFF;\n",
              "    }\n",
              "  </style>\n",
              "\n",
              "      <script>\n",
              "        const buttonEl =\n",
              "          document.querySelector('#df-e0a18255-2abe-4f01-bec3-e1c985ff4104 button.colab-df-convert');\n",
              "        buttonEl.style.display =\n",
              "          google.colab.kernel.accessAllowed ? 'block' : 'none';\n",
              "\n",
              "        async function convertToInteractive(key) {\n",
              "          const element = document.querySelector('#df-e0a18255-2abe-4f01-bec3-e1c985ff4104');\n",
              "          const dataTable =\n",
              "            await google.colab.kernel.invokeFunction('convertToInteractive',\n",
              "                                                     [key], {});\n",
              "          if (!dataTable) return;\n",
              "\n",
              "          const docLinkHtml = 'Like what you see? Visit the ' +\n",
              "            '<a target=\"_blank\" href=https://colab.research.google.com/notebooks/data_table.ipynb>data table notebook</a>'\n",
              "            + ' to learn more about interactive tables.';\n",
              "          element.innerHTML = '';\n",
              "          dataTable['output_type'] = 'display_data';\n",
              "          await google.colab.output.renderOutput(dataTable, element);\n",
              "          const docLink = document.createElement('div');\n",
              "          docLink.innerHTML = docLinkHtml;\n",
              "          element.appendChild(docLink);\n",
              "        }\n",
              "      </script>\n",
              "    </div>\n",
              "  </div>\n",
              "  "
            ]
          },
          "metadata": {},
          "execution_count": 48
        }
      ]
    }
  ]
}