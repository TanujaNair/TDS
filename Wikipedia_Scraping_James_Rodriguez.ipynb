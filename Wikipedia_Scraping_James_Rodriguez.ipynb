{
  "nbformat": 4,
  "nbformat_minor": 0,
  "metadata": {
    "colab": {
      "name": "Wikipedia Scraping-James Rodriguez.ipynb",
      "provenance": [],
      "authorship_tag": "ABX9TyOYyc0DwX/MP6btGuqBMOnE"
    },
    "kernelspec": {
      "name": "python3",
      "display_name": "Python 3"
    },
    "language_info": {
      "name": "python"
    }
  },
  "cells": [
    {
      "cell_type": "code",
      "execution_count": null,
      "metadata": {
        "id": "xoDm902CU6j4"
      },
      "outputs": [],
      "source": [
        "!pip install wikipedia\n",
        "import wikipedia as wk"
      ]
    },
    {
      "cell_type": "code",
      "source": [
        "print(wk.search(\"James Rodriguez\")) "
      ],
      "metadata": {
        "colab": {
          "base_uri": "https://localhost:8080/"
        },
        "id": "itEmz_YMXY3o",
        "outputId": "abda6390-434d-444c-ae81-c37fd90cd52f"
      },
      "execution_count": 40,
      "outputs": [
        {
          "output_type": "stream",
          "name": "stdout",
          "text": [
            "['James Rodríguez', 'James Roday Rodriguez', 'James Rodríguez (disambiguation)', 'Jesse Rodriguez (boxer)', 'Roxy-James Rodriguez', 'Alexander James Rodriguez', 'Colombia national football team', 'Michelle Rodriguez', 'Rodríguez (surname)', '2014 FIFA World Cup']\n"
          ]
        }
      ]
    },
    {
      "cell_type": "code",
      "source": [
        "print(wk.search(\"James Rodriguez\", results=2)) #top 2 results"
      ],
      "metadata": {
        "colab": {
          "base_uri": "https://localhost:8080/"
        },
        "id": "h4pPJHC-XaQL",
        "outputId": "bb5023a6-2fea-43d4-f115-834dc573829f"
      },
      "execution_count": 41,
      "outputs": [
        {
          "output_type": "stream",
          "name": "stdout",
          "text": [
            "['James Rodríguez', 'James Roday Rodriguez']\n"
          ]
        }
      ]
    },
    {
      "cell_type": "code",
      "source": [
        "print(wk.summary(\"James Rodriguez\"))"
      ],
      "metadata": {
        "colab": {
          "base_uri": "https://localhost:8080/"
        },
        "id": "8FcCRDAQX004",
        "outputId": "5ff9932f-7447-490a-f3ff-3fd2c45ace54"
      },
      "execution_count": 42,
      "outputs": [
        {
          "output_type": "stream",
          "name": "stdout",
          "text": [
            "James David Rodríguez Rubio (born 12 July 1991) is a Colombian professional footballer who plays as an attacking midfielder or winger for Qatar Stars League club Al-Rayyan and the Colombia national team. He has been praised in the past for his technique, vision and playmaking skills, and was often considered the successor to his compatriot Carlos Valderrama. Starting his career at Envigado, and then moving to Argentina side Banfield, James became well known in Europe during his time at Porto, winning several trophies and individual awards during his three years at the club. In 2014, James moved from AS Monaco to Real Madrid for a transfer fee of £63 million, which beat the one set by Radamel Falcao and made him the most expensive Colombian football player and one of the most expensive players at the time. In his debut season, he was named in the La Liga Team of the Season and won La Liga Best Midfielder. In 2017, he signed for German club Bayern Munich on a two-year loan deal. In the summer of 2020 he signed for Premier League club Everton on a free transfer.James started his international career with the Colombia under-20 team, with which he won the 2011 Toulon Tournament. He then captained the U-20 team during the 2011 FIFA U-20 World Cup. Due to his performance in the tournament, he was regularly called into the senior squad by the age of 20. He played in the 2014 and 2018 FIFA World Cup, winning the Golden Boot in 2014 and being included in the Cup's All Star Team. He also represented his nation at the 2015 Copa América, the Copa América Centenario in 2016, and the 2019 Copa América, winning a third-place medal in 2016.\n"
          ]
        }
      ]
    },
    {
      "cell_type": "code",
      "source": [
        "full_page = wk.page(\"James Rodriguez\")"
      ],
      "metadata": {
        "id": "eIx_9sc6YkpA"
      },
      "execution_count": 43,
      "outputs": []
    },
    {
      "cell_type": "code",
      "source": [
        "print(full_page.images)"
      ],
      "metadata": {
        "colab": {
          "base_uri": "https://localhost:8080/"
        },
        "id": "iwGazaOeYGHC",
        "outputId": "4473e936-027b-4f3d-91a9-8c4269fb4538"
      },
      "execution_count": 44,
      "outputs": [
        {
          "output_type": "stream",
          "name": "stdout",
          "text": [
            "['https://upload.wikimedia.org/wikipedia/commons/1/1e/1_James_Rodr%C3%ADguez.jpg', 'https://upload.wikimedia.org/wikipedia/commons/b/b3/Bandera_de_Bolivia_%28Estado%29.svg', 'https://upload.wikimedia.org/wikipedia/commons/8/89/Bronze_medal_icon.svg', 'https://upload.wikimedia.org/wikipedia/commons/1/1a/Flag_of_Argentina.svg', 'https://upload.wikimedia.org/wikipedia/commons/9/92/Flag_of_Brazil_%281889%E2%80%931960%29.svg', 'https://upload.wikimedia.org/wikipedia/commons/4/49/Flag_of_Brazil_%281960%E2%80%931968%29.svg', 'https://upload.wikimedia.org/wikipedia/commons/9/9a/Flag_of_Bulgaria.svg', 'https://upload.wikimedia.org/wikipedia/commons/4/4f/Flag_of_Cameroon.svg', 'https://upload.wikimedia.org/wikipedia/commons/d/d9/Flag_of_Canada_%28Pantone%29.svg', 'https://upload.wikimedia.org/wikipedia/commons/7/78/Flag_of_Chile.svg', 'https://upload.wikimedia.org/wikipedia/commons/2/21/Flag_of_Colombia.svg', 'https://upload.wikimedia.org/wikipedia/commons/1/1b/Flag_of_Croatia.svg', 'https://upload.wikimedia.org/wikipedia/commons/f/fe/Flag_of_C%C3%B4te_d%27Ivoire.svg', 'https://upload.wikimedia.org/wikipedia/commons/e/e8/Flag_of_Ecuador.svg', 'https://upload.wikimedia.org/wikipedia/commons/f/fe/Flag_of_Egypt.svg', 'https://upload.wikimedia.org/wikipedia/commons/5/5c/Flag_of_Greece.svg', 'https://upload.wikimedia.org/wikipedia/commons/c/c1/Flag_of_Hungary.svg', 'https://upload.wikimedia.org/wikipedia/commons/b/b5/Flag_of_Hungary_%281949-1956%3B_1-2_aspect_ratio%29.svg', 'https://upload.wikimedia.org/wikipedia/commons/c/c0/Flag_of_Jordan.svg', 'https://upload.wikimedia.org/wikipedia/commons/6/66/Flag_of_Malaysia.svg', 'https://upload.wikimedia.org/wikipedia/commons/2/27/Flag_of_Paraguay.svg', 'https://upload.wikimedia.org/wikipedia/commons/d/df/Flag_of_Peru_%28state%29.svg', 'https://upload.wikimedia.org/wikipedia/commons/5/5c/Flag_of_Portugal.svg', 'https://upload.wikimedia.org/wikipedia/commons/e/e6/Flag_of_Slovakia.svg', 'https://upload.wikimedia.org/wikipedia/commons/0/09/Flag_of_South_Korea.svg', 'https://upload.wikimedia.org/wikipedia/commons/c/ce/Flag_of_Tunisia.svg', 'https://upload.wikimedia.org/wikipedia/commons/b/b4/Flag_of_Turkey.svg', 'https://upload.wikimedia.org/wikipedia/commons/f/fe/Flag_of_Uruguay.svg', 'https://upload.wikimedia.org/wikipedia/commons/7/7b/Flag_of_Venezuela_%28state%29.svg', 'https://upload.wikimedia.org/wikipedia/commons/6/61/Flag_of_Yugoslavia_%281946-1992%29.svg', 'https://upload.wikimedia.org/wikipedia/commons/c/cb/Flag_of_the_Czech_Republic.svg', 'https://upload.wikimedia.org/wikipedia/commons/2/20/Flag_of_the_Netherlands.svg', 'https://upload.wikimedia.org/wikipedia/commons/a/a9/Flag_of_the_Soviet_Union.svg', 'https://upload.wikimedia.org/wikipedia/commons/7/72/James_Rodriguez.jpg', 'https://upload.wikimedia.org/wikipedia/commons/7/76/James_Rodriguez_-_panoramio.jpg', 'https://upload.wikimedia.org/wikipedia/commons/7/79/James_Rodriguez_2018.jpg', 'https://upload.wikimedia.org/wikipedia/commons/e/ea/James_Rodriguez_2019.jpg', 'https://upload.wikimedia.org/wikipedia/commons/f/fe/James_Rodriguez_2022.jpg', 'https://upload.wikimedia.org/wikipedia/commons/0/07/James_Rodr%C3%ADguez_1.jpg', 'https://upload.wikimedia.org/wikipedia/commons/b/bf/James_Rodr%C3%ADguez_2016.jpg', 'https://upload.wikimedia.org/wikipedia/en/4/4a/Commons-logo.svg', 'https://upload.wikimedia.org/wikipedia/en/0/05/Flag_of_Brazil.svg', 'https://upload.wikimedia.org/wikipedia/en/b/be/Flag_of_England.svg', 'https://upload.wikimedia.org/wikipedia/en/c/c3/Flag_of_France.svg', 'https://upload.wikimedia.org/wikipedia/en/b/ba/Flag_of_Germany.svg', 'https://upload.wikimedia.org/wikipedia/en/0/03/Flag_of_Italy.svg', 'https://upload.wikimedia.org/wikipedia/en/9/9e/Flag_of_Japan.svg', 'https://upload.wikimedia.org/wikipedia/en/1/12/Flag_of_Poland.svg', 'https://upload.wikimedia.org/wikipedia/en/f/f3/Flag_of_Russia.svg', 'https://upload.wikimedia.org/wikipedia/en/4/4c/Flag_of_Sweden.svg', 'https://upload.wikimedia.org/wikipedia/en/a/a4/Flag_of_the_United_States.svg', 'https://upload.wikimedia.org/wikipedia/en/8/8a/OOjs_UI_icon_edit-ltr-progressive.svg']\n"
          ]
        }
      ]
    },
    {
      "cell_type": "code",
      "source": [
        "print(full_page.references)"
      ],
      "metadata": {
        "colab": {
          "base_uri": "https://localhost:8080/"
        },
        "id": "PjYnrww3fhAD",
        "outputId": "91c82a69-212a-4ccd-ab3f-e18f6de7f828"
      },
      "execution_count": 45,
      "outputs": [
        {
          "output_type": "stream",
          "name": "stdout",
          "text": [
            "['http://www.smh.com.au/fifa-world-cup-2014/world-cup-news-2014/tearful-james-rodriguez-hits-out-at-referee-after-colombia-exit-world-cup-20140705-zsx8x.html', 'http://tricoloresenelexterior.blogspot.com.co/2011/03/los-futbolistas-colombianos-mas-jovenes.html', 'http://www.caracol.com.co/noticias/deportes/rechazan-oferta-de-5-millones-de-euros-por-james-rodriguez/20100215/nota/953948.aspx', 'http://fcf.com.co/index.php/2019/05/30/lista-de-23-jugadores-para-la-copa-america-brasil-2019/', 'http://www.asm-fc.com/fr/communaute/sondages-322.html?poll_id=19#19', 'http://bleacherreport.com/articles/1632746-manchester-united-5-transfers-who-could-bring-some-creativity-to-their-midfield/page/2', 'http://bleacherreport.com/articles/1650526-as-monaco-agrees-to-deal-for-porto-stars-joao-moutinho-and-james-rodriguez', 'http://bleacherreport.com/articles/1720086-the-15-best-wingers-in-world-football/page/6', 'http://bleacherreport.com/articles/1851089-belgium-vs-colombia-score-grades-and-post-match-reaction', 'http://bleacherreport.com/articles/2119767-james-rodriguez-consoled-by-david-luiz-as-brazil-eliminate-colombia-at-world-cup', 'http://www.caughtoffside.com/2013/03/19/man-united-launch-25m-bid-for-in-form-south-american-winger/', 'http://www.ole.clarin.com/notas/2010/02/14/futbollocal/02139903.html', 'http://www.ole.clarin.com/notas/2010/03/10/futbollocal/02156514.html', 'http://colombiareports.com/colombia-news/sports/26408-rodriguez-scoops-portuguese-award.html', 'http://comutricolor.com/golazo-james-rennes-ligue-1-francia/', 'http://www.eltiempo.com/deportes/futbol/jackson-martinez-marco-gol-en-el-triunfo-del-porto-2-0-sobre-estoril_12666904-4', 'http://www.eltiempo.com/deportes/futbol/james-rodriguez-recayo-de-su-lesion-muscular-en-partido-con-fc-porto_12494742-4', 'http://kwese.espn.com/football/report?gameId=499515', 'http://www.espn.com/soccer/bayern-munich/story/3440457/bayern-munich-in-no-rush-to-add-james-rodriguez-on-permanent-deal-chief', 'http://www.espn.com/soccer/report?gameId=477648', 'http://www.espndeportes.com/futbol/cronica?id=285893', 'http://www.espnfc.com/international-friendly/story/2603589/james-rodriguez-and-jackson-martinez-minor-injuries-colombia', 'http://www.espnfc.com/spanish-copa-del-rey/80/statistics/assists?season=2016', 'http://www.espnfc.com/stats/assists/_/league/fra.1/french-ligue-1?cc=5901', 'http://www.espnfc.com/stats/assists/_/league/fra.1/french-ligue-1?cc=5739', 'http://fabwags.com/daniela-ospina-colombian-soccer-player-james-rodriguez-wife/', 'http://resources.fifa.com/mm/document/ballon-dor/puskasaward/02/50/58/03/puskas_votes_1_neutral.pdf', 'http://www.foxnews.com/sports/2014/07/03/colombia-james-rodriguez-proud-father-and-man-brazil-most-fears-at-world-cup/', 'http://msn.foxsports.com/soccer/story/recovering-falcao-left-off-colombia-s-final-23-player-world-cup-roster-060214', 'http://www.futbolyou.com/en/articles/CompraJames06072010.pdf', 'http://www.futbolyou.com/en/articles/RelatorioContas1S10CONSOLIDADO.pdf', 'http://espndeportes-akamai.espn.go.com/futbol/jugador/_/id/82816/james-rodriguez', 'http://www.goal.com/en-gh/news/4398/transfer-zone/2013/05/24/4001585/breaking-news-moutinho-rodriguez-sign-for-monaco', 'http://www.goal.com/en-us/news/falcao-and-james-join-injured-duo-in-colombias-world-cup/wnbuppcvblfj1humzah4jkfbq', 'http://www.goal.com/en/news/1056/copa-libertadores/2010/05/07/1912475/internacional-2-0-banfield-agg-3-3-inter-progress-to-last', 'http://www.goal.com/en/news/3376/goalcom-youth-football/2010/03/13/1830510/goalcom-scouting-report-james-rodriguez-banfield', 'http://www.goal.com/en/news/james-rod/1mugl77wy9d541exdz6rcd0eqt', 'http://hereisthecity.com/2013/03/14/manchester-united-target-james-rodriguez-unhappy-being-benched-b/', 'http://hereisthecity.com/2013/03/15/porto-coach-hits-back-at-unhappy-manchester-united-target-james/', 'http://www.irishtimes.com/sport/soccer/international/james-rodriguez-and-colombia-continue-to-excite-1.1844145', 'http://www.ligabbva.com/2544_liga-bbva/2637856_james-rodriguez-zidane-fue-mi-idolo-y-siempre-fui-del-real-madrid.html', 'http://www.marca.com/2014/06/29/en/football/international_football/1404038474.html', 'http://www.marca.com/2015/02/04/futbol/equipos/real_madrid/1423081017.html', 'http://www.marca.com/en/2014/11/13/en/football/real_madrid/1415903429.html', 'http://www.marca.com/en/2015/04/05/en/football/real_madrid/1428255700.html', 'http://www.marca.com/en/2015/04/05/en/football/real_madrid/1428238968.html', 'http://www.marca.com/en/2015/08/30/en/football/real_madrid/1440889780.html', 'http://www.marca.com/en/2015/08/31/en/football/real_madrid/1441010072.html', 'http://www.marca.com/en/football/international-football/2018/02/15/5a85e148468aebbb7d8b4589.html', 'http://www.mlssoccer.com/post/2016/06/03/usa-0-colombia-2-copa-america-centenario-match-recap', 'http://www.mundodeportivo.com/20140511/futbol/ibrahimovic-mejor-jugador-de-francia-james-rodriguez-tercero_54407819411.html', 'http://www.national-football-teams.com/player/45187/James_Rodriguez.html', 'http://www.nicematin.com/as-monaco/james-rodriguez-las-monaco-joue-le-titre.1639692.html', 'http://www.onzemondial.com/ligue-1/35302-james-rodriguez-est-le-meilleur-joueur-de-ligue-1', 'http://www.realmadrid.com/en/football/squad/james-rodriguez', 'http://www.realmadrid.com/en/news/2015/09/james-medical-report', 'http://www.realmadrid.com/en/news/2016/05/five-madridistas-pick-up-prizes-at-the-facebook-football-awards', 'http://www.realmadrid.com/en/news/2017/07/official-announcement-james-rodriguez', 'http://www.rsssf.com/tablest/toulon2011.html', 'http://www.skysports.com/football/bolivia-vs-colombia/349917', 'http://www.skysports.com/football/colombia-vs-ecuador/349923', 'http://www.skysports.com/football/korea-rep-vs-colombia/385588', 'http://www1.skysports.com/football/news/11835/9390467/transfer-news-james-rodriguez-undergoing-medical-in-madrid-ahead-of-real-move', 'http://www.theguardian.com/football/2014/jun/27/james-rodriguez-colombia-football-superstar-world-cup-2014-brazil', 'http://www.uefa.com/memberassociations/association=fra/domesticleague/season=2014/matches/match=200101269/live/index.html', 'http://www.uefa.com/memberassociations/association=por/news/newsid=1954050.html?rss=1954050+Unbeaten+Porto+wrap+up+27th+league+title', 'http://www.uefa.com/uefachampionsleague/news/newsid=2121422.html', 'http://www.uefa.com/uefachampionsleague/season=2013/matches/round=2000347/match=2009505/postmatch/report/index.html', 'http://www.uefa.com/uefachampionsleague/season=2016/matches/round=2000638/match=2015789/postmatch/report/index.html', 'http://www.uefa.com/uefachampionsleague/season=2017/matches/round=2000787/match=2019641/postmatch/report/index.html', 'http://www.whoscored.com/Graphics/306/Show?sortBy=Date', 'http://worldsoccertalk.com/2014/07/03/james-rodriguez-the-life-story-of-colombias-brightest-star/', 'http://uk.eurosport.yahoo.com/news/football-james-rodriguez-double-monaco-win-bastia-185546419--sow.html', 'http://uk.eurosport.yahoo.com/news/international-friendlies-matchpack-netherlands-v-colombia-172441834--sow.html', 'http://sg.news.yahoo.com/world-cup-bound-colombia-draws-tunisia-1-1-210056404.html', 'http://www.kicker.de/news/fussball/bundesliga/vereine/2017-18/45914/vereinsspieler_james-rodriguez.html', 'http://catalogo.bne.es/uhtbin/authoritybrowse.cgi?action=display&authority_id=XX5548599', 'http://www.laliga.es/en/news/james-rodriguez-201415-liga-bbva-best-midfielder', 'http://www.laliga.es/en/news/the-201415-liga-bbva-ideal-xi', 'http://www.laliga.es/noticias/real-madrid-campeon-de-laliga-santander-2016-17', 'http://www.planete-asm.fr/actualite/12217-joao-moutinho-toujours-absent-james-rodriguez-de-retour.html', 'http://pubmed.ncbi.nlm.nih.gov/26993764', 'http://www.portugoal.net/index.php/more-fc-porto-news/39777-porto-back-on-winning-track', 'http://www.colfutbol.org/index.php?option=com_content&view=article&id=2306:convocatoria-seleccion-colombia-mayores-para-juego-ante-bolivia&catid=19:seleccion-mayores&Itemid=9', 'http://doi.org/10.1016%2Fj.ympev.2016.03.010', 'http://id.worldcat.org/fast/1952020/', 'http://www.worldcat.org/issn/0362-4331', 'http://web3.cmvm.pt/sdi2004/emitentes/docs/FR33842.pdf', 'http://web3.cmvm.pt/sdi2004/emitentes/docs/PC30483.pdf', 'http://www.fcporto.pt/IncFCP/PDF/Investor_Relations/FactosRelevantes/ir_renovacaojamesrodriguez_130611.pdf', 'http://www.fcporto.pt/IncFCP/PDF/Investor_Relations/FactosRelevantes/ir_RecompraJames3501022013_010213.pdf', 'http://www.fcporto.pt/IncFCP/PDF/Investor_Relations/RelatoriosContas/RelatorioContas1S12CONSOLIDADO.pdf', 'http://www.maisfutebol.iol.pt/fcporto/james-fc-porto-porto-vitor-pereira/1429734-1304.html', 'http://www.maisfutebol.iol.pt/fcporto/james-rodriguez-colombia-radamel-falcao-jackson-martinez-bolivia-futebol/1432240-1304.html', 'http://www.lpfp.pt/noticias/Pages/Jamesrecebeupr%C3%A9miodeMelhorJogadordoM%C3%AAs.aspx', 'http://www.record.pt/futebol/futebol-nacional/liga-nos/detalhe/james-suspenso-por-1-jogo-718053.html', 'http://www.record.xl.pt/Futebol/Nacional/1a_liga//interior.aspx?content_id=781356', 'http://www.record.xl.pt/Futebol/interior_premium.aspx?content_id=796439', 'http://www.footballboots.co.uk/20370-james-rodriguez-gold-miadidas.html', 'http://www.sportsmole.co.uk/football/real-madrid/injury-news/news/james-benzema-train-on-tuesday_254505.html', 'http://www.sportsmole.co.uk/football/vannes-oc/coupe-de-france/live-commentary/live-commentary-vannes-oc-2-3-as-monaco-as-it-happened_128499.html', 'http://www.espnfc.us/colombia/story/2885375/colombia-can-go-far-at-copa-america-centenario-jose-pekerman', 'http://www.espnfc.us/colombia/story/2887593/james-rodriguez-to-miss-colombias-match-against-paraguay-with-injury', 'http://www.teamtalk.co.za/match/222356/lineup', 'https://www.bdfa.com.ar/jugadores-47275.html', 'https://colombia.as.com/colombia/2017/03/28/futbol/1490702810_818901.html', 'https://www.bavarianfootballworks.com/2017/8/19/16173604/james-rodriguez-loan-info-leaks', 'https://www.bbc.com/sport/0/football/28274011', 'https://www.bbc.com/sport/0/football/28294339', 'https://www.bbc.com/sport/0/football/28418131', 'https://www.bbc.com/sport/0/football/29210808', 'https://www.bbc.com/sport/football/39926301', 'https://www.bbc.com/sport/football/53992937', 'https://www.bbc.com/sport/football/53998282', 'https://www.bbc.com/sport/football/54045208', 'https://www.bbc.com/sport/football/54127844', 'https://www.bbc.com/sport/football/54305845', 'https://www.bbc.com/sport/football/55867139', 'https://www.bbc.com/sport/live/football/27463709', 'https://www.beinsports.com/au/football/news/james-fires-colombia-into-quarter-final/274643', 'https://www.besoccer.com/new/james-fan-club-in-qatar-for-his-al-rayyan-debut-1056665', 'https://bundesliga.com/en/bundesliga/news/bayern-munich-mainz-live-line-ups-stats-thomas-muller-james-rodriguez-hummels-3035', 'https://www.bundesliga.com/en/bundesliga/news/rb-leipzig-bayern-munich-live-dfb-cup-final-james-rodriguez-lewandowski-neuer-4678', 'https://www.bundesliga.com/en/news/Bundesliga/bayern-munich-bayer-leverkusen-live-blog-james-rodiguez-lewandowski-muller-512150.jsp', 'https://www.bundesliga.com/en/news/Bundesliga/fifa-18-ultimate-team-of-the-season-james-rodriguez-reus-lewandowski-pulisic-479371.jsp', 'https://www.bundesliga.com/en/news/Bundesliga/james-rodriguez-key-to-bayern-munich-s-27th-german-title-477935.jsp', 'https://www.bundesliga.com/en/news/Bundesliga/james-rodriguez-bayern-munich-champions-league-loss-to-real-madrid-not-fair-480335.jsp', 'https://www.caracoltv.com/actualidad/conoce-los-detalles-mas-intimos-del-nacimiento-de-samuel-el-hijo-de-james-rodriguez', 'https://arabic.cnn.com/sport/article/2021/09/22/alrayyan-james-rodrigues-deal', 'https://copaamerica.com/es/noticias/El-equipo-ideal-de-la-CONMEBOL-Copa-America-Brasil-2019', 'https://www.espn.com/soccer/colombia/story/3533651/colombias-james-rodriguez-not-starting-against-japan-after-calf-injury', 'https://www.espn.com/soccer/colombia/story/3548903/colombias-james-rodriguez-injured-during-senegal-world-cup-game', 'https://www.espn.com/soccer/colombia/story/3820651/reports-bayerns-james-rodriguez-earns-spanish-citizenship', 'https://www.evertonfc.com/news/1814775/everton-complete-signing-of-james-rodriguez', 'https://fcbayern.com/en/news/2017/07/press-release-james-rodriguez', 'https://fcbayern.com/en/news/2019/06/james-rodriguez-to-leave-fc-bayern', 'https://www.festival-foot-espoirs.com/festival/detail_actualite.php?id=2939', 'https://www.fifa.com/ballon-dor/puskas-award/video=2463790/index.html', 'https://www.fifa.com/tournaments/mens/worldcup/2014brazil/news/rodriguez-it-s-a-dream-come-true-2418837', 'https://www.fifa.com/u20worldcup/archive/colombia2011/statistics/players/goal-scored.html', 'https://www.fifa.com/world-match-centre/nationalleagues/nationalleague=france-ligue-1-2000000018/matches/match=as-monaco-fc-sochaux-300241810/index.html', 'https://www.fifa.com/world-match-centre/nationalleagues/nationalleague=spain-liga-2000000037/news/newsid/240/391/6/', 'https://www.fifa.com/world-match-centre/news/newsid/240/745/1/index.html?intcmp=fifacom_hp_module_news', 'https://www.fifa.com/world-match-centre/news/newsid/242/028/1/index.html', 'https://www.fifa.com/worldcup/games/dream-team/index.html', 'https://www.fifa.com/worldcup/matches/round=255931/match=300186471/index.html#nosticky', 'https://www.fifa.com/worldcup/matches/round=255931/match=300186468/index.html#nosticky', 'https://www.fifa.com/worldcup/matches/round=255931/match=300186457/match-report.html', 'https://www.fifa.com/worldcup/matches/round=255951/match=300186491/', 'https://www.fifa.com/worldcup/news/review-poland--colombia-2967752', 'https://www.fifa.com/worldcup/news/y=2013/m=3/news=south-american-hopefuls-enter-final-straight-2039441.html', 'https://www.fifa.com/worldcup/news/y=2014/m=6/news=rodriguez-hits-front-as-perisic-goes-home-in-second-2387611.html', 'https://www.fifa.com/worldcup/news/y=2014/m=6/news=tabarez-james-is-the-best-player-at-the-world-cup-2389273.html', 'https://www.fifa.com/worldcup/news/y=2014/m=7/news=departing-rodriguez-soaks-up-adulation-2399967.html', 'https://www.fifa.com/worldcup/news/y=2014/m=7/news=messi-heralded-as-brazil-2014-s-best-2404615.html', 'https://www.fifa.com/worldcup/news/y=2014/m=7/news=rodriguez-volley-named-goal-of-the-tournament-2406962.html', 'https://www.fifa.com/worldcup/players/player/269058/', 'https://www.fifa.com/worldcup/preliminaries/news/newsid=1683480/', 'https://www.fifa.com/worldcup/preliminaries/news/newsid=1683480/index.html', 'https://www.fifa.com/worldcup/statistics/castrol-index/top11.html', 'https://www.fifadata.com/documents/FWC/2018/pdf/FWC_2018_SQUADLISTS.PDF', 'https://www.forbes.com/profile/james-rodriguez/', 'https://www.goal.com/en-us/news/3298/portugal/2011/05/22/2498741/porto-6-2-vitoria-guimaraes-james-rodriguez-hat-trick-helps', 'https://www.goal.com/en/news/1701/colombia/2011/10/13/2709666/portos-james-rodriguez-over-the-moon-after-excellent', 'https://www.goal.com/en/news/james-rodriguez-out-world-cup-qualifiers-colombia-injury/1blkkoyv0qazo1ocl7ob4x0ta4', 'https://www.laliga.com/en-GB/news/real-madrid-win-2019-20-laliga-santander', 'https://laopinion.com/2014/07/08/religious-faith-keeps-these-soccer-players-going-in-the-world-cup/', 'https://en.liderendeportes.com/news/Beach-football/the-second-son-of-james-rodriguez-is-born-samuel/', 'https://www.marca.com/2014/07/22/en/football/real_madrid/1406055549.html', 'https://www.marca.com/en/football/copa-america/2021/05/28/60b0fbe6268e3e585d8b4626.html', 'https://www.marca.com/en/football/real-madrid/2019/04/08/5cab68ba268e3e72018b463d.html', 'https://www.marca.com/en/football/real-madrid/2020/07/17/5f10db2146163f3c2c8b45d7.html', 'https://www.marca.com/en/football/real-madrid/cronica/2020/01/12/5e1b882ce2704e6d7a8b4598.html', 'https://www.nytimes.com/2016/06/26/sports/soccer/copa-america-united-states-colombia.html', 'https://www.realmadrid.com/en/news/2014/07/the-james-rodriguez-story', 'https://www.realmadrid.com/en/news/2016/01/6-0-real-madrid-hand-out-a-thrashing-as-cristiano-ronaldo-nets-a-hat-trick', 'https://www.realmadrid.com/football/signings', 'https://www.reuters.com/article/uk-soccer-portugal-idUKBRE94I0BU20130519', 'https://www.soccerbase.com/players/player.sd?player_id=58707&season_id=153', 'https://int.soccerway.com/players/james-david-rodriguez/72408/', 'https://us.soccerway.com/matches/2012/11/02/portugal/portuguese-liga-/futebol-clube-do-porto/maritimo-funchal/1316833/', 'https://us.soccerway.com/matches/2012/11/25/portugal/portuguese-liga-/sporting-braga/futebol-clube-do-porto/1316851/', 'https://www.sportsbusinessdaily.com/Global/Issues/2014/07/25/Marketing-and-Sponsorship/Rodriguez.aspx', 'https://theathletic.com/news/james-rodriguez-injury-colombia-copa-america/9p6Ho53cPYse', 'https://www.theguardian.com/football/2014/jun/28/colombia-uruguay-world-cup-2014-last-16-match-report', 'https://www.theguardian.com/football/2015/jun/27/copa-america-argentina-beat-colombia-in-shootout-after-tense-stalemate', 'https://www.theguardian.com/football/blog/2014/jul/22/james-rodriguez-real-madrid-masterplan', 'https://www.theguardian.com/football/blog/2015/jun/26/james-rodriguez-copa-america-colombia-argentina', 'https://www.theguardian.com/football/match-redirect/3996941', 'https://www.thestatesman.com/sports/james-rodriguez-next-superstar-colombian-football-carlos-valderrama-1502491346.html', 'https://twitter.com/AlrayyanSC/status/1440699341287550985', 'https://twitter.com/alkass_digital/status/1453028532343480322', 'https://www.uefa.com/news/01f1-0e7881aae470-341ed100c389-1000--dominant-porto-sweep-guimaraes-aside/', 'https://www.uefa.com/uefachampionsleague/match/2009520--porto-vs-dynamo-kyiv/postmatch/report/', 'https://www.uefa.com/uefachampionsleague/news/newsid=2560100.html', 'https://www.uefa.com/uefaeuropaleague/match/2003044--porto-vs-cska-sofia/postmatch/report/', 'https://uk.eurosport.yahoo.com/news/world-cup-colombia-uruguay-matchpack-will-suarez-prove-072519200--sow.html', 'https://sports.yahoo.com/blogs/soccer-dirty-tackle/james-rodriguez-scores-with-stunning-volley-into-the-far-corner-154853035.html', 'https://sports.yahoo.com/news/danilo-sidelined-month-foot-injury-141540792--sow.html', 'https://www.youtube.com/watch?v=CDASVFqr9tk', 'https://www.youtube.com/watch?v=R6A-FUpEjDw', 'https://www.youtube.com/watch?v=Ui182WZVvKY', 'https://www.youtube.com/watch?v=Z4kYlKINu4o', 'https://www.youtube.com/watch?v=lBCXOQUkYms', 'https://id.loc.gov/authorities/names/no2015075047', 'https://id.ndl.go.jp/auth/ndlna/001212781', 'https://desporto.sapo.mz/futebol/primeira-liga/artigos/james-rodriguez-eleito-melhor-jogador-das-primeiras-cinco-jornadas', 'https://www.football-espana.net/2022/03/31/james-rodriguez-hints-that-his-days-with-the-colombian-national-team-may-be-over', 'https://web.archive.org/web/20100325074023/http://www.ole.clarin.com/notas/2010/02/14/futbollocal/02139903.html', 'https://web.archive.org/web/20100415024628/http://www.ole.clarin.com/notas/2010/03/10/futbollocal/02156514.html', 'https://web.archive.org/web/20110525075249/https://www.goal.com/en-us/news/3298/portugal/2011/05/22/2498741/porto-6-2-vitoria-guimaraes-james-rodriguez-hat-trick-helps', 'https://web.archive.org/web/20110705122806/http://www.fcporto.pt/IncFCP/PDF/Investor_Relations/FactosRelevantes/ir_renovacaojamesrodriguez_130611.pdf', 'https://web.archive.org/web/20111002215423/http://www.colfutbol.org/index.php?option=com_content&view=article&id=2306:convocatoria-seleccion-colombia-mayores-para-juego-ante-bolivia&catid=19:seleccion-mayores&Itemid=9', 'https://web.archive.org/web/20120829062219/http://www.fifa.com/worldcup/preliminaries/news/newsid=1683480/index.html', 'https://web.archive.org/web/20121006000952/http://www.uefa.com/uefachampionsleague/season=2013/matches/round=2000347/match=2009505/postmatch/report/index.html#rodriguez+cracks+psg', 'https://web.archive.org/web/20121114014746/http://www.lpfp.pt/noticias/Pages/Jamesrecebeupr%C3%A9miodeMelhorJogadordoM%C3%AAs.aspx', 'https://web.archive.org/web/20130101111334/http://www.record.xl.pt/Futebol/interior_premium.aspx?content_id=796439', 'https://web.archive.org/web/20130320020445/http://www.fcporto.pt/IncFCP/PDF/Investor_Relations/RelatoriosContas/RelatorioContas1S12CONSOLIDADO.pdf', 'https://web.archive.org/web/20130505071851/http://www.caughtoffside.com/2013/03/19/man-united-launch-25m-bid-for-in-form-south-american-winger/', 'https://web.archive.org/web/20130525195910/http://portugoal.net/index.php/more-fc-porto-news/39777-porto-back-on-winning-track', 'https://web.archive.org/web/20130923061408/http://www.fcporto.pt/IncFCP/PDF/Investor_Relations/FactosRelevantes/ir_RecompraJames3501022013_010213.pdf', 'https://web.archive.org/web/20131002174420/http://www.fifa.com/worldcup/preliminaries/news/newsid=1683480/', 'https://web.archive.org/web/20131204054233/http://www.youtube.com/watch?v=Ui182WZVvKY', 'https://web.archive.org/web/20140108053248/http://www.sportsmole.co.uk/football/vannes-oc/coupe-de-france/live-commentary/live-commentary-vannes-oc-2-3-as-monaco-as-it-happened_128499.html', 'https://web.archive.org/web/20140111230543/http://uk.eurosport.yahoo.com/news/international-friendlies-matchpack-netherlands-v-colombia-172441834--sow.html', 'https://web.archive.org/web/20140301045942/http://www.onzemondial.com/ligue-1/35302-james-rodriguez-est-le-meilleur-joueur-de-ligue-1', 'https://web.archive.org/web/20140305123921/http://www.nicematin.com/as-monaco/james-rodriguez-las-monaco-joue-le-titre.1639692.html', 'https://web.archive.org/web/20140305151102/http://uk.eurosport.yahoo.com/news/football-james-rodriguez-double-monaco-win-bastia-185546419--sow.html', 'https://web.archive.org/web/20140309001347/http://www.fifa.com/world-match-centre/nationalleagues/nationalleague=france-ligue-1-2000000018/matches/match=as-monaco-fc-sochaux-300241810/index.html', 'https://web.archive.org/web/20140528003307/http://www.fifa.com/worldcup/games/dream-team/index.html', 'https://web.archive.org/web/20140605221501/http://www.fifa.com/worldcup/matches/round=255931/match=300186471/index.html#nosticky', 'https://web.archive.org/web/20140608001423/http://www.fifa.com/worldcup/matches/round=255931/match=300186468/index.html#nosticky', 'https://web.archive.org/web/20140624221311/http://www.fifa.com//worldcup/matches/round=255931/match=300186457/match-report.html', 'https://web.archive.org/web/20140630003331/http://www.fifa.com/worldcup/news/y=2014/m=6/news=rodriguez-hits-front-as-perisic-goes-home-in-second-2387611.html', 'https://web.archive.org/web/20140630075700/http://www.fifa.com/worldcup/matches/round=255951/match=300186491/', 'https://web.archive.org/web/20140702165655/http://www.fifa.com/worldcup/news/y=2014/m=6/news=tabarez-james-is-the-best-player-at-the-world-cup-2389273.html', 'https://web.archive.org/web/20140703191829/http://www.telegraph.co.uk/sport/football/world-cup/10942617/World-Cup-2014-no-ceiling-to-what-Colombian-James-Rodriguez-can-achieve.html', 'https://web.archive.org/web/20140705170825/http://www.fifa.com//worldcup/news/y=2014/m=7/news=departing-rodriguez-soaks-up-adulation-2399967.html', 'https://web.archive.org/web/20140708200613/http://www.fifa.com/worldcup/news/y=2013/m=3/news=south-american-hopefuls-enter-final-straight-2039441.html', 'https://web.archive.org/web/20140714183312/https://uk.eurosport.yahoo.com/news/world-cup-colombia-uruguay-matchpack-will-suarez-prove-072519200--sow.html', 'https://web.archive.org/web/20140715002327/http://www.asm-fc.com/fr/communaute/sondages-322.html?poll_id=19#19', 'https://web.archive.org/web/20140715211938/http://www.fifa.com/worldcup/news/y=2014/m=7/news=messi-heralded-as-brazil-2014-s-best-2404615.html', 'https://web.archive.org/web/20140721122511/http://www.fifa.com//worldcup/news/y=2014/m=7/news=rodriguez-volley-named-goal-of-the-tournament-2406962.html', 'https://web.archive.org/web/20140722164405/http://www.independent.co.uk/sport/football/transfers/james-rodriguez-joins-real-madrid-world-cup-star-completes-63m-move-9621152.html', 'https://web.archive.org/web/20140723042931/http://www.youtube.com/watch?v=lBCXOQUkYms', 'https://web.archive.org/web/20140729142130/http://www.fifa.com/world-match-centre/news/newsid/240/745/1/index.html?intcmp=fifacom_hp_module_news', 'https://web.archive.org/web/20140815032349/http://www.fifa.com/world-match-centre/news/newsid/242/028/1/index.html', 'https://web.archive.org/web/20141025031049/http://www.ligabbva.com/2544_liga-bbva/2637856_james-rodriguez-zidane-fue-mi-idolo-y-siempre-fui-del-real-madrid.html', 'https://web.archive.org/web/20141105084713/https://www.youtube.com/watch?v=R6A-FUpEjDw', 'https://web.archive.org/web/20141113200139/http://www.fifa.com/ballon-dor/puskas-award/video=2463790/index.html', 'https://web.archive.org/web/20141210203439/http://www.futbolyou.com/en/articles/CompraJames06072010.pdf', 'https://web.archive.org/web/20141219115801/http://www.fifa.com/worldcup/statistics/castrol-index/top11.html', 'https://web.archive.org/web/20141221033452/http://www.caracol.com.co/noticias/deportes/rechazan-oferta-de-5-millones-de-euros-por-james-rodriguez/20100215/nota/953948.aspx', 'https://web.archive.org/web/20150113185757/http://resources.fifa.com/mm/document/ballon-dor/puskasaward/02/50/58/03/puskas_votes_1_neutral.pdf', 'https://web.archive.org/web/20150621232409/http://www.fifa.com/world-match-centre/nationalleagues/nationalleague=spain-liga-2000000037/news/newsid/240/391/6/', 'https://web.archive.org/web/20150923225201/https://www.dn.pt/desporto/fc-porto/interior/tres-pontos-sofridos-e-um-grande-susto-por-james-2977596.html', 'https://web.archive.org/web/20150923225206/https://www.dn.pt/desporto/fc-porto/interior/dragoes-rejeitaram-30-milhoes-por-james-rodriguez-3112383.html', 'https://web.archive.org/web/20150924113614/http://www.teamtalk.co.za/match/222356/lineup', 'https://web.archive.org/web/20150924121123/http://www.record.xl.pt/Futebol/Nacional/1a_liga//interior.aspx?content_id=781356', 'https://web.archive.org/web/20170731191303/http://tricoloresenelexterior.blogspot.com.co/2011/03/los-futbolistas-colombianos-mas-jovenes.html', 'https://web.archive.org/web/20171023010652/http://www.laliga.es/en/news/james-rodriguez-201415-liga-bbva-best-midfielder', 'https://web.archive.org/web/20171023011212/http://www.fifa.com/u20worldcup/archive/colombia2011/statistics/players/goal-scored.html', 'https://web.archive.org/web/20180623170142/https://www.fifa.com/worldcup/players/player/269058/', 'https://web.archive.org/web/20180915085526/http://www.laliga.es/en/news/the-201415-liga-bbva-ideal-xi', 'https://web.archive.org/web/20190605201623/http://worldsoccertalk.com/2014/07/03/james-rodriguez-the-life-story-of-colombias-brightest-star/', 'https://web.archive.org/web/20190605201628/http://espndeportes-akamai.espn.go.com/futbol/jugador/_/id/82816/james-rodriguez', 'https://web.archive.org/web/20190605201640/https://www.marca.com/2014/06/29/en/football/international_football/1404038474.html', 'https://web.archive.org/web/20190611000407/https://www.fifadata.com/documents/FWC/2018/pdf/FWC_2018_SQUADLISTS.PDF', 'https://web.archive.org/web/20200802033555/http://www.futbolyou.com/en/articles/RelatorioContas1S10CONSOLIDADO.pdf', 'https://ghostarchive.org/archive/20220111/https://www.telegraph.co.uk/sport/football/competitions/la-liga/10984356/How-Real-Madrid-and-Barcelona-could-line-up-following-stunning-signings-of-James-Rodriguez-and-Luis-Suarez.html', 'https://ghostarchive.org/varchive/youtube/20211215/CDASVFqr9tk', 'https://ghostarchive.org/varchive/youtube/20211215/Z4kYlKINu4o', 'https://isni.org/isni/000000045096764X', 'https://viaf.org/viaf/316745308', 'https://www.wikidata.org/wiki/Q368441#identifiers', 'https://www.worldcat.org/identities/lccn-no2015075047/', 'https://elcomercio.pe/deporte-total/futbol-mundial/chile-igualo-1-1-colombia-eliminatorias-rusia-2018-241315-noticia/', 'https://elcomercio.pe/deporte-total/futbol-mundial/colombia-vencio-2-0-venezuela-eliminatorias-rusia-2018-253319-noticia/', 'https://www.dn.pt/desporto/fc-porto/interior/dragoes-rejeitaram-30-milhoes-por-james-rodriguez-3112383.html', 'https://www.dn.pt/desporto/fc-porto/interior/tres-pontos-sofridos-e-um-grande-susto-por-james-2977596.html', 'https://www.ligaportugal.pt/', 'https://www.ojogo.pt/destaques/interior/joao-moutinho-e-mais-dez-craques-2970550.html', 'https://www.ojogo.pt/multimedia/fotografias/interior/o-melhor-onze-da-i-liga-3610373.html', 'https://www.zerozero.pt/jogo.php?id=2256725', 'https://archive.today/20140820084145/http://www.telegraph.co.uk/sport/football/competitions/la-liga/11043806/Real-Madrid-vs-Atletico-Madrid-Spanish-Super-Cup-live.html', 'https://archive.today/20150118221757/http://www.espndeportes.com/futbol/cronica?id=285893', 'https://www.bbc.co.uk/sport/0/football/28279730', 'https://www.bbc.co.uk/sport/0/football/30786318', 'https://www.bbc.co.uk/sport/football/29275785', 'https://www.bbc.co.uk/sport/football/34749815', 'https://www.bbc.co.uk/sport/football/35749977', 'https://www.bbc.co.uk/sport/football/38491053', 'https://www.bbc.co.uk/sport/football/39640901', 'https://www.bbc.co.uk/sport/football/39765522', 'https://www.bbc.co.uk/sport/football/41324362', 'https://www.express.co.uk/sport/football/913326/Real-Madrid-James-Rodriguez-Bayern-Munich-Florentino-Perez-Zinedine-Zidane-transfer-news', 'https://www.independent.co.uk/sport/football/international/copa-america-2019-results-chile-colombia-alexis-sanchez-goal-man-utd-penalty-shootout-a8980161.html', 'https://www.independent.co.uk/sport/football/transfers/james-rodriguez-joins-real-madrid-world-cup-star-completes-63m-move-9621152.html', 'https://www.mirror.co.uk/sport/football/match-reports/rayo-vallecano-0-2-real-madrid-5480470', 'https://www.mirror.co.uk/sport/football/world-cup-2014/arsene-wenger-qa-arsenal-boss-3846900', 'https://www.mirror.co.uk/sport/football/world-cup-2014/world-cup-2014-chief-conductor-3778954', 'https://www.telegraph.co.uk/sport/football/competitions/la-liga/10984356/How-Real-Madrid-and-Barcelona-could-line-up-following-stunning-signings-of-James-Rodriguez-and-Luis-Suarez.html', 'https://www.telegraph.co.uk/sport/football/competitions/la-liga/11043806/Real-Madrid-vs-Atletico-Madrid-Spanish-Super-Cup-live.html', 'https://www.telegraph.co.uk/sport/football/world-cup/10942617/World-Cup-2014-no-ceiling-to-what-Colombian-James-Rodriguez-can-achieve.html']\n"
          ]
        }
      ]
    },
    {
      "cell_type": "code",
      "source": [
        "print(full_page.content)"
      ],
      "metadata": {
        "colab": {
          "base_uri": "https://localhost:8080/"
        },
        "id": "I5y07G6UYrix",
        "outputId": "b44ef178-d78e-496c-ade1-d16f1b81aa99"
      },
      "execution_count": 46,
      "outputs": [
        {
          "output_type": "stream",
          "name": "stdout",
          "text": [
            "James David Rodríguez Rubio (born 12 July 1991) is a Colombian professional footballer who plays as an attacking midfielder or winger for Qatar Stars League club Al-Rayyan and the Colombia national team. He has been praised in the past for his technique, vision and playmaking skills, and was often considered the successor to his compatriot Carlos Valderrama. Starting his career at Envigado, and then moving to Argentina side Banfield, James became well known in Europe during his time at Porto, winning several trophies and individual awards during his three years at the club. In 2014, James moved from AS Monaco to Real Madrid for a transfer fee of £63 million, which beat the one set by Radamel Falcao and made him the most expensive Colombian football player and one of the most expensive players at the time. In his debut season, he was named in the La Liga Team of the Season and won La Liga Best Midfielder. In 2017, he signed for German club Bayern Munich on a two-year loan deal. In the summer of 2020 he signed for Premier League club Everton on a free transfer.James started his international career with the Colombia under-20 team, with which he won the 2011 Toulon Tournament. He then captained the U-20 team during the 2011 FIFA U-20 World Cup. Due to his performance in the tournament, he was regularly called into the senior squad by the age of 20. He played in the 2014 and 2018 FIFA World Cup, winning the Golden Boot in 2014 and being included in the Cup's All Star Team. He also represented his nation at the 2015 Copa América, the Copa América Centenario in 2016, and the 2019 Copa América, winning a third-place medal in 2016.\n",
            "\n",
            "\n",
            "== Club career ==\n",
            "\n",
            "\n",
            "=== Envigado ===\n",
            "Born in Cúcuta, Norte de Santander, James spent his childhood in the city of Ibagué, Tolima. He was born to ex-footballer Wilson James Rodríguez Bedoya and Maria Del Pilar Rubio.James started his professional football career in 2006 with the Colombian second division club Envigado, with which he reached the Colombian first division through the 2007 promotion. He became the second youngest Colombian player to start a professional match, playing his first match on 21 May 2006, at the age of 14.\n",
            "\n",
            "\n",
            "=== Banfield ===\n",
            "\n",
            "\n",
            "==== 2008 ====\n",
            "In 2008, he was signed by Argentine team Banfield. He made his first team debut on 7 February 2009, and scored his first goal for the club on 27 February with a long range strike in a 3–1 victory over Rosario Central. He finished his first season with a goal in 11 appearances.\n",
            "\n",
            "\n",
            "==== 2009 ====\n",
            "In 2009, he became a regular first-team player, featuring in every game of the Apertura 2009. At just 17, he became the youngest foreigner to score a goal in Argentina. His second goal for Banfield came on 26 September, when he scored with a strike into the top corner from outside of the area in an important 2–1 win against Newell's Old Boys, a victory that helped Banfield win the Argentine championship for the first time in the club's history.In December 2009, Italian club Udinese planned to make a bid for James for a reported €5 million after the 2010 Copa Libertadores. However, Banfield rejected the bid, labelling it as \"insufficient\".For the Clausura 2010, on 13 February 2010, James scored a golazo in the match against archrivals Lanús with a left-footed lob to make the game 2–0 in the final minutes. After the game, daily sports website Diario Olé compared his playing and personal style to Cristiano Ronaldo and nicknamed him the \"James Bond of Banfield\".\n",
            "\n",
            "\n",
            "==== 2010 ====\n",
            "On 10 February 2010, James scored his first Copa Libertadores goal in a 2–1 home victory over Mexican club Monarcas Morelia. James added to his glowing reputation a week later with a goal in a daunting victory over Copa Libertadores group rivals Deportivo Cuenca away from home, scoring the fourth goal of the 4–1 victory with a nice left-footed finish in the box. His wonderful scoring season continued with a brace in the Copa Libertadores group match away to Uruguayan club Nacional on 10 March. James scored first with a diving header and then from the penalty spot in a 2–2 draw. The 18-year-old netted another goal against Brazilian club Internacional on 29 April 2010 in the first leg of the 2010 Copa Libertadores round 16, which Banfield won 3–1. This goal brought his tally to five goals in seven games. However, James' international season ended in defeat as his team went down on away goals with a 0–2 defeat in Porto Alegre in the second leg, in which James was red carded for two fouls.\n",
            "\n",
            "\n",
            "=== Porto ===\n",
            "\n",
            "\n",
            "==== 2010–11 season ====\n",
            "On 6 July 2010, James was signed by Porto for €5.1 million, with 30% economic rights retained by other parties. He signed a four-year contract with a €30 million release clause. Porto later re-sold 10% economic rights to third parties. On 18 July, he played his first game and scored his first goal in a friendly against Ajax. In November, Porto sold 35% economic rights (half of 70%) to Gol Football Luxembourg, S.A.R.L. for €2.5 million.On 15 December 2010, James scored his first competitive goal during a 3–1 Europa League home victory against Bulgarian club CSKA Sofia. On 17 May, Porto bought the remaining 30% economic rights from Convergence Capital Partners B.V. for €2.25 million and once again hold more than half of the economic rights with 55%. James scored a hat-trick and assisted once against Vitória de Guimarães in the 2011 Taça de Portugal Final, which Porto won 6–2. On 13 June, James signed a new five-year contract in which the release clause increased to €45 million. He finished the 2010–11 season with six goals and eight assists in 31 appearances. He also took home four trophies: the Super Cup title, the league title, the Europa League title, and the Cup title as Porto had a historic season.\n",
            "\n",
            "\n",
            "==== 2011–12 season ====\n",
            "In the 2011–12 season, James scored 14 goals for Porto and delivered 11 assists. In 2011, James won the LPFP Award for Breakthrough Player of 2011–12 Primeira Liga season at age 20, becoming the first Colombian player to do so. He is a two-time winner of the SJPF Player of the Month. James won the Portuguese Golden Ball award in 2012, becoming the second Colombian to win the award after Radamel Falcao as well as the youngest player ever to hold the honour. On 20 September 2011 in a league match against Feirense, he punched Rabiola and was subsequently dismissed, missing the match against Benfica.\n",
            "\n",
            "\n",
            "==== 2012–13 season ====\n",
            "In the 2012–13 season, James was given the number 10 shirt and became a regular starter. Since fellow Colombians Radamel Falcao, Fredy Guarín and Brazilian Hulk left the club during the last two seasons, James was able to start more regularly than before. In a match against Olhanense on 1 September, James scored a chip from a tight angle. In the same game, he assisted compatriot Jackson Martínez with a through ball for an eventual 3–2 win. James scored the team's third goal against Beira-Mar soon after assisting the first two goals in a 4–0 victory on 22 September.\n",
            "In the 2012–13 UEFA Champions League group stage, he scored against French club Paris Saint-Germain in a 1–0 victory, allowing Porto to top their current group. A few days later, James scored a penalty against rivals Sporting CP. Because of his great start to the 2012–13 season, James won the SJPF Player of the Month award for August/September. In the Champions League against Dinamo Kyiv on 24 October, he assisted Jackson Martínez to an eventual 3–2 home victory. James scored Porto's last two goals in a 5–0 win over Marítimo on 2 November. In the 90th minute against Braga, James scored a goal in an eventual 2–0 away victory.Prior to the second half of the season, James suffered a hamstring injury causing him to struggle to maintain fitness. In a match against Nacional on 5 January, he injured his hamstring once more and was subsequently substituted after the first half. The injury sidelined him for a month. On 1 February 2013, Porto bought back 35% economic rights of James from Gol Football Luxembourg for €8.75 million (by selling 47.5% economic rights of Diego Reyes for €3.5 million), which Porto sold in November 2010 for €2.5 million.\n",
            "James made his return at the 70th minute in the 2–0 victory over Beira-Mar on 23 February, his first match since being injured for more than a month. In his second league match since his return, James assisted a goal against Rio Ave with a wonderful cross. On 8 March, he assisted a goal against Estoril from a corner in a 2–0 victory. It was James' first start in two months. James did not start in the second leg of the Champions League match against Málaga until the second half when Porto was down to ten men after the dismiss of a defender. Porto lost the match and coach Vítor Pereira was greatly criticized and questioned why James did not start sooner considering that the player was a key member and Porto could have had a more solid team. James expressed his disappointment, claiming to be \"100%\" in good health (as well as giving a performance with no struggles shown). However, he also expressed his respect and understanding to the coach's concern. Despite an exit from the Champions League, James went on to become the second-most fouled player in the tournament that year.Manchester United reportedly made a bid for €30 million to purchase James, though Porto rejected the offer as being too low. James scored his first Taça da Liga goal, a penalty, in the 2012–13 Taça da Liga semi-final against Rio Ave. Porto won the match 4–0 and advanced to the final. In the final on 13 April, Porto lost 1–0 to Braga, with James playing 75 minutes. Five days before the final, James gave a man of the match performance against Braga, scoring the first goal and assisting two in a 3–1 victory.In the final match of the season against Paços de Ferreira on 19 May, James was tripped inside the box and secured a penalty that was later scored by Lucho Gonzalez, which contributed to the 2–0 victory that led to Porto's third consecutive league title. In all competitions that season, he scored 13 goals and provided 15 assists in 32 appearances. Winning the league title meant that James, at 21, won his eighth trophy since joining the club three years ago.\n",
            "\n",
            "\n",
            "=== Monaco ===\n",
            "On 25 May 2013, it was announced that James had joined AS Monaco for a transfer fee of €45 million, the second most expensive transfer in Portuguese football behind former teammate Hulk. James subsequently signed a five-year contract that was set to keep him at the club until 2018. This transfer made him not only one of the most expensive transfers in the club's history, but in Ligue 1 history as well, along as the one of the highest in world football. James made his Monaco debut against Bordeaux, a game Monaco went on to win 2–0. He then missed Monaco's second league match to avoid a possible injury. On 5 October against Saint-Étienne, James gave a man of the match performance by assisting both goals in a 2–1 victory.He finally scored his first goal for the club with a free-kick in a 2–0 win over Rennes. James scored another goal in the next match in the fourth minute against Nice, a game Monaco won 3–0. James began the 2014 calendar year by making his Coupe de France debut in a match against Vannes, where he both assisted and scored a goal in a 3–2 victory. James' first double at Monaco came in the match against Bastia, a 2–0 Monaco victory.In the French media, James was referred to as \"perhaps\" the best footballer in Ligue 1 due to his impressive debut season with Monaco, although he stated that he still required more time in the league to fully adapt. Following the international break, James scored his first penalty for Monaco against Sochaux in a 2–1 win. James ended his debut season without a trophy, though nonetheless helped Monaco secure a spot in the following season's UEFA Champions League. On an individual level, he earned a spot in the star Ligue 1 XI, and led Ligue 1 in assists for the season.\n",
            "\n",
            "\n",
            "=== Real Madrid ===\n",
            "\n",
            "In a post-match interview during the 2014 FIFA World Cup, James stated his \"love\", \"admiration\" and \"passion\" for Real Madrid, saying that it would be a \"life's dream\" to play for them after his performances aroused rumors linking him to the Spanish club.On 22 July 2014, James signed a six-year contract with the Spanish club for an undisclosed fee, which was reported to be approximately £63 million. At the time, this was the fourth-most expensive transfer in the world, the third-most expensive in Madrid's history, and the most expensive Colombian after surpassing Radamel Falcao's €60 million transfer in 2013. The amount spent on his transfer fee led many to referring James as a Galáctico after he was given the number 10 shirt worn by Madrid legends such as Luís Figo and Ferenc Puskás.James was greeted by a 45,000 attendance during his presentation. The Colombian ambassador in Madrid made a speech at the event and carried a message from Colombian President Juan Manuel Santos that James was changing the history of Colombian football and that the entire nation is behind him. Real Madrid President Florentino Pérez would follow with a speech of his own, stating that he welcomed James, a \"lover\" and \"long supporter\" of the club who will never forget the day he made his dream a reality.\n",
            "\n",
            "\n",
            "==== 2014–15 season ====\n",
            "\n",
            "James made his debut in the UEFA Super Cup at Cardiff City Stadium against Sevilla, in which Real Madrid won 2–0. He played 72 minutes before being replaced by Isco. On 19 August, James scored his first goal for Real Madrid against Atlético Madrid in the first leg of the Spanish Super Cup after coming on as a substitute for Cristiano Ronaldo at half-time. James made his Champions League debut for Real in the group stage opening match against Basel, where he scored the fourth goal in a 5–1 victory. James then scored his first league goal days later against Deportivo La Coruña, where he also supplied an assist in an 8–2 victory. James scored a brace in a 4–0 win at Granada on 1 November; his first goal was a dipping volley from a poor angle.In the match against Sevilla in which he scored the opening goal, James experienced a fracture on the fifth metatarsal in his right foot after being fouled. The injury required surgery and he was out of action for two months. James returned on 5 April in the match against Granada, where he assisted two goals in a 9–1 victory before being subbed at the 60th minute. Days later, James scored his first goal since his injury against Rayo Vallecano in a 2–0 victory.\n",
            "\n",
            "\n",
            "==== 2015–17 ====\n",
            "After being left on the bench for his team's season opener, a scoreless draw against Sporting Gijón, James made his first contribution of the season by giving a man of the match performance against Real Betis. The player scored with both a spectacular free-kick and bicycle kick and provided an assist for Gareth Bale. On 8 September 2015, during an international friendly match against Peru, James collided with Peruvian player Juan Manuel Vargas, and though he initially appeared able to continue, James was removed from the game as a precautionary measure. He was diagnosed with a thigh muscle tear, and didn't return to training until 27 October. James played his first match since the injury on 8 November, scoring in a 3–2 loss to Sevilla. On 31 January 2016, James scored and assisted Karim Benzema's goal in a 6–0 thrashing of Espanyol. On 8 March, he scored his first and only goal of the 2015–16 UEFA Champions League, in a 2–0 victory against Roma to help his club get into the quarter-finals. His team eventually won the Champions League, with James making 5 appearances.James made 22 appearances when Madrid won the 2016–17 La Liga, and six when Madrid won the 2016–17 UEFA Champions League. Despite scoring 11 goals, (including braces against Granada, Deportivo, and Sevilla), as well as providing 13 assists, he failed to gain more playing time under Zidane even with his influence on the pitch, leading him to request a loan transfer for more playing time.\n",
            "\n",
            "\n",
            "=== Bayern Munich and final year at Madrid ===\n",
            "\n",
            "On 11 July 2017, it was announced that James was loaned to Bayern Munich on a two-year long deal. Bayern paid Real Madrid €13 million as a loan fee for the two season-long loan. With James' loan deal to Bayern, he reunited with his old Madrid manager Carlo Ancelotti. Bayern had the option to buy James for €42 million at the end of the loan period. He scored his first goal of his loan spell in a 3–0 away win over Schalke 04. After a slow start to his Bayern career, mainly due to an injury in preseason, James rediscovered his form after Jupp Heynckes was hired as Bayern's manager in October as the club sacked Ancelotti.\n",
            "On 2 April 2018, Bayern's CEO, Karl-Heinz Rummenigge thanked Ancelotti for bringing James to Bayern. \"It was a very, very good transfer and I have to thank Carlo Ancelotti once again,\" Rummenigge said. In the semi-finals of the 2017–18 UEFA Champions League season, James scored the equalizing goal in a 2–2 draw against his parent club at the Santiago Bernabéu Stadium, but Bayern failed to reach the final as they lost 3–4 on aggregate. However, James would go on to win the 2017–18 Bundesliga title with Bayern, credited as a key member behind their title defense for his contribution of 7 goals and 11 assists in 23 Bundesliga appearances.On 15 September 2018, James scored his opening goal of the season in a 3–1 victory over Bayer Leverkusen. On 17 March 2019, he scored three goals in a 6–0 league win over Mainz, his first hat-trick since 2011, with Porto. On 18 May, James won his second Bundesliga title as Bayern finished two points above Dortmund with 78 points. A week later, James won his first DFB-Pokal as Bayern defeated RB Leipzig 3–0 in the 2019 DFB-Pokal Final. James did not appear in the match as he was out injured. James appeared in 28 matches and scored seven goals in all competitions. On 5 June, it was announced that Bayern Munich would not pick up the buy option and he would return to Real Madrid.After his return to Madrid, James made eight appearances during the league season, as Real Madrid won the 2019–20 La Liga.\n",
            "\n",
            "\n",
            "=== Everton ===\n",
            "On 7 September 2020, James joined Premier League club Everton for a fee around £20 million and signed a two-year deal, with a club option for a third season. The deal once again reunited him with manager Carlo Ancelotti. He made his debut later that month in a 1–0 away win against Tottenham Hotspur in their first game of the 2020–21 Premier League season. The following week he scored his first goal for Everton on his home debut, a 5–2 league win against West Bromwich Albion. James scored two goals and provided an assist for his international teammate Yerry Mina in a 4–2 victory at Goodison Park against Brighton & Hove Albion on 3 October 2020. James added to his goal tally against Manchester United in a 3–3 draw at Old Trafford on 6 February 2021.\n",
            "\n",
            "\n",
            "=== Al-Rayyan ===\n",
            "On 22 September 2021, James joined Al-Rayyan for an undisclosed fee.\n",
            "On 17 October 2021, Rodriguez made his debut for Al-Rayyan, in a 3–0 loss against Al-Duhail. He scored his first goal for the team against Al-Sailiya on 26 October 2021.\n",
            "\n",
            "\n",
            "== International career ==\n",
            "\n",
            "\n",
            "=== Youth ===\n",
            "James was part of the Colombia U-17 team that finished runners-up in the 2007 South American Under-17 Championships, where he scored three goals. He also helped Colombia advance to the knockout stages during the 2007 FIFA U-17 World Cup, where they eventually lost to the winners of the tournament Nigeria.He was also part of the Colombia under-20 squad in three youth tournaments during 2011: the Toulon Tournament, the South American U-20 Championship and the U-20 World Cup that was held in his homeland Colombia.\n",
            "James scored two goals and provided three assists during the 2011 Toulon Tournament. This show led him to being voted as the MVP of the tournament where Colombia won the final by defeating France in a penalty shootout. James scored one of the penalties in the shootout.During the 2011 South American U-20 Championship, he provided three assists. During the 2011 U-20 World Cup, he was named captain of the U20 squad due to his impressive leadership and talent. By scoring three goals and providing three assists in the tournament, he gained international attention as a promising star and made many consider him a potential key member of the Colombian senior squad.\n",
            "\n",
            "\n",
            "=== Senior ===\n",
            "\n",
            "\n",
            "==== 2014 World Cup qualification and friendlies ====\n",
            "\n",
            "On 29 September 2011, James received his first call-up to the Colombia senior side for a match against Bolivia on 11 October 2011. He was selected as the man of match due to his incredible performance including the initiation of the goal scored in the last minute by his former Porto teammate Radamel Falcao which gave Colombia a 2–1 win in La Paz. Under the new manager José Pékerman, he played a crucial part in setting up both goals in a 2–0 victory over Mexico. He scored his first goal for Colombia against Peru. Colombia went on to win the match and boosted its place in the World Cup qualifying table from sixth to fifth.\n",
            "James assisted two goals in a row from 1–0 to 3–0 In the World Cup qualifying match against Uruguay that eventually ended 4–0. James scored a stunning volley from a 30-yard free kick against Chile, leveling the game to an eventual 3–1 away victory boosting Colombia to the second place in the qualifying stages. In the match against Paraguay, James set up the plays leading towards both goals in a 2–0 victory. In Colombia's last international friendly of the year, James assisted the sole goal allowing Colombia to tie with 2014 World Cup hosts Brazil 1–1.\n",
            "James played his first match of 2013 in the second half of the CONMEBOL qualifiers against Bolivia where he gave a man of the match performance. He set up the second goal thanks to a free kick that he took. The game ended 5–0 eventually.Playing against South American leaders Argentina, James suffered an injury in the 30th minute forcing him to be substituted. While the injury was not serious, James was rested and therefore missed the game against Peru days later. James made a good comeback when he scored the winning goal in a 1–0 victory over Ecuador during the final stages of the world cup qualifiers. In a tough match against Chile, James drew both penalties that equalized Colombia from a 1–3 to a 3–3. This drew allowed Colombia to return to the World Cup for the first time in 16 years. Days later, James assisted the first goal with a free-kick while setting up the second in a 2–1 away victory over Paraguay.\n",
            "James continued his play-making form by assisting the first goal and setting up the second against Belgium in a 2–0 victory. He was later voted man of the match. A few days later, James was praised once more as the man of the match in a 0–0 draw against the Netherlands. James started in Colombia's opening match of 2014 and scored a penalty against Tunisia in a 1–1 draw at Estadio Cornellá-El Prat on 5 March 2014. In the last friendly before the World Cup, James scored yet another penalty against Jordan in a 3–0 victory.\n",
            "\n",
            "\n",
            "==== 2014 World Cup ====\n",
            "\n",
            "On 2 June 2014, James was named in Colombia's 23-man squad for the 2014 FIFA World Cup and assigned the number 10 shirt. In the team's opening match of the tournament, James set up the first two goals, scored a last-minute goal with a low shot to seal a 3–0 victory over Greece and was named man of the match by FIFA. In the second match, James continued his form by scoring with a header and setting up a second goal for Juan Fernando Quintero in a 2–1 victory over Ivory Coast and was once again elected as man of the match. In the final group stage match against Japan, James came on as a second-half substitute and assisted two Jackson Martínez goals before scoring the final goal in a 4–1 victory. At the end of the group stage, James was ranked as the best performing player at the tournament by FIFA.\n",
            "\n",
            "On 28 June, James scored both goals to defeat Uruguay 2–0 at the Maracanã in the round of 16, taking Colombia to its first ever World Cup quarter-finals. These goals made him the first player to score in all of his team's opening matches since Ronaldo and Rivaldo in 2002. His volleyed opening goal was described as \"one of the greatest goals the World Cup has ever seen\" by opposing manager Óscar Tabárez, who also called James \"the best player in the World Cup.\" Because of his performance against the Uruguayans, James was named by FIFA as man of the match for the third time in four matches. The volley was later voted as the best goal in the tournament by more than four million people on FIFA's website and won the FIFA Puskás Award for the best goal of the year. In the quarter-final against Brazil, he scored his sixth goal of the tournament, a penalty in Colombia's 2–1 defeat.\n",
            "\n",
            "A tearful James was consoled by Brazil's David Luiz and stated, \"He (David) told me I was a good player. The truth is that having so many superstars hug me did make me happy. We have to raise our heads now and thank Colombia for their support. We are sad because we wanted to keep going and set new records. We gave everything to reach the semi-final, but we have to be proud because we played a great side. I'm crying because we gave everything. We're sad but we also have to feel proud because we left our skin out there.\" Luiz and Rodríguez also exchanged jerseys. James received a standing ovation from the home crowd, ending his first World Cup campaign with six goals and two assists in five matches. On 11 July, he was named on the 10-man shortlist for FIFA's Golden Ball award for the tournament's best player. He then won the Golden Boot as the tournament's top goalscorer despite being eliminated in the quarter finals. Due to his performances, he was named in the World Cup All Star XI and was also listed in the Cup's star XI by Castrol's index rating system in FIFA's website. Argentina legend Diego Maradona argued that James, rather than Lionel Messi, should have won the tournament's Golden Ball award.\n",
            "\n",
            "\n",
            "==== 2015 Copa América and Copa América Centenario ====\n",
            "\n",
            "James was called up to represent Colombia at the 2015 Copa América in Chile, where his team was eliminated 5–4 on penalties by eventual finalists Argentina on 27 June, following a 0–0 draw.The following summer, James joined Colombia's squad for the Copa América Centenario and was named the team's captain. On 3 June, he started in Colombia's opening 2–0 win against tournament hosts the United States, scoring his team's second goal from the penalty spot although he was forced off early due to an injury. It was initially feared that he would be unable to feature in his nation's second group match against Paraguay, but he recovered in time to start the match, setting up Colombia's first goal, and later scoring one himself in a 2–1 win which sealed his team a place in the quarter-finals of the tournament.Colombia would then lose in the semi-finals against eventual and defending champions Chile, before securing a third-place victory against the host nation for Colombia's best result since 2001.\n",
            "\n",
            "\n",
            "==== 2018 World Cup qualification and friendlies ====\n",
            "James made his first direct contribution towards qualification, scoring a goal in a heated duel against Copa America champions Chile, securing a 1–1 away draw. In early 2016, he provided both a goal and assist in a difficult away match against Bolivia resulting in a 2–3 victory. Days later, he assisted another goal in a 3–1 home victory against Ecuador. In early August, he contributed both a goal and an assist in Colombia's 2–0 victory against Venezuela.Starting off 2017, James scored a late dramatic goal against a defensive Bolivia after missing an earlier penalty. The 1–0 home victory allowed Colombia to move to 4th place within the qualification group. Days later, James would score and provide a goal in an impressive 0–2 victory in Ecuador. For his first friendly of the year, James assisted Radamel Falcao's goal from the corner against European giants Spain. The game would end 2–2. Days later against Cameroon, James would both provide and score a goal in a dominating 4–0 victory. For the last qualification match of the 2018 World Cup, James would score a crucial away goal against South American rival Peru, resulting in a 1–1 draw and granting Colombia the last automatic qualification spot at fourth place. James' last contribution of 2017 for Colombia would be an assist against South Korea, which would end 2–1.Colombia's World Cup preparations in 2018 began against World Cup favorites France, where James provided two assists towards a comeback of a 2–0 score to a 2–3 victory. This marked the first victory in Colombia's history over France.\n",
            "\n",
            "\n",
            "==== 2018 World Cup ====\n",
            "On 4 June 2018, James was selected in Colombia's 23-man squad for the 2018 FIFA World Cup in Russia. James did not start in the opening game against Japan after a calf injury during training. He came as a substitute in the 59th minute for Juan Quintero. On 24 June 2018, he provided two assists in a 3–0 victory over Poland and was named as the Man of the Match. James had to be substituted in the 30th minute in the final match of the group stage against Senegal due to the injury. James played in all three matches during the group phase, but was forced to sit out of Colombia's last 16 match against England. Colombia lost 4–3 on penalties against England and were eliminated from the World Cup. James was unable to score in those three matches.\n",
            "\n",
            "\n",
            "==== 2019 Copa América ====\n",
            "On 30 May 2019, James was included in the 23-man final Colombia squad for the 2019 Copa América. In the quarter-finals of the tournament against defending champions Chile on 28 June, following a 0–0 draw after regulation time, James scored in the resulting penalty shoot-out; however, Colombia were defeated 5–4 and were eliminated from the competition.\n",
            "\n",
            "\n",
            "==== 2021 Copa América ====\n",
            "\n",
            "On 28 May 2021, James was ruled out of the squad for the 2021 Copa América due to his lack of conditioning, i.e. for not having the optimal physical level, as he had recently been recovering from injury.\n",
            "\n",
            "\n",
            "==== 2022 World Cup ====\n",
            "After Colombia's failure to qualify for the 2022 FIFA World Cup, James admitted that he was uncertain about his future with the team. \"I don't know what’s coming regarding the next phases, I don't know if Im going to be there or not,\" he told Diario Sport. \"What I do know is that it breaks my heart to lose, it bothers me not qualifying and this can’t happen again.\"\n",
            "\n",
            "\n",
            "== Style of play ==\n",
            "Once considered to be among the best young players in the world, James is a versatile footballer who can play in several positions across the midfield or front-line, having played as a playmaker, winger, and central midfielder for both club and country, although he has stated in interviews that his preferred role is as an attacking midfielder behind the strikers. Praised for his pace, technical skills, vision, and his ability to create chances for teammates as an advanced playmaker, James' performances as a classic number 10 have led to comparisons with the famous Colombian footballer Carlos Valderrama; Valderrama himself declared James as his \"successor\".\n",
            "\n",
            "Although naturally left-footed, James has shown ambidexterity in his dribbling and style of play. His goal scoring abilities were a highlight of the 2014 FIFA World Cup, where he managed to claim the Golden Boot despite Colombia's elimination in the quarter finals following a 2–1 loss to Brazil. He is also an accurate free kick taker, and a goal threat from anywhere on the pitch. This has made James recognized for his unpredictability as noted by Marca writer Justin Sherman: \"One of the differences that James has with other players is that, apart from being very good outside the area, he is also good inside. He has the qualities of a No. 9 and is capable of finishing with a shot from the head or with either foot with great effectiveness.\"\n",
            "\n",
            "\n",
            "== Personal life ==\n",
            "In 2015, Forbes estimated that James' annual income was $29 million.James married volleyball player Daniela Ospina, sister of Colombian goalkeeper David Ospina, in 2011. They met while James was playing at Banfield. The two have a daughter named Salome, born on 29 May 2013. On 27 July 2017, it was announced that the couple was in the process of divorcing. On 28 October 2019, James had his first son and second child, Samuel, to a surrogate in Medellín.James is a devout Catholic.He acquired Spanish citizenship in 2019.\n",
            "\n",
            "\n",
            "=== Sponsorships ===\n",
            "During his early days playing in South America, James was approached by Adidas head scout Claus Peter Meyer. He featured occasionally in various adverts for Adidas as well as the Colombian beverage \"Pony Malta\", Nestlé drink \"Milo\", and the shampoo \"Clear\". After the 2014 World Cup, where he won the Golden Boot as the tournament's top goal scorer with six goals, Adidas took advantage of James' increased exposure and issued him his own custom gold boots to celebrate his achievement and increase the brand's on-pitch association with their new star asset.\n",
            "\n",
            "\n",
            "== Career statistics ==\n",
            "\n",
            "\n",
            "=== Club ===\n",
            "As of match played 23 January 2022\n",
            "\n",
            "\n",
            "=== International ===\n",
            "As of match played 29 March 2022As of match played 29 March 2022.\n",
            "Scores and results list Colombia's goal tally first, score column indicates score after each Rodríguez goal.\n",
            "\n",
            "\n",
            "== Honours ==\n",
            "Envigado\n",
            "\n",
            "Categoría Primera B: 2007Banfield\n",
            "\n",
            "Primera División Argentina: Apertura 2009Porto\n",
            "\n",
            "Primeira Liga: 2010–11, 2011–12, 2012–13\n",
            "Taça de Portugal: 2010–11\n",
            "Supertaça Cândido de Oliveira: 2012\n",
            "UEFA Europa League: 2010–11Real Madrid\n",
            "La Liga: 2016–17, 2019–20\n",
            "Supercopa de España: 2019–20\n",
            "UEFA Champions League: 2015–16, 2016–17\n",
            "UEFA Super Cup: 2014, 2016\n",
            "FIFA Club World Cup: 2014, 2016Bayern Munich\n",
            "Bundesliga: 2017–18, 2018–19\n",
            "DFB-Pokal: 2018–19Colombia\n",
            "\n",
            "Copa América third place: 2016Individual\n",
            "\n",
            "FIFA U-20 World Cup top assist provider: 2011\n",
            "Toulon Tournament Best Player: 2011\n",
            "LPFP Primeira Liga Breakthrough Player of the Year: 2011–12\n",
            "SJPF Player of the Month: August 2012, September 2012\n",
            "Record Team of the Year: 2012\n",
            "O Jogo Team of the Year: 2012, 2013\n",
            "Portuguese Golden Ball: 2012\n",
            "Ligue 1 top assist provider: 2013–14\n",
            "UNFP Ligue 1 Team of the Year: 2013–14\n",
            "AS Monaco Player of the Year: 2013–14\n",
            "Globe Revelation Player: 2014\n",
            "FIFA World Cup Golden Boot: 2014\n",
            "FIFA World Cup All-Star Team: 2014\n",
            "FIFA World Cup Dream Team: 2014\n",
            "FIFA World Cup Goal of the Tournament: 2014\n",
            "FIFA Puskás Award: 2014\n",
            "La Liga Team of the Season: 2014–15\n",
            "La Liga Best Midfielder: 2014–15\n",
            "UEFA Team of the Year: 2015\n",
            "UEFA Champions League Squad of the Season: 2017–18\n",
            "Bundesliga Team of the Season: 2017–18\n",
            "Facebook FA La Liga Best Goal: 2016\n",
            "Copa del Rey top assist provider: 2016–17\n",
            "New species of coral named after him, Paragorgia jamesi\n",
            "Copa América Team of the Tournament: 2019\n",
            "\n",
            "\n",
            "== References ==\n",
            "\n",
            "\n",
            "== External links ==\n",
            "Real Madrid official profile\n",
            "James Rodríguez at BDFA (in Spanish)\n"
          ]
        }
      ]
    },
    {
      "cell_type": "code",
      "source": [
        "#extract html code of wikipedia page based on any search text\n",
        "html = wk.page(\"James Rodriguez\").html().encode(\"UTF-8\") \n",
        "\n",
        "import pandas as pd\n",
        "df = pd.read_html(html)[3]  #4th table in the site\n",
        "\n",
        "df"
      ],
      "metadata": {
        "colab": {
          "base_uri": "https://localhost:8080/",
          "height": 452
        },
        "id": "cIUwJ5Jia5fm",
        "outputId": "58eaf4fb-328f-4800-f9c6-00f23e3e8751"
      },
      "execution_count": 48,
      "outputs": [
        {
          "output_type": "execute_result",
          "data": {
            "text/plain": [
              "   National team   Year  Apps  Goals\n",
              "0       Colombia   2011     3      0\n",
              "1       Colombia   2012     7      2\n",
              "2       Colombia   2013    10      1\n",
              "3       Colombia   2014    12      9\n",
              "4       Colombia   2015     8      1\n",
              "5       Colombia   2016    12      4\n",
              "6       Colombia   2017     8      4\n",
              "7       Colombia   2018     8      1\n",
              "8       Colombia   2019     8      0\n",
              "9       Colombia   2020     4      1\n",
              "10      Colombia   2021     2      0\n",
              "11      Colombia   2022     4      1\n",
              "12         Total  Total    86     24"
            ],
            "text/html": [
              "\n",
              "  <div id=\"df-c1f83951-d169-4266-b80f-233e36761910\">\n",
              "    <div class=\"colab-df-container\">\n",
              "      <div>\n",
              "<style scoped>\n",
              "    .dataframe tbody tr th:only-of-type {\n",
              "        vertical-align: middle;\n",
              "    }\n",
              "\n",
              "    .dataframe tbody tr th {\n",
              "        vertical-align: top;\n",
              "    }\n",
              "\n",
              "    .dataframe thead th {\n",
              "        text-align: right;\n",
              "    }\n",
              "</style>\n",
              "<table border=\"1\" class=\"dataframe\">\n",
              "  <thead>\n",
              "    <tr style=\"text-align: right;\">\n",
              "      <th></th>\n",
              "      <th>National team</th>\n",
              "      <th>Year</th>\n",
              "      <th>Apps</th>\n",
              "      <th>Goals</th>\n",
              "    </tr>\n",
              "  </thead>\n",
              "  <tbody>\n",
              "    <tr>\n",
              "      <th>0</th>\n",
              "      <td>Colombia</td>\n",
              "      <td>2011</td>\n",
              "      <td>3</td>\n",
              "      <td>0</td>\n",
              "    </tr>\n",
              "    <tr>\n",
              "      <th>1</th>\n",
              "      <td>Colombia</td>\n",
              "      <td>2012</td>\n",
              "      <td>7</td>\n",
              "      <td>2</td>\n",
              "    </tr>\n",
              "    <tr>\n",
              "      <th>2</th>\n",
              "      <td>Colombia</td>\n",
              "      <td>2013</td>\n",
              "      <td>10</td>\n",
              "      <td>1</td>\n",
              "    </tr>\n",
              "    <tr>\n",
              "      <th>3</th>\n",
              "      <td>Colombia</td>\n",
              "      <td>2014</td>\n",
              "      <td>12</td>\n",
              "      <td>9</td>\n",
              "    </tr>\n",
              "    <tr>\n",
              "      <th>4</th>\n",
              "      <td>Colombia</td>\n",
              "      <td>2015</td>\n",
              "      <td>8</td>\n",
              "      <td>1</td>\n",
              "    </tr>\n",
              "    <tr>\n",
              "      <th>5</th>\n",
              "      <td>Colombia</td>\n",
              "      <td>2016</td>\n",
              "      <td>12</td>\n",
              "      <td>4</td>\n",
              "    </tr>\n",
              "    <tr>\n",
              "      <th>6</th>\n",
              "      <td>Colombia</td>\n",
              "      <td>2017</td>\n",
              "      <td>8</td>\n",
              "      <td>4</td>\n",
              "    </tr>\n",
              "    <tr>\n",
              "      <th>7</th>\n",
              "      <td>Colombia</td>\n",
              "      <td>2018</td>\n",
              "      <td>8</td>\n",
              "      <td>1</td>\n",
              "    </tr>\n",
              "    <tr>\n",
              "      <th>8</th>\n",
              "      <td>Colombia</td>\n",
              "      <td>2019</td>\n",
              "      <td>8</td>\n",
              "      <td>0</td>\n",
              "    </tr>\n",
              "    <tr>\n",
              "      <th>9</th>\n",
              "      <td>Colombia</td>\n",
              "      <td>2020</td>\n",
              "      <td>4</td>\n",
              "      <td>1</td>\n",
              "    </tr>\n",
              "    <tr>\n",
              "      <th>10</th>\n",
              "      <td>Colombia</td>\n",
              "      <td>2021</td>\n",
              "      <td>2</td>\n",
              "      <td>0</td>\n",
              "    </tr>\n",
              "    <tr>\n",
              "      <th>11</th>\n",
              "      <td>Colombia</td>\n",
              "      <td>2022</td>\n",
              "      <td>4</td>\n",
              "      <td>1</td>\n",
              "    </tr>\n",
              "    <tr>\n",
              "      <th>12</th>\n",
              "      <td>Total</td>\n",
              "      <td>Total</td>\n",
              "      <td>86</td>\n",
              "      <td>24</td>\n",
              "    </tr>\n",
              "  </tbody>\n",
              "</table>\n",
              "</div>\n",
              "      <button class=\"colab-df-convert\" onclick=\"convertToInteractive('df-c1f83951-d169-4266-b80f-233e36761910')\"\n",
              "              title=\"Convert this dataframe to an interactive table.\"\n",
              "              style=\"display:none;\">\n",
              "        \n",
              "  <svg xmlns=\"http://www.w3.org/2000/svg\" height=\"24px\"viewBox=\"0 0 24 24\"\n",
              "       width=\"24px\">\n",
              "    <path d=\"M0 0h24v24H0V0z\" fill=\"none\"/>\n",
              "    <path d=\"M18.56 5.44l.94 2.06.94-2.06 2.06-.94-2.06-.94-.94-2.06-.94 2.06-2.06.94zm-11 1L8.5 8.5l.94-2.06 2.06-.94-2.06-.94L8.5 2.5l-.94 2.06-2.06.94zm10 10l.94 2.06.94-2.06 2.06-.94-2.06-.94-.94-2.06-.94 2.06-2.06.94z\"/><path d=\"M17.41 7.96l-1.37-1.37c-.4-.4-.92-.59-1.43-.59-.52 0-1.04.2-1.43.59L10.3 9.45l-7.72 7.72c-.78.78-.78 2.05 0 2.83L4 21.41c.39.39.9.59 1.41.59.51 0 1.02-.2 1.41-.59l7.78-7.78 2.81-2.81c.8-.78.8-2.07 0-2.86zM5.41 20L4 18.59l7.72-7.72 1.47 1.35L5.41 20z\"/>\n",
              "  </svg>\n",
              "      </button>\n",
              "      \n",
              "  <style>\n",
              "    .colab-df-container {\n",
              "      display:flex;\n",
              "      flex-wrap:wrap;\n",
              "      gap: 12px;\n",
              "    }\n",
              "\n",
              "    .colab-df-convert {\n",
              "      background-color: #E8F0FE;\n",
              "      border: none;\n",
              "      border-radius: 50%;\n",
              "      cursor: pointer;\n",
              "      display: none;\n",
              "      fill: #1967D2;\n",
              "      height: 32px;\n",
              "      padding: 0 0 0 0;\n",
              "      width: 32px;\n",
              "    }\n",
              "\n",
              "    .colab-df-convert:hover {\n",
              "      background-color: #E2EBFA;\n",
              "      box-shadow: 0px 1px 2px rgba(60, 64, 67, 0.3), 0px 1px 3px 1px rgba(60, 64, 67, 0.15);\n",
              "      fill: #174EA6;\n",
              "    }\n",
              "\n",
              "    [theme=dark] .colab-df-convert {\n",
              "      background-color: #3B4455;\n",
              "      fill: #D2E3FC;\n",
              "    }\n",
              "\n",
              "    [theme=dark] .colab-df-convert:hover {\n",
              "      background-color: #434B5C;\n",
              "      box-shadow: 0px 1px 3px 1px rgba(0, 0, 0, 0.15);\n",
              "      filter: drop-shadow(0px 1px 2px rgba(0, 0, 0, 0.3));\n",
              "      fill: #FFFFFF;\n",
              "    }\n",
              "  </style>\n",
              "\n",
              "      <script>\n",
              "        const buttonEl =\n",
              "          document.querySelector('#df-c1f83951-d169-4266-b80f-233e36761910 button.colab-df-convert');\n",
              "        buttonEl.style.display =\n",
              "          google.colab.kernel.accessAllowed ? 'block' : 'none';\n",
              "\n",
              "        async function convertToInteractive(key) {\n",
              "          const element = document.querySelector('#df-c1f83951-d169-4266-b80f-233e36761910');\n",
              "          const dataTable =\n",
              "            await google.colab.kernel.invokeFunction('convertToInteractive',\n",
              "                                                     [key], {});\n",
              "          if (!dataTable) return;\n",
              "\n",
              "          const docLinkHtml = 'Like what you see? Visit the ' +\n",
              "            '<a target=\"_blank\" href=https://colab.research.google.com/notebooks/data_table.ipynb>data table notebook</a>'\n",
              "            + ' to learn more about interactive tables.';\n",
              "          element.innerHTML = '';\n",
              "          dataTable['output_type'] = 'display_data';\n",
              "          await google.colab.output.renderOutput(dataTable, element);\n",
              "          const docLink = document.createElement('div');\n",
              "          docLink.innerHTML = docLinkHtml;\n",
              "          element.appendChild(docLink);\n",
              "        }\n",
              "      </script>\n",
              "    </div>\n",
              "  </div>\n",
              "  "
            ]
          },
          "metadata": {},
          "execution_count": 48
        }
      ]
    }
  ]
}