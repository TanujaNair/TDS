{
  "nbformat": 4,
  "nbformat_minor": 0,
  "metadata": {
    "colab": {
      "name": "TDS OPPE Prep.ipynb",
      "provenance": [],
      "authorship_tag": "ABX9TyM5GtY/FlVO2yzWvPb0wlDZ"
    },
    "kernelspec": {
      "name": "python3",
      "display_name": "Python 3"
    },
    "language_info": {
      "name": "python"
    }
  },
  "cells": [
    {
      "cell_type": "markdown",
      "source": [
        "# A tutorial to scrape the location ID of any city in BBC Weather. \n",
        "This code snippet takes city name as input and it hits the BBC Weahter API with a request for location ID. This location ID is used as input in the next part of the code to scrape weather forecast for the city using this location ID.  \n",
        "\n",
        "\n",
        "*Web scraping might not be legal always. It is a good idea to check the terms of the website you plan to scrape before proceeding. Also, if your code requests a url from a server multiple times, it is a good practice to either cache your requests, or insert a timed delay between consecutive requests.*"
      ],
      "metadata": {
        "id": "kAuJZ9Kye0sW"
      }
    },
    {
      "cell_type": "code",
      "execution_count": 1,
      "metadata": {
        "id": "RrK3nN7CdTcd"
      },
      "outputs": [],
      "source": [
        "import os\n",
        "\n",
        "import requests               # to get the webpage\n",
        "import json                   # to convert API to json format\n",
        "\n",
        "from urllib.parse import urlencode\n",
        "import numpy as np\n",
        "import pandas as pd\n",
        "import re                     # regular expression operators"
      ]
    },
    {
      "cell_type": "code",
      "source": [
        "test_city = \"New York\"\n",
        "location_url = 'https://locator-service.api.bbci.co.uk/locations?' + urlencode({\n",
        "   'api_key': 'AGbFAKx58hyjQScCXIYrxuEwJh2W2cmv',\n",
        "   's': test_city,\n",
        "   'stack': 'aws',\n",
        "   'locale': 'en',\n",
        "   'filter': 'international',\n",
        "   'place-types': 'settlement,airport,district',\n",
        "   'order': 'importance',\n",
        "   'a': 'true',\n",
        "   'format': 'json'\n",
        "})\n",
        "location_url"
      ],
      "metadata": {
        "id": "HCeeust-fCSe",
        "colab": {
          "base_uri": "https://localhost:8080/",
          "height": 54
        },
        "outputId": "ffcec872-ba2d-4cd8-93c1-f4cf4c9cb906"
      },
      "execution_count": 2,
      "outputs": [
        {
          "output_type": "execute_result",
          "data": {
            "text/plain": [
              "'https://locator-service.api.bbci.co.uk/locations?api_key=AGbFAKx58hyjQScCXIYrxuEwJh2W2cmv&s=New+York&stack=aws&locale=en&filter=international&place-types=settlement%2Cairport%2Cdistrict&order=importance&a=true&format=json'"
            ],
            "application/vnd.google.colaboratory.intrinsic+json": {
              "type": "string"
            }
          },
          "metadata": {},
          "execution_count": 2
        }
      ]
    },
    {
      "cell_type": "code",
      "source": [
        "result = requests.get(location_url).json()\n",
        "result"
      ],
      "metadata": {
        "id": "dIEcV3BSfE9L",
        "colab": {
          "base_uri": "https://localhost:8080/"
        },
        "outputId": "1e3a8a85-dbaf-4560-e485-68cc8fd7c203"
      },
      "execution_count": 3,
      "outputs": [
        {
          "output_type": "execute_result",
          "data": {
            "text/plain": [
              "{'response': {'results': {'results': [{'container': 'United States',\n",
              "     'containerId': 6252001,\n",
              "     'country': 'US',\n",
              "     'id': '5128581',\n",
              "     'language': 'en',\n",
              "     'latitude': 40.71427,\n",
              "     'longitude': -74.00597,\n",
              "     'name': 'New York',\n",
              "     'placeType': 'settlement',\n",
              "     'timezone': 'America/New_York'},\n",
              "    {'container': 'Lincolnshire',\n",
              "     'containerId': 2644486,\n",
              "     'country': 'GB',\n",
              "     'id': '2641508',\n",
              "     'language': 'en',\n",
              "     'latitude': 53.07897,\n",
              "     'longitude': -0.14008,\n",
              "     'name': 'New York',\n",
              "     'placeType': 'settlement',\n",
              "     'timezone': 'Europe/London',\n",
              "     'topicId': 'cr0mejz7n26t'}],\n",
              "   'totalResults': 2}}}"
            ]
          },
          "metadata": {},
          "execution_count": 3
        }
      ]
    },
    {
      "cell_type": "code",
      "source": [
        "# Print location id\n",
        "result['response']['results']['results'][0]['id']"
      ],
      "metadata": {
        "id": "UlDUXATkfHyq",
        "colab": {
          "base_uri": "https://localhost:8080/",
          "height": 37
        },
        "outputId": "71b4f6c9-0ac9-43fd-da76-ee2e779920e1"
      },
      "execution_count": 4,
      "outputs": [
        {
          "output_type": "execute_result",
          "data": {
            "text/plain": [
              "'5128581'"
            ],
            "application/vnd.google.colaboratory.intrinsic+json": {
              "type": "string"
            }
          },
          "metadata": {},
          "execution_count": 4
        }
      ]
    },
    {
      "cell_type": "markdown",
      "source": [
        "Creating a function to output location id by taking any city name as input."
      ],
      "metadata": {
        "id": "Sf497HSFfKeA"
      }
    },
    {
      "cell_type": "code",
      "source": [
        "def getlocid(city):\n",
        "    city = city.lower() # convert city name to lowercase to standardize format\n",
        "    # Convert into an API call using URL encoding\n",
        "    location_url = 'https://locator-service.api.bbci.co.uk/locations?' + urlencode({\n",
        "      'api_key': 'AGbFAKx58hyjQScCXIYrxuEwJh2W2cmv',\n",
        "      's': city,\n",
        "      'stack': 'aws',\n",
        "      'locale': 'en',\n",
        "      'filter': 'international',\n",
        "      'place-types': 'settlement,airport,district',\n",
        "      'order': 'importance',\n",
        "      'a': 'true',\n",
        "      'format': 'json'\n",
        "    })\n",
        "    result = requests.get(location_url).json()\n",
        "    locid = result['response']['results']['results'][0]['id']\n",
        "    return locid"
      ],
      "metadata": {
        "id": "Z-o86tWvfLJv"
      },
      "execution_count": 5,
      "outputs": []
    },
    {
      "cell_type": "code",
      "source": [
        "getlocid('Toronto')"
      ],
      "metadata": {
        "id": "wJSFvjYwfOws",
        "colab": {
          "base_uri": "https://localhost:8080/",
          "height": 37
        },
        "outputId": "508b0c74-4f9e-4a23-e1c1-a75b30721143"
      },
      "execution_count": 6,
      "outputs": [
        {
          "output_type": "execute_result",
          "data": {
            "text/plain": [
              "'6167865'"
            ],
            "application/vnd.google.colaboratory.intrinsic+json": {
              "type": "string"
            }
          },
          "metadata": {},
          "execution_count": 6
        }
      ]
    },
    {
      "cell_type": "markdown",
      "source": [
        "# A tutorial to scrape the location ID of any city in BBC Weather. \n",
        "This code snippet takes city name as input and it hits the BBC Weahter API with a request for location ID. This location ID is used as input in the next part of the code to scrape weather forecast for the city using this location ID.  \n",
        "\n",
        "\n",
        "*Web scraping might not be legal always. It is a good idea to check the terms of the website you plan to scrape before proceeding. Also, if your code requests a url from a server multiple times, it is a good practice to either cache your requests, or insert a timed delay between consecutive requests.*"
      ],
      "metadata": {
        "id": "vQIFARGRg2yA"
      }
    },
    {
      "cell_type": "code",
      "source": [
        "import os\n",
        "\n",
        "import requests               # to get the webpage\n",
        "import json                   # to convert API to json format\n",
        "\n",
        "from urllib.parse import urlencode\n",
        "import numpy as np\n",
        "import pandas as pd\n",
        "import re                     # regular expression operators"
      ],
      "metadata": {
        "id": "w4fgZyW5hBYT"
      },
      "execution_count": 7,
      "outputs": []
    },
    {
      "cell_type": "code",
      "source": [
        "test_city = \"New York\"\n",
        "location_url = 'https://locator-service.api.bbci.co.uk/locations?' + urlencode({\n",
        "   'api_key': 'AGbFAKx58hyjQScCXIYrxuEwJh2W2cmv',\n",
        "   's': test_city,\n",
        "   'stack': 'aws',\n",
        "   'locale': 'en',\n",
        "   'filter': 'international',\n",
        "   'place-types': 'settlement,airport,district',\n",
        "   'order': 'importance',\n",
        "   'a': 'true',\n",
        "   'format': 'json'\n",
        "})\n",
        "location_url"
      ],
      "metadata": {
        "id": "4qTpUI6HhDPp",
        "colab": {
          "base_uri": "https://localhost:8080/",
          "height": 54
        },
        "outputId": "a293c696-2e00-4f1f-d392-ab4713d4b393"
      },
      "execution_count": 8,
      "outputs": [
        {
          "output_type": "execute_result",
          "data": {
            "text/plain": [
              "'https://locator-service.api.bbci.co.uk/locations?api_key=AGbFAKx58hyjQScCXIYrxuEwJh2W2cmv&s=New+York&stack=aws&locale=en&filter=international&place-types=settlement%2Cairport%2Cdistrict&order=importance&a=true&format=json'"
            ],
            "application/vnd.google.colaboratory.intrinsic+json": {
              "type": "string"
            }
          },
          "metadata": {},
          "execution_count": 8
        }
      ]
    },
    {
      "cell_type": "code",
      "source": [
        "result = requests.get(location_url).json()\n",
        "result"
      ],
      "metadata": {
        "id": "mo_gcs0RhXa3",
        "colab": {
          "base_uri": "https://localhost:8080/"
        },
        "outputId": "7a89ca68-1d45-4f07-cf00-9bbc4bb2d9bf"
      },
      "execution_count": 9,
      "outputs": [
        {
          "output_type": "execute_result",
          "data": {
            "text/plain": [
              "{'response': {'results': {'results': [{'container': 'United States',\n",
              "     'containerId': 6252001,\n",
              "     'country': 'US',\n",
              "     'id': '5128581',\n",
              "     'language': 'en',\n",
              "     'latitude': 40.71427,\n",
              "     'longitude': -74.00597,\n",
              "     'name': 'New York',\n",
              "     'placeType': 'settlement',\n",
              "     'timezone': 'America/New_York'},\n",
              "    {'container': 'Lincolnshire',\n",
              "     'containerId': 2644486,\n",
              "     'country': 'GB',\n",
              "     'id': '2641508',\n",
              "     'language': 'en',\n",
              "     'latitude': 53.07897,\n",
              "     'longitude': -0.14008,\n",
              "     'name': 'New York',\n",
              "     'placeType': 'settlement',\n",
              "     'timezone': 'Europe/London',\n",
              "     'topicId': 'cr0mejz7n26t'}],\n",
              "   'totalResults': 2}}}"
            ]
          },
          "metadata": {},
          "execution_count": 9
        }
      ]
    },
    {
      "cell_type": "code",
      "source": [
        "# Print location id\n",
        "result['response']['results']['results'][0]['id']"
      ],
      "metadata": {
        "id": "OdJro0-4hZbx",
        "colab": {
          "base_uri": "https://localhost:8080/",
          "height": 37
        },
        "outputId": "71425b8f-ca39-4425-ed80-1445fb844d3f"
      },
      "execution_count": 10,
      "outputs": [
        {
          "output_type": "execute_result",
          "data": {
            "text/plain": [
              "'5128581'"
            ],
            "application/vnd.google.colaboratory.intrinsic+json": {
              "type": "string"
            }
          },
          "metadata": {},
          "execution_count": 10
        }
      ]
    },
    {
      "cell_type": "code",
      "source": [
        "def getlocid(city):\n",
        "    city = city.lower() # convert city name to lowercase to standardize format\n",
        "    # Convert into an API call using URL encoding\n",
        "    location_url = 'https://locator-service.api.bbci.co.uk/locations?' + urlencode({\n",
        "      'api_key': 'AGbFAKx58hyjQScCXIYrxuEwJh2W2cmv',\n",
        "      's': city,\n",
        "      'stack': 'aws',\n",
        "      'locale': 'en',\n",
        "      'filter': 'international',\n",
        "      'place-types': 'settlement,airport,district',\n",
        "      'order': 'importance',\n",
        "      'a': 'true',\n",
        "      'format': 'json'\n",
        "    })\n",
        "    result = requests.get(location_url).json()\n",
        "    locid = result['response']['results']['results'][0]['id']\n",
        "    return locid"
      ],
      "metadata": {
        "id": "U2ZHUfGdhbJO"
      },
      "execution_count": 11,
      "outputs": []
    },
    {
      "cell_type": "code",
      "source": [
        "getlocid('Toronto')"
      ],
      "metadata": {
        "id": "T82jtmYmhc2s",
        "colab": {
          "base_uri": "https://localhost:8080/",
          "height": 37
        },
        "outputId": "3ee67507-00c3-41c6-c99b-196a584b54b8"
      },
      "execution_count": 12,
      "outputs": [
        {
          "output_type": "execute_result",
          "data": {
            "text/plain": [
              "'6167865'"
            ],
            "application/vnd.google.colaboratory.intrinsic+json": {
              "type": "string"
            }
          },
          "metadata": {},
          "execution_count": 12
        }
      ]
    },
    {
      "cell_type": "markdown",
      "source": [
        "# A tutorial to scrape the web. \n",
        "\n",
        "This example scrapes the BBC weather website for any specific city, and collects weather forecast for the next 14 days and saves it as a csv file.\n",
        "\n",
        "*Web scraping might not be legal always. It is a good idea to check the terms of the website you plan to scrape before proceeding. Also, if your code requests a url from a server multiple times, it is a good practice to either cache your requests, or insert a timed delay between consecutive requests.*"
      ],
      "metadata": {
        "id": "FmUkZP1NiTWK"
      }
    },
    {
      "cell_type": "code",
      "source": [
        "import json                   # to convert API to json format\n",
        "\n",
        "from urllib.parse import urlencode\n",
        "\n",
        "import requests               # to get the webpage\n",
        "from bs4 import BeautifulSoup # to parse the webpage\n",
        "\n",
        "import pandas as pd\n",
        "import re                     # regular expression operators\n",
        "\n",
        "from datetime import datetime"
      ],
      "metadata": {
        "id": "5WVzYSsZiZby"
      },
      "execution_count": 13,
      "outputs": []
    },
    {
      "cell_type": "markdown",
      "source": [
        "We now GET the webpage of interest, from the server"
      ],
      "metadata": {
        "id": "HyN20bT-idyL"
      }
    },
    {
      "cell_type": "code",
      "source": [
        "required_city = \"Mumbai\"\n",
        "location_url = 'https://locator-service.api.bbci.co.uk/locations?' + urlencode({\n",
        "   'api_key': 'AGbFAKx58hyjQScCXIYrxuEwJh2W2cmv',\n",
        "   's': required_city,\n",
        "   'stack': 'aws',\n",
        "   'locale': 'en',\n",
        "   'filter': 'international',\n",
        "   'place-types': 'settlement,airport,district',\n",
        "   'order': 'importance',\n",
        "   'a': 'true',\n",
        "   'format': 'json'\n",
        "})\n",
        "location_url"
      ],
      "metadata": {
        "id": "yDF4EFoSidf2",
        "colab": {
          "base_uri": "https://localhost:8080/",
          "height": 54
        },
        "outputId": "4e21b725-c07c-4164-ea27-cbdac4ca4e67"
      },
      "execution_count": 14,
      "outputs": [
        {
          "output_type": "execute_result",
          "data": {
            "text/plain": [
              "'https://locator-service.api.bbci.co.uk/locations?api_key=AGbFAKx58hyjQScCXIYrxuEwJh2W2cmv&s=Mumbai&stack=aws&locale=en&filter=international&place-types=settlement%2Cairport%2Cdistrict&order=importance&a=true&format=json'"
            ],
            "application/vnd.google.colaboratory.intrinsic+json": {
              "type": "string"
            }
          },
          "metadata": {},
          "execution_count": 14
        }
      ]
    },
    {
      "cell_type": "code",
      "source": [
        "result = requests.get(location_url).json()\n",
        "result"
      ],
      "metadata": {
        "id": "za8-6ljgij0G",
        "colab": {
          "base_uri": "https://localhost:8080/"
        },
        "outputId": "de9792e0-d38e-4b59-8858-dc5d1cbb4879"
      },
      "execution_count": 15,
      "outputs": [
        {
          "output_type": "execute_result",
          "data": {
            "text/plain": [
              "{'response': {'results': {'results': [{'container': 'India',\n",
              "     'containerId': 1269750,\n",
              "     'country': 'IN',\n",
              "     'id': '1275339',\n",
              "     'language': 'en',\n",
              "     'latitude': 19.07283,\n",
              "     'longitude': 72.88261,\n",
              "     'name': 'Mumbai',\n",
              "     'placeType': 'settlement',\n",
              "     'timezone': 'Asia/Kolkata'}],\n",
              "   'totalResults': 1}}}"
            ]
          },
          "metadata": {},
          "execution_count": 15
        }
      ]
    },
    {
      "cell_type": "code",
      "source": [
        "# url      = 'https://www.bbc.com/weather/1275339' # url to BBC weather, corresponding to a specific city (Mumbai, in this example)\n",
        "url      = 'https://www.bbc.com/weather/'+result['response']['results']['results'][0]['id']\n",
        "response = requests.get(url)"
      ],
      "metadata": {
        "id": "diB31r4Cil0Z"
      },
      "execution_count": 16,
      "outputs": []
    },
    {
      "cell_type": "markdown",
      "source": [
        "Next, we initiate an instance of  BeautifulSoup."
      ],
      "metadata": {
        "id": "_oZRB7SBioW6"
      }
    },
    {
      "cell_type": "code",
      "source": [
        "soup = BeautifulSoup(response.content,'html.parser') "
      ],
      "metadata": {
        "id": "LzBvZi4iiqHD"
      },
      "execution_count": 17,
      "outputs": []
    },
    {
      "cell_type": "markdown",
      "source": [
        "The information we want (daily high and low temp., and daily weather summary, are in specific blocks on the webpage. \n",
        "We need to find the block type, type of identifier, and the identifier name (all these can be figured out by right clicking\n",
        "on the webpage and selecting 'Inspect' on the Chrome browser; similar modus operandi for other browsers)"
      ],
      "metadata": {
        "id": "GeDJ2QfhiyzX"
      }
    },
    {
      "cell_type": "code",
      "source": [
        "daily_high_values = soup.find_all('span', attrs={'class': 'wr-day-temperature__high-value'}) # block-type: span; identifier type: class; and class name: wr-day-temperature__high-value \n",
        "daily_high_values"
      ],
      "metadata": {
        "id": "oxDBTrFZiz9C",
        "colab": {
          "base_uri": "https://localhost:8080/"
        },
        "outputId": "d356c1ce-47ec-444b-8193-393e43b94785"
      },
      "execution_count": 18,
      "outputs": [
        {
          "output_type": "execute_result",
          "data": {
            "text/plain": [
              "[<span class=\"wr-day-temperature__high-value\"><span class=\"wr-value--temperature \"><span class=\"wr-value--temperature--c\">27°</span><span class=\"wr-hide\"> </span><span class=\"wr-value--temperature--f\">81°</span></span></span>,\n",
              " <span class=\"wr-day-temperature__high-value\"><span class=\"wr-value--temperature \"><span class=\"wr-value--temperature--c\">29°</span><span class=\"wr-hide\"> </span><span class=\"wr-value--temperature--f\">85°</span></span></span>,\n",
              " <span class=\"wr-day-temperature__high-value\"><span class=\"wr-value--temperature \"><span class=\"wr-value--temperature--c\">31°</span><span class=\"wr-hide\"> </span><span class=\"wr-value--temperature--f\">87°</span></span></span>,\n",
              " <span class=\"wr-day-temperature__high-value\"><span class=\"wr-value--temperature \"><span class=\"wr-value--temperature--c\">31°</span><span class=\"wr-hide\"> </span><span class=\"wr-value--temperature--f\">88°</span></span></span>,\n",
              " <span class=\"wr-day-temperature__high-value\"><span class=\"wr-value--temperature \"><span class=\"wr-value--temperature--c\">30°</span><span class=\"wr-hide\"> </span><span class=\"wr-value--temperature--f\">86°</span></span></span>,\n",
              " <span class=\"wr-day-temperature__high-value\"><span class=\"wr-value--temperature \"><span class=\"wr-value--temperature--c\">30°</span><span class=\"wr-hide\"> </span><span class=\"wr-value--temperature--f\">86°</span></span></span>,\n",
              " <span class=\"wr-day-temperature__high-value\"><span class=\"wr-value--temperature \"><span class=\"wr-value--temperature--c\">29°</span><span class=\"wr-hide\"> </span><span class=\"wr-value--temperature--f\">85°</span></span></span>,\n",
              " <span class=\"wr-day-temperature__high-value\"><span class=\"wr-value--temperature \"><span class=\"wr-value--temperature--c\">29°</span><span class=\"wr-hide\"> </span><span class=\"wr-value--temperature--f\">85°</span></span></span>,\n",
              " <span class=\"wr-day-temperature__high-value\"><span class=\"wr-value--temperature \"><span class=\"wr-value--temperature--c\">30°</span><span class=\"wr-hide\"> </span><span class=\"wr-value--temperature--f\">86°</span></span></span>,\n",
              " <span class=\"wr-day-temperature__high-value\"><span class=\"wr-value--temperature \"><span class=\"wr-value--temperature--c\">30°</span><span class=\"wr-hide\"> </span><span class=\"wr-value--temperature--f\">86°</span></span></span>,\n",
              " <span class=\"wr-day-temperature__high-value\"><span class=\"wr-value--temperature \"><span class=\"wr-value--temperature--c\">29°</span><span class=\"wr-hide\"> </span><span class=\"wr-value--temperature--f\">85°</span></span></span>,\n",
              " <span class=\"wr-day-temperature__high-value\"><span class=\"wr-value--temperature \"><span class=\"wr-value--temperature--c\">29°</span><span class=\"wr-hide\"> </span><span class=\"wr-value--temperature--f\">85°</span></span></span>,\n",
              " <span class=\"wr-day-temperature__high-value\"><span class=\"wr-value--temperature \"><span class=\"wr-value--temperature--c\">30°</span><span class=\"wr-hide\"> </span><span class=\"wr-value--temperature--f\">85°</span></span></span>,\n",
              " <span class=\"wr-day-temperature__high-value\"><span class=\"wr-value--temperature \"><span class=\"wr-value--temperature--c\">30°</span><span class=\"wr-hide\"> </span><span class=\"wr-value--temperature--f\">86°</span></span></span>]"
            ]
          },
          "metadata": {},
          "execution_count": 18
        }
      ]
    },
    {
      "cell_type": "code",
      "source": [
        "daily_low_values  = soup.find_all('span', attrs={'class': 'wr-day-temperature__low-value'})\n",
        "daily_low_values"
      ],
      "metadata": {
        "id": "-ahCaf7Ji_wT",
        "colab": {
          "base_uri": "https://localhost:8080/"
        },
        "outputId": "462da1bc-0fc4-489f-b7ee-cb8fdc655339"
      },
      "execution_count": 19,
      "outputs": [
        {
          "output_type": "execute_result",
          "data": {
            "text/plain": [
              "[<span class=\"wr-day-temperature__low-value\"><span class=\"wr-value--temperature \"><span class=\"wr-value--temperature--c\">25°</span><span class=\"wr-hide\"> </span><span class=\"wr-value--temperature--f\">77°</span></span></span>,\n",
              " <span class=\"wr-day-temperature__low-value\"><span class=\"wr-value--temperature \"><span class=\"wr-value--temperature--c\">25°</span><span class=\"wr-hide\"> </span><span class=\"wr-value--temperature--f\">77°</span></span></span>,\n",
              " <span class=\"wr-day-temperature__low-value\"><span class=\"wr-value--temperature \"><span class=\"wr-value--temperature--c\">26°</span><span class=\"wr-hide\"> </span><span class=\"wr-value--temperature--f\">79°</span></span></span>,\n",
              " <span class=\"wr-day-temperature__low-value\"><span class=\"wr-value--temperature \"><span class=\"wr-value--temperature--c\">26°</span><span class=\"wr-hide\"> </span><span class=\"wr-value--temperature--f\">79°</span></span></span>,\n",
              " <span class=\"wr-day-temperature__low-value\"><span class=\"wr-value--temperature \"><span class=\"wr-value--temperature--c\">25°</span><span class=\"wr-hide\"> </span><span class=\"wr-value--temperature--f\">78°</span></span></span>,\n",
              " <span class=\"wr-day-temperature__low-value\"><span class=\"wr-value--temperature \"><span class=\"wr-value--temperature--c\">26°</span><span class=\"wr-hide\"> </span><span class=\"wr-value--temperature--f\">78°</span></span></span>,\n",
              " <span class=\"wr-day-temperature__low-value\"><span class=\"wr-value--temperature \"><span class=\"wr-value--temperature--c\">26°</span><span class=\"wr-hide\"> </span><span class=\"wr-value--temperature--f\">79°</span></span></span>,\n",
              " <span class=\"wr-day-temperature__low-value\"><span class=\"wr-value--temperature \"><span class=\"wr-value--temperature--c\">26°</span><span class=\"wr-hide\"> </span><span class=\"wr-value--temperature--f\">79°</span></span></span>,\n",
              " <span class=\"wr-day-temperature__low-value\"><span class=\"wr-value--temperature \"><span class=\"wr-value--temperature--c\">26°</span><span class=\"wr-hide\"> </span><span class=\"wr-value--temperature--f\">79°</span></span></span>,\n",
              " <span class=\"wr-day-temperature__low-value\"><span class=\"wr-value--temperature \"><span class=\"wr-value--temperature--c\">26°</span><span class=\"wr-hide\"> </span><span class=\"wr-value--temperature--f\">79°</span></span></span>,\n",
              " <span class=\"wr-day-temperature__low-value\"><span class=\"wr-value--temperature \"><span class=\"wr-value--temperature--c\">26°</span><span class=\"wr-hide\"> </span><span class=\"wr-value--temperature--f\">78°</span></span></span>,\n",
              " <span class=\"wr-day-temperature__low-value\"><span class=\"wr-value--temperature \"><span class=\"wr-value--temperature--c\">26°</span><span class=\"wr-hide\"> </span><span class=\"wr-value--temperature--f\">78°</span></span></span>,\n",
              " <span class=\"wr-day-temperature__low-value\"><span class=\"wr-value--temperature \"><span class=\"wr-value--temperature--c\">26°</span><span class=\"wr-hide\"> </span><span class=\"wr-value--temperature--f\">78°</span></span></span>,\n",
              " <span class=\"wr-day-temperature__low-value\"><span class=\"wr-value--temperature \"><span class=\"wr-value--temperature--c\">26°</span><span class=\"wr-hide\"> </span><span class=\"wr-value--temperature--f\">78°</span></span></span>]"
            ]
          },
          "metadata": {},
          "execution_count": 19
        }
      ]
    },
    {
      "cell_type": "code",
      "source": [
        "daily_summary = soup.find('div', attrs={'class': 'wr-day-summary'})\n",
        "daily_summary"
      ],
      "metadata": {
        "id": "N5-4ThBfjB9M",
        "colab": {
          "base_uri": "https://localhost:8080/"
        },
        "outputId": "2fa6023c-e9c7-476c-9fbb-118cb9feb8df"
      },
      "execution_count": 20,
      "outputs": [
        {
          "output_type": "execute_result",
          "data": {
            "text/plain": [
              "<div class=\"wr-day-summary\"><div class=\"gel-wrap\"><span class=\"\">Thundery showers and a gentle breeze</span><span class=\"wr-hide\">Thundery showers and a gentle breeze</span><span class=\"wr-hide\">Light cloud and a moderate breeze</span><span class=\"wr-hide\">Light rain showers and a gentle breeze</span><span class=\"wr-hide\">Thundery showers and a gentle breeze</span><span class=\"wr-hide\">Heavy rain and a gentle breeze</span><span class=\"wr-hide\">Light rain and a gentle breeze</span><span class=\"wr-hide\">Thundery showers and a moderate breeze</span><span class=\"wr-hide\">Thundery showers and a moderate breeze</span><span class=\"wr-hide\">Thundery showers and a moderate breeze</span><span class=\"wr-hide\">Thundery showers and a moderate breeze</span><span class=\"wr-hide\">Thundery showers and a moderate breeze</span><span class=\"wr-hide\">Thundery showers and a moderate breeze</span><span class=\"wr-hide\">Thundery showers and a moderate breeze</span></div></div>"
            ]
          },
          "metadata": {},
          "execution_count": 20
        }
      ]
    },
    {
      "cell_type": "code",
      "source": [
        "daily_summary.text"
      ],
      "metadata": {
        "id": "BMcdMPYujFJV",
        "colab": {
          "base_uri": "https://localhost:8080/",
          "height": 88
        },
        "outputId": "20f25312-b8e4-4e9c-ea4d-ce9a37845c05"
      },
      "execution_count": 21,
      "outputs": [
        {
          "output_type": "execute_result",
          "data": {
            "text/plain": [
              "'Thundery showers and a gentle breezeThundery showers and a gentle breezeLight cloud and a moderate breezeLight rain showers and a gentle breezeThundery showers and a gentle breezeHeavy rain and a gentle breezeLight rain and a gentle breezeThundery showers and a moderate breezeThundery showers and a moderate breezeThundery showers and a moderate breezeThundery showers and a moderate breezeThundery showers and a moderate breezeThundery showers and a moderate breezeThundery showers and a moderate breeze'"
            ],
            "application/vnd.google.colaboratory.intrinsic+json": {
              "type": "string"
            }
          },
          "metadata": {},
          "execution_count": 21
        }
      ]
    },
    {
      "cell_type": "markdown",
      "source": [
        "General book keeping.\n",
        "\n",
        "With the code snippet in the cell above, we get forecast data for 14 days, including today. We will now post process the data to first extract the required information/text and discard all the html wrapper code, then combine all variables into one common list, and finally convert it into a pandas data frame."
      ],
      "metadata": {
        "id": "sIG_OH43jK5q"
      }
    },
    {
      "cell_type": "code",
      "source": [
        "daily_high_values[0].text.strip()"
      ],
      "metadata": {
        "id": "Tv6OG3XpjSe8",
        "colab": {
          "base_uri": "https://localhost:8080/",
          "height": 37
        },
        "outputId": "e228677c-733c-4dee-8967-49b0924e8e22"
      },
      "execution_count": 22,
      "outputs": [
        {
          "output_type": "execute_result",
          "data": {
            "text/plain": [
              "'27° 81°'"
            ],
            "application/vnd.google.colaboratory.intrinsic+json": {
              "type": "string"
            }
          },
          "metadata": {},
          "execution_count": 22
        }
      ]
    },
    {
      "cell_type": "code",
      "source": [
        "daily_high_values[5].text.strip()"
      ],
      "metadata": {
        "id": "2bQJlHUJjVQN",
        "colab": {
          "base_uri": "https://localhost:8080/",
          "height": 37
        },
        "outputId": "cfbb0ead-cb3f-4ff5-cdf9-b4f240a53af0"
      },
      "execution_count": 23,
      "outputs": [
        {
          "output_type": "execute_result",
          "data": {
            "text/plain": [
              "'30° 86°'"
            ],
            "application/vnd.google.colaboratory.intrinsic+json": {
              "type": "string"
            }
          },
          "metadata": {},
          "execution_count": 23
        }
      ]
    },
    {
      "cell_type": "code",
      "source": [
        "daily_high_values[0].text.strip().split()[0]"
      ],
      "metadata": {
        "id": "oA3ZYTbYjW50",
        "colab": {
          "base_uri": "https://localhost:8080/",
          "height": 37
        },
        "outputId": "a72acec6-c5d2-4c87-830c-0e1d7623e940"
      },
      "execution_count": 24,
      "outputs": [
        {
          "output_type": "execute_result",
          "data": {
            "text/plain": [
              "'27°'"
            ],
            "application/vnd.google.colaboratory.intrinsic+json": {
              "type": "string"
            }
          },
          "metadata": {},
          "execution_count": 24
        }
      ]
    },
    {
      "cell_type": "code",
      "source": [
        "daily_high_values_list = [daily_high_values[i].text.strip().split()[0] for i in range(len(daily_high_values))]\n",
        "daily_high_values_list"
      ],
      "metadata": {
        "id": "UoXjXVmGjYue",
        "colab": {
          "base_uri": "https://localhost:8080/"
        },
        "outputId": "549b6fb0-5f1d-4182-da12-41b9bf9be7b5"
      },
      "execution_count": 25,
      "outputs": [
        {
          "output_type": "execute_result",
          "data": {
            "text/plain": [
              "['27°',\n",
              " '29°',\n",
              " '31°',\n",
              " '31°',\n",
              " '30°',\n",
              " '30°',\n",
              " '29°',\n",
              " '29°',\n",
              " '30°',\n",
              " '30°',\n",
              " '29°',\n",
              " '29°',\n",
              " '30°',\n",
              " '30°']"
            ]
          },
          "metadata": {},
          "execution_count": 25
        }
      ]
    },
    {
      "cell_type": "code",
      "source": [
        "daily_low_values_list = [daily_low_values[i].text.strip().split()[0] for i in range(len(daily_low_values))]\n",
        "daily_low_values_list"
      ],
      "metadata": {
        "id": "BVlQdrjAjbH8",
        "colab": {
          "base_uri": "https://localhost:8080/"
        },
        "outputId": "bb628aad-dee2-4b92-87a7-4f99c3587d58"
      },
      "execution_count": 26,
      "outputs": [
        {
          "output_type": "execute_result",
          "data": {
            "text/plain": [
              "['25°',\n",
              " '25°',\n",
              " '26°',\n",
              " '26°',\n",
              " '25°',\n",
              " '26°',\n",
              " '26°',\n",
              " '26°',\n",
              " '26°',\n",
              " '26°',\n",
              " '26°',\n",
              " '26°',\n",
              " '26°',\n",
              " '26°']"
            ]
          },
          "metadata": {},
          "execution_count": 26
        }
      ]
    },
    {
      "cell_type": "code",
      "source": [
        "daily_summary.text"
      ],
      "metadata": {
        "id": "EUdKElmQkDS0",
        "colab": {
          "base_uri": "https://localhost:8080/",
          "height": 88
        },
        "outputId": "c835b152-4b28-4c7b-da3a-842a5352bf23"
      },
      "execution_count": 27,
      "outputs": [
        {
          "output_type": "execute_result",
          "data": {
            "text/plain": [
              "'Thundery showers and a gentle breezeThundery showers and a gentle breezeLight cloud and a moderate breezeLight rain showers and a gentle breezeThundery showers and a gentle breezeHeavy rain and a gentle breezeLight rain and a gentle breezeThundery showers and a moderate breezeThundery showers and a moderate breezeThundery showers and a moderate breezeThundery showers and a moderate breezeThundery showers and a moderate breezeThundery showers and a moderate breezeThundery showers and a moderate breeze'"
            ],
            "application/vnd.google.colaboratory.intrinsic+json": {
              "type": "string"
            }
          },
          "metadata": {},
          "execution_count": 27
        }
      ]
    },
    {
      "cell_type": "code",
      "source": [
        "daily_summary_list = re.findall('[a-zA-Z][^A-Z]*', daily_summary.text) #split the string on uppercase\n",
        "daily_summary_list"
      ],
      "metadata": {
        "id": "vkHMSCxDkFgO",
        "colab": {
          "base_uri": "https://localhost:8080/"
        },
        "outputId": "af33327e-e8ad-4dea-b229-ee66374953a6"
      },
      "execution_count": 28,
      "outputs": [
        {
          "output_type": "execute_result",
          "data": {
            "text/plain": [
              "['Thundery showers and a gentle breeze',\n",
              " 'Thundery showers and a gentle breeze',\n",
              " 'Light cloud and a moderate breeze',\n",
              " 'Light rain showers and a gentle breeze',\n",
              " 'Thundery showers and a gentle breeze',\n",
              " 'Heavy rain and a gentle breeze',\n",
              " 'Light rain and a gentle breeze',\n",
              " 'Thundery showers and a moderate breeze',\n",
              " 'Thundery showers and a moderate breeze',\n",
              " 'Thundery showers and a moderate breeze',\n",
              " 'Thundery showers and a moderate breeze',\n",
              " 'Thundery showers and a moderate breeze',\n",
              " 'Thundery showers and a moderate breeze',\n",
              " 'Thundery showers and a moderate breeze']"
            ]
          },
          "metadata": {},
          "execution_count": 28
        }
      ]
    },
    {
      "cell_type": "code",
      "source": [
        "datelist = pd.date_range(datetime.today(), periods=len(daily_high_values)).tolist()\n",
        "datelist"
      ],
      "metadata": {
        "id": "8jEQ6EzbkHlj",
        "colab": {
          "base_uri": "https://localhost:8080/"
        },
        "outputId": "aaefe6dc-a591-4ea5-8d44-c901cd046d94"
      },
      "execution_count": 29,
      "outputs": [
        {
          "output_type": "execute_result",
          "data": {
            "text/plain": [
              "[Timestamp('2022-06-20 10:18:31.887492', freq='D'),\n",
              " Timestamp('2022-06-21 10:18:31.887492', freq='D'),\n",
              " Timestamp('2022-06-22 10:18:31.887492', freq='D'),\n",
              " Timestamp('2022-06-23 10:18:31.887492', freq='D'),\n",
              " Timestamp('2022-06-24 10:18:31.887492', freq='D'),\n",
              " Timestamp('2022-06-25 10:18:31.887492', freq='D'),\n",
              " Timestamp('2022-06-26 10:18:31.887492', freq='D'),\n",
              " Timestamp('2022-06-27 10:18:31.887492', freq='D'),\n",
              " Timestamp('2022-06-28 10:18:31.887492', freq='D'),\n",
              " Timestamp('2022-06-29 10:18:31.887492', freq='D'),\n",
              " Timestamp('2022-06-30 10:18:31.887492', freq='D'),\n",
              " Timestamp('2022-07-01 10:18:31.887492', freq='D'),\n",
              " Timestamp('2022-07-02 10:18:31.887492', freq='D'),\n",
              " Timestamp('2022-07-03 10:18:31.887492', freq='D')]"
            ]
          },
          "metadata": {},
          "execution_count": 29
        }
      ]
    },
    {
      "cell_type": "code",
      "source": [
        "datelist = [datelist[i].date().strftime('%y-%m-%d') for i in range(len(datelist))]\n",
        "datelist"
      ],
      "metadata": {
        "id": "H-HjeMp5kJar",
        "colab": {
          "base_uri": "https://localhost:8080/"
        },
        "outputId": "cca7324f-cc4b-47ce-b342-f27eb8c2abb4"
      },
      "execution_count": 30,
      "outputs": [
        {
          "output_type": "execute_result",
          "data": {
            "text/plain": [
              "['22-06-20',\n",
              " '22-06-21',\n",
              " '22-06-22',\n",
              " '22-06-23',\n",
              " '22-06-24',\n",
              " '22-06-25',\n",
              " '22-06-26',\n",
              " '22-06-27',\n",
              " '22-06-28',\n",
              " '22-06-29',\n",
              " '22-06-30',\n",
              " '22-07-01',\n",
              " '22-07-02',\n",
              " '22-07-03']"
            ]
          },
          "metadata": {},
          "execution_count": 30
        }
      ]
    },
    {
      "cell_type": "code",
      "source": [
        "zipped = zip(datelist, daily_high_values_list, daily_low_values_list, daily_summary_list)"
      ],
      "metadata": {
        "id": "PGQeADnFkLh9"
      },
      "execution_count": 31,
      "outputs": []
    },
    {
      "cell_type": "code",
      "source": [
        "df = pd.DataFrame(list(zipped), columns=['Date', 'High','Low', 'Summary'])"
      ],
      "metadata": {
        "id": "Z1K-85nAkOgK"
      },
      "execution_count": 32,
      "outputs": []
    },
    {
      "cell_type": "code",
      "source": [
        "display(df)"
      ],
      "metadata": {
        "id": "G_cuuMS9kQqc",
        "colab": {
          "base_uri": "https://localhost:8080/",
          "height": 483
        },
        "outputId": "822a7dae-ac14-4cbb-922c-cc2951c41279"
      },
      "execution_count": 33,
      "outputs": [
        {
          "output_type": "display_data",
          "data": {
            "text/plain": [
              "        Date High  Low                                 Summary\n",
              "0   22-06-20  27°  25°    Thundery showers and a gentle breeze\n",
              "1   22-06-21  29°  25°    Thundery showers and a gentle breeze\n",
              "2   22-06-22  31°  26°       Light cloud and a moderate breeze\n",
              "3   22-06-23  31°  26°  Light rain showers and a gentle breeze\n",
              "4   22-06-24  30°  25°    Thundery showers and a gentle breeze\n",
              "5   22-06-25  30°  26°          Heavy rain and a gentle breeze\n",
              "6   22-06-26  29°  26°          Light rain and a gentle breeze\n",
              "7   22-06-27  29°  26°  Thundery showers and a moderate breeze\n",
              "8   22-06-28  30°  26°  Thundery showers and a moderate breeze\n",
              "9   22-06-29  30°  26°  Thundery showers and a moderate breeze\n",
              "10  22-06-30  29°  26°  Thundery showers and a moderate breeze\n",
              "11  22-07-01  29°  26°  Thundery showers and a moderate breeze\n",
              "12  22-07-02  30°  26°  Thundery showers and a moderate breeze\n",
              "13  22-07-03  30°  26°  Thundery showers and a moderate breeze"
            ],
            "text/html": [
              "\n",
              "  <div id=\"df-f467d562-5282-4d92-b2d4-158cdbb7d5a9\">\n",
              "    <div class=\"colab-df-container\">\n",
              "      <div>\n",
              "<style scoped>\n",
              "    .dataframe tbody tr th:only-of-type {\n",
              "        vertical-align: middle;\n",
              "    }\n",
              "\n",
              "    .dataframe tbody tr th {\n",
              "        vertical-align: top;\n",
              "    }\n",
              "\n",
              "    .dataframe thead th {\n",
              "        text-align: right;\n",
              "    }\n",
              "</style>\n",
              "<table border=\"1\" class=\"dataframe\">\n",
              "  <thead>\n",
              "    <tr style=\"text-align: right;\">\n",
              "      <th></th>\n",
              "      <th>Date</th>\n",
              "      <th>High</th>\n",
              "      <th>Low</th>\n",
              "      <th>Summary</th>\n",
              "    </tr>\n",
              "  </thead>\n",
              "  <tbody>\n",
              "    <tr>\n",
              "      <th>0</th>\n",
              "      <td>22-06-20</td>\n",
              "      <td>27°</td>\n",
              "      <td>25°</td>\n",
              "      <td>Thundery showers and a gentle breeze</td>\n",
              "    </tr>\n",
              "    <tr>\n",
              "      <th>1</th>\n",
              "      <td>22-06-21</td>\n",
              "      <td>29°</td>\n",
              "      <td>25°</td>\n",
              "      <td>Thundery showers and a gentle breeze</td>\n",
              "    </tr>\n",
              "    <tr>\n",
              "      <th>2</th>\n",
              "      <td>22-06-22</td>\n",
              "      <td>31°</td>\n",
              "      <td>26°</td>\n",
              "      <td>Light cloud and a moderate breeze</td>\n",
              "    </tr>\n",
              "    <tr>\n",
              "      <th>3</th>\n",
              "      <td>22-06-23</td>\n",
              "      <td>31°</td>\n",
              "      <td>26°</td>\n",
              "      <td>Light rain showers and a gentle breeze</td>\n",
              "    </tr>\n",
              "    <tr>\n",
              "      <th>4</th>\n",
              "      <td>22-06-24</td>\n",
              "      <td>30°</td>\n",
              "      <td>25°</td>\n",
              "      <td>Thundery showers and a gentle breeze</td>\n",
              "    </tr>\n",
              "    <tr>\n",
              "      <th>5</th>\n",
              "      <td>22-06-25</td>\n",
              "      <td>30°</td>\n",
              "      <td>26°</td>\n",
              "      <td>Heavy rain and a gentle breeze</td>\n",
              "    </tr>\n",
              "    <tr>\n",
              "      <th>6</th>\n",
              "      <td>22-06-26</td>\n",
              "      <td>29°</td>\n",
              "      <td>26°</td>\n",
              "      <td>Light rain and a gentle breeze</td>\n",
              "    </tr>\n",
              "    <tr>\n",
              "      <th>7</th>\n",
              "      <td>22-06-27</td>\n",
              "      <td>29°</td>\n",
              "      <td>26°</td>\n",
              "      <td>Thundery showers and a moderate breeze</td>\n",
              "    </tr>\n",
              "    <tr>\n",
              "      <th>8</th>\n",
              "      <td>22-06-28</td>\n",
              "      <td>30°</td>\n",
              "      <td>26°</td>\n",
              "      <td>Thundery showers and a moderate breeze</td>\n",
              "    </tr>\n",
              "    <tr>\n",
              "      <th>9</th>\n",
              "      <td>22-06-29</td>\n",
              "      <td>30°</td>\n",
              "      <td>26°</td>\n",
              "      <td>Thundery showers and a moderate breeze</td>\n",
              "    </tr>\n",
              "    <tr>\n",
              "      <th>10</th>\n",
              "      <td>22-06-30</td>\n",
              "      <td>29°</td>\n",
              "      <td>26°</td>\n",
              "      <td>Thundery showers and a moderate breeze</td>\n",
              "    </tr>\n",
              "    <tr>\n",
              "      <th>11</th>\n",
              "      <td>22-07-01</td>\n",
              "      <td>29°</td>\n",
              "      <td>26°</td>\n",
              "      <td>Thundery showers and a moderate breeze</td>\n",
              "    </tr>\n",
              "    <tr>\n",
              "      <th>12</th>\n",
              "      <td>22-07-02</td>\n",
              "      <td>30°</td>\n",
              "      <td>26°</td>\n",
              "      <td>Thundery showers and a moderate breeze</td>\n",
              "    </tr>\n",
              "    <tr>\n",
              "      <th>13</th>\n",
              "      <td>22-07-03</td>\n",
              "      <td>30°</td>\n",
              "      <td>26°</td>\n",
              "      <td>Thundery showers and a moderate breeze</td>\n",
              "    </tr>\n",
              "  </tbody>\n",
              "</table>\n",
              "</div>\n",
              "      <button class=\"colab-df-convert\" onclick=\"convertToInteractive('df-f467d562-5282-4d92-b2d4-158cdbb7d5a9')\"\n",
              "              title=\"Convert this dataframe to an interactive table.\"\n",
              "              style=\"display:none;\">\n",
              "        \n",
              "  <svg xmlns=\"http://www.w3.org/2000/svg\" height=\"24px\"viewBox=\"0 0 24 24\"\n",
              "       width=\"24px\">\n",
              "    <path d=\"M0 0h24v24H0V0z\" fill=\"none\"/>\n",
              "    <path d=\"M18.56 5.44l.94 2.06.94-2.06 2.06-.94-2.06-.94-.94-2.06-.94 2.06-2.06.94zm-11 1L8.5 8.5l.94-2.06 2.06-.94-2.06-.94L8.5 2.5l-.94 2.06-2.06.94zm10 10l.94 2.06.94-2.06 2.06-.94-2.06-.94-.94-2.06-.94 2.06-2.06.94z\"/><path d=\"M17.41 7.96l-1.37-1.37c-.4-.4-.92-.59-1.43-.59-.52 0-1.04.2-1.43.59L10.3 9.45l-7.72 7.72c-.78.78-.78 2.05 0 2.83L4 21.41c.39.39.9.59 1.41.59.51 0 1.02-.2 1.41-.59l7.78-7.78 2.81-2.81c.8-.78.8-2.07 0-2.86zM5.41 20L4 18.59l7.72-7.72 1.47 1.35L5.41 20z\"/>\n",
              "  </svg>\n",
              "      </button>\n",
              "      \n",
              "  <style>\n",
              "    .colab-df-container {\n",
              "      display:flex;\n",
              "      flex-wrap:wrap;\n",
              "      gap: 12px;\n",
              "    }\n",
              "\n",
              "    .colab-df-convert {\n",
              "      background-color: #E8F0FE;\n",
              "      border: none;\n",
              "      border-radius: 50%;\n",
              "      cursor: pointer;\n",
              "      display: none;\n",
              "      fill: #1967D2;\n",
              "      height: 32px;\n",
              "      padding: 0 0 0 0;\n",
              "      width: 32px;\n",
              "    }\n",
              "\n",
              "    .colab-df-convert:hover {\n",
              "      background-color: #E2EBFA;\n",
              "      box-shadow: 0px 1px 2px rgba(60, 64, 67, 0.3), 0px 1px 3px 1px rgba(60, 64, 67, 0.15);\n",
              "      fill: #174EA6;\n",
              "    }\n",
              "\n",
              "    [theme=dark] .colab-df-convert {\n",
              "      background-color: #3B4455;\n",
              "      fill: #D2E3FC;\n",
              "    }\n",
              "\n",
              "    [theme=dark] .colab-df-convert:hover {\n",
              "      background-color: #434B5C;\n",
              "      box-shadow: 0px 1px 3px 1px rgba(0, 0, 0, 0.15);\n",
              "      filter: drop-shadow(0px 1px 2px rgba(0, 0, 0, 0.3));\n",
              "      fill: #FFFFFF;\n",
              "    }\n",
              "  </style>\n",
              "\n",
              "      <script>\n",
              "        const buttonEl =\n",
              "          document.querySelector('#df-f467d562-5282-4d92-b2d4-158cdbb7d5a9 button.colab-df-convert');\n",
              "        buttonEl.style.display =\n",
              "          google.colab.kernel.accessAllowed ? 'block' : 'none';\n",
              "\n",
              "        async function convertToInteractive(key) {\n",
              "          const element = document.querySelector('#df-f467d562-5282-4d92-b2d4-158cdbb7d5a9');\n",
              "          const dataTable =\n",
              "            await google.colab.kernel.invokeFunction('convertToInteractive',\n",
              "                                                     [key], {});\n",
              "          if (!dataTable) return;\n",
              "\n",
              "          const docLinkHtml = 'Like what you see? Visit the ' +\n",
              "            '<a target=\"_blank\" href=https://colab.research.google.com/notebooks/data_table.ipynb>data table notebook</a>'\n",
              "            + ' to learn more about interactive tables.';\n",
              "          element.innerHTML = '';\n",
              "          dataTable['output_type'] = 'display_data';\n",
              "          await google.colab.output.renderOutput(dataTable, element);\n",
              "          const docLink = document.createElement('div');\n",
              "          docLink.innerHTML = docLinkHtml;\n",
              "          element.appendChild(docLink);\n",
              "        }\n",
              "      </script>\n",
              "    </div>\n",
              "  </div>\n",
              "  "
            ]
          },
          "metadata": {}
        }
      ]
    },
    {
      "cell_type": "code",
      "source": [
        "# remove the 'degree' character\n",
        "df.High = df.High.replace('\\°','',regex=True).astype(float)\n",
        "df.Low  = df.Low.replace('\\°','',regex=True).astype(float)"
      ],
      "metadata": {
        "id": "B7_W6frDkTHe"
      },
      "execution_count": 34,
      "outputs": []
    },
    {
      "cell_type": "code",
      "source": [
        "display(df)"
      ],
      "metadata": {
        "id": "VBXDg1JZkUsX",
        "colab": {
          "base_uri": "https://localhost:8080/",
          "height": 483
        },
        "outputId": "105402cb-4b3a-4ff2-ccc3-6dcde1da3222"
      },
      "execution_count": 35,
      "outputs": [
        {
          "output_type": "display_data",
          "data": {
            "text/plain": [
              "        Date  High   Low                                 Summary\n",
              "0   22-06-20  27.0  25.0    Thundery showers and a gentle breeze\n",
              "1   22-06-21  29.0  25.0    Thundery showers and a gentle breeze\n",
              "2   22-06-22  31.0  26.0       Light cloud and a moderate breeze\n",
              "3   22-06-23  31.0  26.0  Light rain showers and a gentle breeze\n",
              "4   22-06-24  30.0  25.0    Thundery showers and a gentle breeze\n",
              "5   22-06-25  30.0  26.0          Heavy rain and a gentle breeze\n",
              "6   22-06-26  29.0  26.0          Light rain and a gentle breeze\n",
              "7   22-06-27  29.0  26.0  Thundery showers and a moderate breeze\n",
              "8   22-06-28  30.0  26.0  Thundery showers and a moderate breeze\n",
              "9   22-06-29  30.0  26.0  Thundery showers and a moderate breeze\n",
              "10  22-06-30  29.0  26.0  Thundery showers and a moderate breeze\n",
              "11  22-07-01  29.0  26.0  Thundery showers and a moderate breeze\n",
              "12  22-07-02  30.0  26.0  Thundery showers and a moderate breeze\n",
              "13  22-07-03  30.0  26.0  Thundery showers and a moderate breeze"
            ],
            "text/html": [
              "\n",
              "  <div id=\"df-287469a0-0a86-428e-b625-c6cb59e2f3d6\">\n",
              "    <div class=\"colab-df-container\">\n",
              "      <div>\n",
              "<style scoped>\n",
              "    .dataframe tbody tr th:only-of-type {\n",
              "        vertical-align: middle;\n",
              "    }\n",
              "\n",
              "    .dataframe tbody tr th {\n",
              "        vertical-align: top;\n",
              "    }\n",
              "\n",
              "    .dataframe thead th {\n",
              "        text-align: right;\n",
              "    }\n",
              "</style>\n",
              "<table border=\"1\" class=\"dataframe\">\n",
              "  <thead>\n",
              "    <tr style=\"text-align: right;\">\n",
              "      <th></th>\n",
              "      <th>Date</th>\n",
              "      <th>High</th>\n",
              "      <th>Low</th>\n",
              "      <th>Summary</th>\n",
              "    </tr>\n",
              "  </thead>\n",
              "  <tbody>\n",
              "    <tr>\n",
              "      <th>0</th>\n",
              "      <td>22-06-20</td>\n",
              "      <td>27.0</td>\n",
              "      <td>25.0</td>\n",
              "      <td>Thundery showers and a gentle breeze</td>\n",
              "    </tr>\n",
              "    <tr>\n",
              "      <th>1</th>\n",
              "      <td>22-06-21</td>\n",
              "      <td>29.0</td>\n",
              "      <td>25.0</td>\n",
              "      <td>Thundery showers and a gentle breeze</td>\n",
              "    </tr>\n",
              "    <tr>\n",
              "      <th>2</th>\n",
              "      <td>22-06-22</td>\n",
              "      <td>31.0</td>\n",
              "      <td>26.0</td>\n",
              "      <td>Light cloud and a moderate breeze</td>\n",
              "    </tr>\n",
              "    <tr>\n",
              "      <th>3</th>\n",
              "      <td>22-06-23</td>\n",
              "      <td>31.0</td>\n",
              "      <td>26.0</td>\n",
              "      <td>Light rain showers and a gentle breeze</td>\n",
              "    </tr>\n",
              "    <tr>\n",
              "      <th>4</th>\n",
              "      <td>22-06-24</td>\n",
              "      <td>30.0</td>\n",
              "      <td>25.0</td>\n",
              "      <td>Thundery showers and a gentle breeze</td>\n",
              "    </tr>\n",
              "    <tr>\n",
              "      <th>5</th>\n",
              "      <td>22-06-25</td>\n",
              "      <td>30.0</td>\n",
              "      <td>26.0</td>\n",
              "      <td>Heavy rain and a gentle breeze</td>\n",
              "    </tr>\n",
              "    <tr>\n",
              "      <th>6</th>\n",
              "      <td>22-06-26</td>\n",
              "      <td>29.0</td>\n",
              "      <td>26.0</td>\n",
              "      <td>Light rain and a gentle breeze</td>\n",
              "    </tr>\n",
              "    <tr>\n",
              "      <th>7</th>\n",
              "      <td>22-06-27</td>\n",
              "      <td>29.0</td>\n",
              "      <td>26.0</td>\n",
              "      <td>Thundery showers and a moderate breeze</td>\n",
              "    </tr>\n",
              "    <tr>\n",
              "      <th>8</th>\n",
              "      <td>22-06-28</td>\n",
              "      <td>30.0</td>\n",
              "      <td>26.0</td>\n",
              "      <td>Thundery showers and a moderate breeze</td>\n",
              "    </tr>\n",
              "    <tr>\n",
              "      <th>9</th>\n",
              "      <td>22-06-29</td>\n",
              "      <td>30.0</td>\n",
              "      <td>26.0</td>\n",
              "      <td>Thundery showers and a moderate breeze</td>\n",
              "    </tr>\n",
              "    <tr>\n",
              "      <th>10</th>\n",
              "      <td>22-06-30</td>\n",
              "      <td>29.0</td>\n",
              "      <td>26.0</td>\n",
              "      <td>Thundery showers and a moderate breeze</td>\n",
              "    </tr>\n",
              "    <tr>\n",
              "      <th>11</th>\n",
              "      <td>22-07-01</td>\n",
              "      <td>29.0</td>\n",
              "      <td>26.0</td>\n",
              "      <td>Thundery showers and a moderate breeze</td>\n",
              "    </tr>\n",
              "    <tr>\n",
              "      <th>12</th>\n",
              "      <td>22-07-02</td>\n",
              "      <td>30.0</td>\n",
              "      <td>26.0</td>\n",
              "      <td>Thundery showers and a moderate breeze</td>\n",
              "    </tr>\n",
              "    <tr>\n",
              "      <th>13</th>\n",
              "      <td>22-07-03</td>\n",
              "      <td>30.0</td>\n",
              "      <td>26.0</td>\n",
              "      <td>Thundery showers and a moderate breeze</td>\n",
              "    </tr>\n",
              "  </tbody>\n",
              "</table>\n",
              "</div>\n",
              "      <button class=\"colab-df-convert\" onclick=\"convertToInteractive('df-287469a0-0a86-428e-b625-c6cb59e2f3d6')\"\n",
              "              title=\"Convert this dataframe to an interactive table.\"\n",
              "              style=\"display:none;\">\n",
              "        \n",
              "  <svg xmlns=\"http://www.w3.org/2000/svg\" height=\"24px\"viewBox=\"0 0 24 24\"\n",
              "       width=\"24px\">\n",
              "    <path d=\"M0 0h24v24H0V0z\" fill=\"none\"/>\n",
              "    <path d=\"M18.56 5.44l.94 2.06.94-2.06 2.06-.94-2.06-.94-.94-2.06-.94 2.06-2.06.94zm-11 1L8.5 8.5l.94-2.06 2.06-.94-2.06-.94L8.5 2.5l-.94 2.06-2.06.94zm10 10l.94 2.06.94-2.06 2.06-.94-2.06-.94-.94-2.06-.94 2.06-2.06.94z\"/><path d=\"M17.41 7.96l-1.37-1.37c-.4-.4-.92-.59-1.43-.59-.52 0-1.04.2-1.43.59L10.3 9.45l-7.72 7.72c-.78.78-.78 2.05 0 2.83L4 21.41c.39.39.9.59 1.41.59.51 0 1.02-.2 1.41-.59l7.78-7.78 2.81-2.81c.8-.78.8-2.07 0-2.86zM5.41 20L4 18.59l7.72-7.72 1.47 1.35L5.41 20z\"/>\n",
              "  </svg>\n",
              "      </button>\n",
              "      \n",
              "  <style>\n",
              "    .colab-df-container {\n",
              "      display:flex;\n",
              "      flex-wrap:wrap;\n",
              "      gap: 12px;\n",
              "    }\n",
              "\n",
              "    .colab-df-convert {\n",
              "      background-color: #E8F0FE;\n",
              "      border: none;\n",
              "      border-radius: 50%;\n",
              "      cursor: pointer;\n",
              "      display: none;\n",
              "      fill: #1967D2;\n",
              "      height: 32px;\n",
              "      padding: 0 0 0 0;\n",
              "      width: 32px;\n",
              "    }\n",
              "\n",
              "    .colab-df-convert:hover {\n",
              "      background-color: #E2EBFA;\n",
              "      box-shadow: 0px 1px 2px rgba(60, 64, 67, 0.3), 0px 1px 3px 1px rgba(60, 64, 67, 0.15);\n",
              "      fill: #174EA6;\n",
              "    }\n",
              "\n",
              "    [theme=dark] .colab-df-convert {\n",
              "      background-color: #3B4455;\n",
              "      fill: #D2E3FC;\n",
              "    }\n",
              "\n",
              "    [theme=dark] .colab-df-convert:hover {\n",
              "      background-color: #434B5C;\n",
              "      box-shadow: 0px 1px 3px 1px rgba(0, 0, 0, 0.15);\n",
              "      filter: drop-shadow(0px 1px 2px rgba(0, 0, 0, 0.3));\n",
              "      fill: #FFFFFF;\n",
              "    }\n",
              "  </style>\n",
              "\n",
              "      <script>\n",
              "        const buttonEl =\n",
              "          document.querySelector('#df-287469a0-0a86-428e-b625-c6cb59e2f3d6 button.colab-df-convert');\n",
              "        buttonEl.style.display =\n",
              "          google.colab.kernel.accessAllowed ? 'block' : 'none';\n",
              "\n",
              "        async function convertToInteractive(key) {\n",
              "          const element = document.querySelector('#df-287469a0-0a86-428e-b625-c6cb59e2f3d6');\n",
              "          const dataTable =\n",
              "            await google.colab.kernel.invokeFunction('convertToInteractive',\n",
              "                                                     [key], {});\n",
              "          if (!dataTable) return;\n",
              "\n",
              "          const docLinkHtml = 'Like what you see? Visit the ' +\n",
              "            '<a target=\"_blank\" href=https://colab.research.google.com/notebooks/data_table.ipynb>data table notebook</a>'\n",
              "            + ' to learn more about interactive tables.';\n",
              "          element.innerHTML = '';\n",
              "          dataTable['output_type'] = 'display_data';\n",
              "          await google.colab.output.renderOutput(dataTable, element);\n",
              "          const docLink = document.createElement('div');\n",
              "          docLink.innerHTML = docLinkHtml;\n",
              "          element.appendChild(docLink);\n",
              "        }\n",
              "      </script>\n",
              "    </div>\n",
              "  </div>\n",
              "  "
            ]
          },
          "metadata": {}
        }
      ]
    },
    {
      "cell_type": "markdown",
      "source": [
        "Extract the name of the city for which data is gathered."
      ],
      "metadata": {
        "id": "deDUETo8kkW6"
      }
    },
    {
      "cell_type": "code",
      "source": [
        "#location = soup.find('div', attrs={'class':'wr-c-location'})\n",
        "location = soup.find('h1', attrs={'id':'wr-location-name-id'})\n",
        "location.text.split()"
      ],
      "metadata": {
        "id": "LVNu9TA2kxxo",
        "colab": {
          "base_uri": "https://localhost:8080/"
        },
        "outputId": "efc3fbef-1ad9-4ebe-cb79-70b2e91afed2"
      },
      "execution_count": 36,
      "outputs": [
        {
          "output_type": "execute_result",
          "data": {
            "text/plain": [
              "['Mumbai', '-', 'Weather', 'warnings', 'issued']"
            ]
          },
          "metadata": {},
          "execution_count": 36
        }
      ]
    },
    {
      "cell_type": "code",
      "source": [
        "# create a recording\n",
        "filename_csv = location.text.split()[0]+'.csv'\n",
        "df.to_csv(filename_csv, index=None)"
      ],
      "metadata": {
        "id": "38u1hnA3k0es"
      },
      "execution_count": 37,
      "outputs": []
    },
    {
      "cell_type": "code",
      "source": [
        "filename_xlsx = location.text.split()[0]+'.xlsx'\n",
        "df.to_excel(filename_xlsx)"
      ],
      "metadata": {
        "id": "vKoI9cF1k2Hd"
      },
      "execution_count": 38,
      "outputs": []
    },
    {
      "cell_type": "markdown",
      "source": [
        "# Web Scraping IMDb"
      ],
      "metadata": {
        "id": "yWUSaL4Tld5F"
      }
    },
    {
      "cell_type": "markdown",
      "source": [
        "A tutorial to scrape movie information from IMDb\n",
        "1: Import Necessary Libraries"
      ],
      "metadata": {
        "id": "Kld_IoWnlu34"
      }
    },
    {
      "cell_type": "code",
      "source": [
        "from bs4 import BeautifulSoup as bs\n",
        "import requests #to access website\n",
        "import pandas as pd"
      ],
      "metadata": {
        "id": "RJiNkDONl38J"
      },
      "execution_count": 39,
      "outputs": []
    },
    {
      "cell_type": "markdown",
      "source": [
        "2: Load the webpage"
      ],
      "metadata": {
        "id": "G3Z89dEHmXlF"
      }
    },
    {
      "cell_type": "code",
      "source": [
        "r = requests.get(\"https://www.imdb.com/chart/top/\")\n",
        "\n",
        "# Convert to a beautiful soup object\n",
        "soup = bs(r.content)\n",
        "\n",
        "# Print out HTML\n",
        "contents = soup.prettify()\n",
        "print(contents[:100])"
      ],
      "metadata": {
        "id": "J0Viv7d7mTw4",
        "colab": {
          "base_uri": "https://localhost:8080/"
        },
        "outputId": "bb181975-f9f4-45f8-8c86-aacc383e351d"
      },
      "execution_count": 40,
      "outputs": [
        {
          "output_type": "stream",
          "name": "stdout",
          "text": [
            "<!DOCTYPE html>\n",
            "<html xmlns:fb=\"http://www.facebook.com/2008/fbml\" xmlns:og=\"http://ogp.me/ns#\">\n",
            " <h\n"
          ]
        }
      ]
    },
    {
      "cell_type": "markdown",
      "source": [
        "3: Creating empty list"
      ],
      "metadata": {
        "id": "qRcjdxDzmn9P"
      }
    },
    {
      "cell_type": "code",
      "source": [
        "movie_title = []\n",
        "movie_year = []\n",
        "movie_rating = []"
      ],
      "metadata": {
        "id": "rzCB0Fo_mp3c"
      },
      "execution_count": 41,
      "outputs": []
    },
    {
      "cell_type": "markdown",
      "source": [
        "*4*: Extract HTML tag contents"
      ],
      "metadata": {
        "id": "Wa_5Jal1mtt_"
      }
    },
    {
      "cell_type": "code",
      "source": [
        "imdb_table = soup.find(class_=\"chart full-width\")"
      ],
      "metadata": {
        "id": "uC8FA2BknVwb"
      },
      "execution_count": 42,
      "outputs": []
    },
    {
      "cell_type": "code",
      "source": [
        "movie_titlecolumn = imdb_table.find_all(class_=\"titleColumn\")"
      ],
      "metadata": {
        "id": "2PIqfPicnbx6"
      },
      "execution_count": 43,
      "outputs": []
    },
    {
      "cell_type": "code",
      "source": [
        "movie_ratingscolumn = imdb_table.find_all(class_=\"ratingColumn imdbRating\")"
      ],
      "metadata": {
        "id": "v8v7qu_cndv3"
      },
      "execution_count": 44,
      "outputs": []
    },
    {
      "cell_type": "code",
      "source": [
        "for row in movie_titlecolumn:\n",
        "    title = row.a.text # tag content extraction\n",
        "    movie_title.append(title)\n",
        "movie_title"
      ],
      "metadata": {
        "id": "R5WpWPgPnfOD",
        "colab": {
          "base_uri": "https://localhost:8080/"
        },
        "outputId": "d0e8ed82-8517-4463-c844-6973e2ec4803"
      },
      "execution_count": 45,
      "outputs": [
        {
          "output_type": "execute_result",
          "data": {
            "text/plain": [
              "['The Shawshank Redemption',\n",
              " 'The Godfather',\n",
              " 'The Dark Knight',\n",
              " 'The Godfather Part II',\n",
              " '12 Angry Men',\n",
              " \"Schindler's List\",\n",
              " 'The Lord of the Rings: The Return of the King',\n",
              " 'Pulp Fiction',\n",
              " 'The Lord of the Rings: The Fellowship of the Ring',\n",
              " 'The Good, the Bad and the Ugly',\n",
              " 'Forrest Gump',\n",
              " 'Fight Club',\n",
              " 'Inception',\n",
              " 'The Lord of the Rings: The Two Towers',\n",
              " 'Star Wars: Episode V - The Empire Strikes Back',\n",
              " 'The Matrix',\n",
              " 'Goodfellas',\n",
              " \"One Flew Over the Cuckoo's Nest\",\n",
              " 'Se7en',\n",
              " 'Seven Samurai',\n",
              " \"It's a Wonderful Life\",\n",
              " 'The Silence of the Lambs',\n",
              " 'City of God',\n",
              " 'Saving Private Ryan',\n",
              " 'Life Is Beautiful',\n",
              " 'The Green Mile',\n",
              " 'Interstellar',\n",
              " 'Star Wars',\n",
              " 'Terminator 2: Judgment Day',\n",
              " 'Back to the Future',\n",
              " 'Spirited Away',\n",
              " 'Psycho',\n",
              " 'The Pianist',\n",
              " 'Léon: The Professional',\n",
              " 'Parasite',\n",
              " 'The Lion King',\n",
              " 'Gladiator',\n",
              " 'American History X',\n",
              " 'The Usual Suspects',\n",
              " 'The Departed',\n",
              " 'The Prestige',\n",
              " 'Casablanca',\n",
              " 'Top Gun: Maverick',\n",
              " 'Whiplash',\n",
              " 'The Intouchables',\n",
              " 'Modern Times',\n",
              " 'Hara-Kiri',\n",
              " 'Once Upon a Time in the West',\n",
              " 'Grave of the Fireflies',\n",
              " 'Rear Window',\n",
              " 'Alien',\n",
              " 'City Lights',\n",
              " 'Cinema Paradiso',\n",
              " 'Memento',\n",
              " 'Apocalypse Now',\n",
              " 'Indiana Jones and the Raiders of the Lost Ark',\n",
              " 'Django Unchained',\n",
              " 'WALL·E',\n",
              " 'The Lives of Others',\n",
              " 'Sunset Blvd.',\n",
              " 'Paths of Glory',\n",
              " 'The Shining',\n",
              " 'The Great Dictator',\n",
              " 'Witness for the Prosecution',\n",
              " 'Avengers: Infinity War',\n",
              " 'Aliens',\n",
              " 'American Beauty',\n",
              " 'Dr. Strangelove or: How I Learned to Stop Worrying and Love the Bomb',\n",
              " 'Spider-Man: Into the Spider-Verse',\n",
              " 'The Dark Knight Rises',\n",
              " 'Oldboy',\n",
              " 'Joker',\n",
              " 'Braveheart',\n",
              " 'Amadeus',\n",
              " 'Toy Story',\n",
              " 'Coco',\n",
              " 'The Boat',\n",
              " 'Inglourious Basterds',\n",
              " 'Princess Mononoke',\n",
              " 'Avengers: Endgame',\n",
              " 'Once Upon a Time in America',\n",
              " 'Good Will Hunting',\n",
              " 'Requiem for a Dream',\n",
              " 'Toy Story 3',\n",
              " 'Your Name.',\n",
              " \"Singin' in the Rain\",\n",
              " '3 Idiots',\n",
              " 'Star Wars: Episode VI - Return of the Jedi',\n",
              " '2001: A Space Odyssey',\n",
              " 'Eternal Sunshine of the Spotless Mind',\n",
              " 'Reservoir Dogs',\n",
              " 'High and Low',\n",
              " 'Capernaum',\n",
              " 'Citizen Kane',\n",
              " 'Lawrence of Arabia',\n",
              " 'The Hunt',\n",
              " 'M',\n",
              " 'North by Northwest',\n",
              " 'Vertigo',\n",
              " 'Amélie',\n",
              " 'A Clockwork Orange',\n",
              " 'Come and See',\n",
              " 'Full Metal Jacket',\n",
              " 'Double Indemnity',\n",
              " 'The Apartment',\n",
              " 'Scarface',\n",
              " 'Ikiru',\n",
              " 'The Sting',\n",
              " 'To Kill a Mockingbird',\n",
              " 'Taxi Driver',\n",
              " 'L.A. Confidential',\n",
              " 'Up',\n",
              " 'Heat',\n",
              " 'Hamilton',\n",
              " 'Metropolis',\n",
              " 'A Separation',\n",
              " 'Snatch',\n",
              " 'Die Hard',\n",
              " 'Incendies',\n",
              " 'Indiana Jones and the Last Crusade',\n",
              " 'Bicycle Thieves',\n",
              " 'Spider-Man: No Way Home',\n",
              " '1917',\n",
              " 'Like Stars on Earth',\n",
              " 'Downfall',\n",
              " 'For a Few Dollars More',\n",
              " 'Batman Begins',\n",
              " 'Dangal',\n",
              " 'The Kid',\n",
              " 'Some Like It Hot',\n",
              " 'The Father',\n",
              " 'All About Eve',\n",
              " 'Everything Everywhere All at Once',\n",
              " 'Green Book',\n",
              " 'The Wolf of Wall Street',\n",
              " 'Judgment at Nuremberg',\n",
              " 'Unforgiven',\n",
              " 'Ran',\n",
              " 'Casino',\n",
              " \"Pan's Labyrinth\",\n",
              " 'There Will Be Blood',\n",
              " 'The Sixth Sense',\n",
              " 'A Beautiful Mind',\n",
              " 'Monty Python and the Holy Grail',\n",
              " 'The Truman Show',\n",
              " 'Yojimbo',\n",
              " 'The Treasure of the Sierra Madre',\n",
              " 'Rashomon',\n",
              " 'Shutter Island',\n",
              " 'The Great Escape',\n",
              " 'Jurassic Park',\n",
              " 'Kill Bill: Vol. 1',\n",
              " 'No Country for Old Men',\n",
              " 'Finding Nemo',\n",
              " 'The Elephant Man',\n",
              " 'Raging Bull',\n",
              " 'Chinatown',\n",
              " 'Gone with the Wind',\n",
              " 'V for Vendetta',\n",
              " 'The Thing',\n",
              " 'Inside Out',\n",
              " 'Lock, Stock and Two Smoking Barrels',\n",
              " 'Dial M for Murder',\n",
              " 'The Secret in Their Eyes',\n",
              " 'The Bridge on the River Kwai',\n",
              " \"Howl's Moving Castle\",\n",
              " 'Three Billboards Outside Ebbing, Missouri',\n",
              " 'Trainspotting',\n",
              " 'Gran Torino',\n",
              " 'Warrior',\n",
              " 'Fargo',\n",
              " 'My Neighbor Totoro',\n",
              " 'Prisoners',\n",
              " 'Million Dollar Baby',\n",
              " 'The Gold Rush',\n",
              " 'Blade Runner',\n",
              " 'Catch Me If You Can',\n",
              " 'On the Waterfront',\n",
              " 'The Third Man',\n",
              " 'Children of Heaven',\n",
              " 'Ben-Hur',\n",
              " '12 Years a Slave',\n",
              " 'The General',\n",
              " 'Wild Strawberries',\n",
              " 'Gone Girl',\n",
              " 'Before Sunrise',\n",
              " 'Harry Potter and the Deathly Hallows: Part 2',\n",
              " 'The Deer Hunter',\n",
              " 'In the Name of the Father',\n",
              " 'The Grand Budapest Hotel',\n",
              " 'Mr. Smith Goes to Washington',\n",
              " 'The Wages of Fear',\n",
              " 'Barry Lyndon',\n",
              " 'Sherlock Jr.',\n",
              " 'Memories of Murder',\n",
              " 'Room',\n",
              " 'Hacksaw Ridge',\n",
              " 'Klaus',\n",
              " 'The Seventh Seal',\n",
              " 'Wild Tales',\n",
              " 'The Big Lebowski',\n",
              " 'How to Train Your Dragon',\n",
              " 'Mad Max: Fury Road',\n",
              " 'Mary and Max',\n",
              " 'Monsters, Inc.',\n",
              " 'Jaws',\n",
              " 'The Passion of Joan of Arc',\n",
              " 'Hotel Rwanda',\n",
              " 'Tokyo Story',\n",
              " 'Dead Poets Society',\n",
              " 'Pather Panchali',\n",
              " 'Rocky',\n",
              " 'Platoon',\n",
              " 'Ford v Ferrari',\n",
              " 'Stand by Me',\n",
              " 'The Terminator',\n",
              " 'Spotlight',\n",
              " 'Rush',\n",
              " 'Into the Wild',\n",
              " 'Network',\n",
              " 'The Wizard of Oz',\n",
              " 'Logan',\n",
              " 'Groundhog Day',\n",
              " 'Ratatouille',\n",
              " 'Before Sunset',\n",
              " 'The Exorcist',\n",
              " 'The Best Years of Our Lives',\n",
              " 'The Incredibles',\n",
              " 'To Be or Not to Be',\n",
              " 'Rebecca',\n",
              " 'The Grapes of Wrath',\n",
              " 'The Battle of Algiers',\n",
              " \"Hachi: A Dog's Tale\",\n",
              " 'Cool Hand Luke',\n",
              " 'Amores perros',\n",
              " 'Pirates of the Caribbean: The Curse of the Black Pearl',\n",
              " 'The 400 Blows',\n",
              " 'La Haine',\n",
              " 'Persona',\n",
              " 'Life of Brian',\n",
              " 'My Father and My Son',\n",
              " 'Dersu Uzala',\n",
              " 'It Happened One Night',\n",
              " 'The Sound of Music',\n",
              " 'The Handmaiden',\n",
              " 'Jai Bhim',\n",
              " 'Aladdin',\n",
              " 'Gandhi',\n",
              " 'The Help',\n",
              " 'Beauty and the Beast']"
            ]
          },
          "metadata": {},
          "execution_count": 45
        }
      ]
    },
    {
      "cell_type": "markdown",
      "source": [
        "# Scraping using Geocoding API of Open Street Maps (OSM)\n",
        "\n",
        "We would be using the Nominatim API to scrape geocoding information of any open ended address text using Python."
      ],
      "metadata": {
        "id": "Y8CeTHFfvX9r"
      }
    },
    {
      "cell_type": "code",
      "source": [
        "# no need to install these if using Google Colab\n",
        "!pip install geopandas\n",
        "!pip install geopy"
      ],
      "metadata": {
        "id": "2YaVh5E_vbuZ"
      },
      "execution_count": null,
      "outputs": []
    },
    {
      "cell_type": "code",
      "source": [
        "#import nominatim api\n",
        "from geopy.geocoders import Nominatim"
      ],
      "metadata": {
        "id": "7VnqXxLCvdvR"
      },
      "execution_count": 51,
      "outputs": []
    },
    {
      "cell_type": "code",
      "source": [
        "#activate nominatim geocoder\n",
        "locator = Nominatim(user_agent=\"21f1000660@student.onlinedegree.iitm.ac.in\")\n",
        "#type any address text\n",
        "location = locator.geocode(\"Champ de Mars, Paris, France\")"
      ],
      "metadata": {
        "id": "6NTlTHSFvfSc"
      },
      "execution_count": 53,
      "outputs": []
    },
    {
      "cell_type": "code",
      "source": [
        "#print lattitude and longitude of the address\n",
        "print(\"Latitude = {}, Longitude = {}\".format(location.latitude, location.longitude))"
      ],
      "metadata": {
        "id": "RFsyvt3GvhE_",
        "colab": {
          "base_uri": "https://localhost:8080/"
        },
        "outputId": "c5d10fc6-fae4-43d6-bdef-761a9c34916a"
      },
      "execution_count": 54,
      "outputs": [
        {
          "output_type": "stream",
          "name": "stdout",
          "text": [
            "Latitude = 48.85614465, Longitude = 2.297820393322227\n"
          ]
        }
      ]
    },
    {
      "cell_type": "code",
      "source": [
        "#the API output has multiple other details as a json like altitude, lattitude, longitude, correct raw addres, etc.\n",
        "#printing all the informaton\n",
        "location.raw,location.point,location.longitude,location.latitude,location.altitude,location.address"
      ],
      "metadata": {
        "id": "X4i6LTZdvjvm",
        "colab": {
          "base_uri": "https://localhost:8080/"
        },
        "outputId": "9e09637d-3895-44ad-9f76-586b943d02d5"
      },
      "execution_count": 55,
      "outputs": [
        {
          "output_type": "execute_result",
          "data": {
            "text/plain": [
              "({'boundingbox': ['48.8522459', '48.8600801', '2.2918711', '2.303791'],\n",
              "  'class': 'tourism',\n",
              "  'display_name': 'Champ de Mars, Rue Edgar Faure, Quartier de Grenelle, Paris 15e Arrondissement, Paris, Île-de-France, France métropolitaine, 75015, France',\n",
              "  'icon': 'https://nominatim.openstreetmap.org/ui/mapicons/poi_point_of_interest.p.20.png',\n",
              "  'importance': 1.0080889235157509,\n",
              "  'lat': '48.85614465',\n",
              "  'licence': 'Data © OpenStreetMap contributors, ODbL 1.0. https://osm.org/copyright',\n",
              "  'lon': '2.297820393322227',\n",
              "  'osm_id': 4208595,\n",
              "  'osm_type': 'way',\n",
              "  'place_id': 96470916,\n",
              "  'type': 'attraction'},\n",
              " Point(48.85614465, 2.297820393322227, 0.0),\n",
              " 2.297820393322227,\n",
              " 48.85614465,\n",
              " 0.0,\n",
              " 'Champ de Mars, Rue Edgar Faure, Quartier de Grenelle, Paris 15e Arrondissement, Paris, Île-de-France, France métropolitaine, 75015, France')"
            ]
          },
          "metadata": {},
          "execution_count": 55
        }
      ]
    },
    {
      "cell_type": "code",
      "source": [
        "#trying another address\n",
        "location2 = locator.geocode(\"IIT Madras\")"
      ],
      "metadata": {
        "id": "wX1IC9MIvnw-"
      },
      "execution_count": 56,
      "outputs": []
    },
    {
      "cell_type": "code",
      "source": [
        "#printing all the informaton\n",
        "location2.raw,location2.point,location2.longitude,location2.latitude,location2.altitude,location2.address"
      ],
      "metadata": {
        "id": "sDD0hQ8cvppx",
        "colab": {
          "base_uri": "https://localhost:8080/"
        },
        "outputId": "ce37a1ef-4177-4e24-bd75-e07a95c8506e"
      },
      "execution_count": 57,
      "outputs": [
        {
          "output_type": "execute_result",
          "data": {
            "text/plain": [
              "({'boundingbox': ['12.9914269', '12.9915269', '80.2336286', '80.2337286'],\n",
              "  'class': 'amenity',\n",
              "  'display_name': 'IIT Madras, Adayar, CMWSSB Division 174, Ward 174, Zone 13 Adyar, Chennai, Chennai District, Tamil Nadu, 600036, India',\n",
              "  'icon': 'https://nominatim.openstreetmap.org/ui/mapicons/education_university.p.20.png',\n",
              "  'importance': 0.6647465975709506,\n",
              "  'lat': '12.9914769',\n",
              "  'licence': 'Data © OpenStreetMap contributors, ODbL 1.0. https://osm.org/copyright',\n",
              "  'lon': '80.2336786',\n",
              "  'osm_id': 4727968819,\n",
              "  'osm_type': 'node',\n",
              "  'place_id': 53759422,\n",
              "  'type': 'university'},\n",
              " Point(12.9914769, 80.2336786, 0.0),\n",
              " 80.2336786,\n",
              " 12.9914769,\n",
              " 0.0,\n",
              " 'IIT Madras, Adayar, CMWSSB Division 174, Ward 174, Zone 13 Adyar, Chennai, Chennai District, Tamil Nadu, 600036, India')"
            ]
          },
          "metadata": {},
          "execution_count": 57
        }
      ]
    },
    {
      "cell_type": "markdown",
      "source": [
        "# Wikipedia Library"
      ],
      "metadata": {
        "id": "yUn9Zq7fvt02"
      }
    },
    {
      "cell_type": "code",
      "source": [
        "!pip install wikipedia\n",
        "import wikipedia as wk"
      ],
      "metadata": {
        "id": "uz-VscsfwOPr",
        "colab": {
          "base_uri": "https://localhost:8080/"
        },
        "outputId": "2290decb-04e6-4b5c-f335-c96765e6b88d"
      },
      "execution_count": 58,
      "outputs": [
        {
          "output_type": "stream",
          "name": "stdout",
          "text": [
            "Looking in indexes: https://pypi.org/simple, https://us-python.pkg.dev/colab-wheels/public/simple/\n",
            "Collecting wikipedia\n",
            "  Downloading wikipedia-1.4.0.tar.gz (27 kB)\n",
            "Requirement already satisfied: beautifulsoup4 in /usr/local/lib/python3.7/dist-packages (from wikipedia) (4.6.3)\n",
            "Requirement already satisfied: requests<3.0.0,>=2.0.0 in /usr/local/lib/python3.7/dist-packages (from wikipedia) (2.23.0)\n",
            "Requirement already satisfied: urllib3!=1.25.0,!=1.25.1,<1.26,>=1.21.1 in /usr/local/lib/python3.7/dist-packages (from requests<3.0.0,>=2.0.0->wikipedia) (1.24.3)\n",
            "Requirement already satisfied: idna<3,>=2.5 in /usr/local/lib/python3.7/dist-packages (from requests<3.0.0,>=2.0.0->wikipedia) (2.10)\n",
            "Requirement already satisfied: chardet<4,>=3.0.2 in /usr/local/lib/python3.7/dist-packages (from requests<3.0.0,>=2.0.0->wikipedia) (3.0.4)\n",
            "Requirement already satisfied: certifi>=2017.4.17 in /usr/local/lib/python3.7/dist-packages (from requests<3.0.0,>=2.0.0->wikipedia) (2022.6.15)\n",
            "Building wheels for collected packages: wikipedia\n",
            "  Building wheel for wikipedia (setup.py) ... \u001b[?25l\u001b[?25hdone\n",
            "  Created wheel for wikipedia: filename=wikipedia-1.4.0-py3-none-any.whl size=11695 sha256=e65746901b60a5dcd99a128404e8fe5f3e840f093be3d4f43fc480727cc85e96\n",
            "  Stored in directory: /root/.cache/pip/wheels/15/93/6d/5b2c68b8a64c7a7a04947b4ed6d89fb557dcc6bc27d1d7f3ba\n",
            "Successfully built wikipedia\n",
            "Installing collected packages: wikipedia\n",
            "Successfully installed wikipedia-1.4.0\n"
          ]
        }
      ]
    },
    {
      "cell_type": "code",
      "source": [
        "print(wk.search(\"IIT Madras\")) "
      ],
      "metadata": {
        "id": "6PFqnlxxwmtp",
        "colab": {
          "base_uri": "https://localhost:8080/"
        },
        "outputId": "97949733-ac0f-444d-9d74-b3202e85526d"
      },
      "execution_count": 59,
      "outputs": [
        {
          "output_type": "stream",
          "name": "stdout",
          "text": [
            "['IIT Madras', 'Indian Institutes of Technology', 'Joint Entrance Examination – Advanced', 'Inter IIT Sports Meet', 'IIT Tirupati', 'History of Indian Institutes of Technology', 'IIT Palakkad', 'List of IIT Madras people', 'IIT Kharagpur', 'Suicide of Fathima Latheef']\n"
          ]
        }
      ]
    },
    {
      "cell_type": "code",
      "source": [
        "print(wk.search(\"IIT Madras\", results=2))"
      ],
      "metadata": {
        "id": "6cQZGMMFw1iL",
        "colab": {
          "base_uri": "https://localhost:8080/"
        },
        "outputId": "c082838f-616e-42ee-84da-a25a80a03246"
      },
      "execution_count": 60,
      "outputs": [
        {
          "output_type": "stream",
          "name": "stdout",
          "text": [
            "['IIT Madras', 'Indian Institutes of Technology']\n"
          ]
        }
      ]
    },
    {
      "cell_type": "code",
      "source": [
        "print(wk.summary(\"IIT Madras\"))"
      ],
      "metadata": {
        "id": "KoMSZ_bxw3bq",
        "colab": {
          "base_uri": "https://localhost:8080/"
        },
        "outputId": "ecf87ed7-c2b3-4cc1-ee08-a6f26b38fa08"
      },
      "execution_count": 61,
      "outputs": [
        {
          "output_type": "stream",
          "name": "stdout",
          "text": [
            "Indian Institute of Technology Madras (IIT Madras) is a public technical university located in Chennai, Tamil Nadu, India. As one of the Indian Institutes of Technology (IITs), it is recognized as an Institute of National Importance and has been consistently rated as one of India's most prestigious universities. Founded in 1959 with technical and financial assistance from the former government of West Germany, it was the third IIT established by the Government of India. IIT Madras is ranked the top engineering institute in India by the Ministry of Education's National Institutional Ranking Framework since its inception in 2016.IIT Madras is a residential institute that occupies a 2.5-square-kilometre (0.97 sq mi) campus that was formerly part of the adjoining Guindy National Park. The institute has nearly 600 faculty, 10,000 students and 1,250 administrative and supporting staff. Growing ever since it obtained its charter from the Indian Parliament in 1961, much of the campus is a protected forest, carved out of the Guindy National Park, home to large numbers of chital (spotted deer), black buck, bonnet macaque, and other rare wildlife. A natural lake, deepened in 1988 and 2003, drains most of its rainwater.\n"
          ]
        }
      ]
    },
    {
      "cell_type": "code",
      "source": [
        "print(wk.summary(\"IIT Madras\", sentences=2))"
      ],
      "metadata": {
        "id": "pMvlAilMw5QQ",
        "colab": {
          "base_uri": "https://localhost:8080/"
        },
        "outputId": "40a5a9a7-a8f1-4d13-eee7-f9b5ca1c884e"
      },
      "execution_count": 62,
      "outputs": [
        {
          "output_type": "stream",
          "name": "stdout",
          "text": [
            "Indian Institute of Technology Madras (IIT Madras) is a public technical university located in Chennai, Tamil Nadu, India. As one of the Indian Institutes of Technology (IITs), it is recognized as an Institute of National Importance and has been consistently rated as one of India's most prestigious universities.\n"
          ]
        }
      ]
    },
    {
      "cell_type": "code",
      "source": [
        "full_page = wk.page(\"IIT Madras\")"
      ],
      "metadata": {
        "id": "gIcUJdKfw61e"
      },
      "execution_count": 63,
      "outputs": []
    },
    {
      "cell_type": "code",
      "source": [
        "print(full_page.content)"
      ],
      "metadata": {
        "id": "D5IvRXaGw9JM",
        "colab": {
          "base_uri": "https://localhost:8080/"
        },
        "outputId": "1e4f1d57-85de-4b9e-e4d8-cea620e8a0d9"
      },
      "execution_count": 64,
      "outputs": [
        {
          "output_type": "stream",
          "name": "stdout",
          "text": [
            "Indian Institute of Technology Madras (IIT Madras) is a public technical university located in Chennai, Tamil Nadu, India. As one of the Indian Institutes of Technology (IITs), it is recognized as an Institute of National Importance and has been consistently rated as one of India's most prestigious universities. Founded in 1959 with technical and financial assistance from the former government of West Germany, it was the third IIT established by the Government of India. IIT Madras is ranked the top engineering institute in India by the Ministry of Education's National Institutional Ranking Framework since its inception in 2016.IIT Madras is a residential institute that occupies a 2.5-square-kilometre (0.97 sq mi) campus that was formerly part of the adjoining Guindy National Park. The institute has nearly 600 faculty, 10,000 students and 1,250 administrative and supporting staff. Growing ever since it obtained its charter from the Indian Parliament in 1961, much of the campus is a protected forest, carved out of the Guindy National Park, home to large numbers of chital (spotted deer), black buck, bonnet macaque, and other rare wildlife. A natural lake, deepened in 1988 and 2003, drains most of its rainwater.\n",
            "\n",
            "\n",
            "== History ==\n",
            "\n",
            "In 1956, the West German Government offered technical assistance for establishing an institute of higher education in engineering in India. The first Indo-German agreement was signed in Bonn, West Germany in 1959 for the establishment of the Indian Institute of Technology at Madras. IIT Madras was started with technical, academic and financial assistance from the Government of West Germany and was at the time the largest international educational project sponsored by the West German government. The Government of the Federal Republic of Germany has agreed to provide the following assistance in the establishment of a higher technological institute at Madras:\n",
            "\n",
            "A workshop, laboratory equipment, and a library whose total value does not exceed ₹1.8 crore (US$240,000).\n",
            "Twenty German professors to serve at the Institute for a period of four to five years\n",
            "Four German foremen for the workshops of the Institute for 2 years\n",
            "Facilities for the training of twenty Indian teachers in German institutionsThis has led to several collaborative research efforts with universities and institutions in Germany over the years. Although official support from the German government has ended, several research efforts involving the DAAD programme and Humboldt Fellowships still exist.\n",
            "The Higher Technological Institute at Madras known as the Indian Institute of Technology, Madras has started functioning The first batch of 120 students was admitted in July 1959 to the first year of the Engineering Course. The institute was inaugurated in 1959, by the then Union Minister for Scientific Research and Cultural Affairs. The first batch had an overall strength of 120 students from across India. In 1961, the IITs were declared to be Institutes of National Importance. The first convocation ceremony was held on 11 July 1964, with Dr. S. Radhakrishnan, then the President of India, delivering the convocation address and awarding the degrees to the inaugural batch of students. The institute got its first women students in the BTech batch of 1966. IIT Madras celebrated its Golden Jubilee in 2009, and its Diamond Jubilee in 2019.\n",
            "\n",
            "\n",
            "== Campus ==\n",
            "The main entrance of IIT Madras is on Sardar Patel Road, flanked by the residential districts of Adyar and Velachery. The campus is close to the Raj Bhavan, the official seat of the Governor of Tamil Nadu. Other entrances are located in Velachery (near Anna Garden MTC bus stop, Velachery Main Road), Gandhi Road and Taramani gate (close to Ascendas Tech Park).\n",
            "The campus is located 10 km (6.2 mi) from the Chennai Airport, 12 km (7.5 mi) from the Chennai Central Railway station, and is connected by city buses. Kasturba Nagar is the nearest station on the Chennai MRTS line.\n",
            "Two parallel roads, Bonn Avenue and Delhi Avenue, cut through the faculty residential area before they meet at the Gajendra Circle, near the Administrative Block. Buses regularly ply between the Main Gate, Gajendra Circle, the Academic Zone, and the Hostel Zone.\n",
            "\n",
            "\n",
            "=== Student Hostels ===\n",
            "Most students at IIT Madras reside in hostels, where extracurricular activities complement the academic routine. The campus has 20 hostels, of which four, Sharavati, Sarayu, Sabarmati and the recently constructed Tunga are exclusively for women. In earlier times, each hostel had attached dining facilities but all of them have since been closed down. Dining facilities are provided in three centralised halls: Nilgiri, Vindhya and Himalaya. Students are assigned to hostels upon matriculation, where they usually reside for the entire duration of their course of study.\n",
            "\n",
            "The halls of IITM are:\n",
            "\n",
            "Sindhu, Pampa, Mahanadhi and Tamiraparani are seven-storeyed whereas all the other hostels are three or four storeyed. These four hostels can accommodate more than 1,200 students. The older hostels were all three-storeyed till the early 2000s when extra rooms were added. An additional new floor in the three-storeyed hostels which generally house the undergraduate students and a new block in place of the mess halls of these hostels have been constructed to accommodate for the increased intake of the students. These new blocks could be used as entrances for these hostels. As of 2020, Mandakini has been demolished and a multi-storey block is under construction, with provision to accommodate approximately 1000 students.\n",
            "\n",
            "\n",
            "=== Facilities ===\n",
            "IIT Madras provides residential accommodation for its students, faculty, administrative and supporting staff, and their families. The residential houses employ private caterers. The self-contained campus includes two schools               (Vanavani and Kendriya Vidyalaya), three temples (Jalakanteshwara, Durga Peliamman and Ganapathi), three bank branches (SBI, ICICI, Canara Bank), a hospital, shopping centres, food shops, a gym, sleeping room and cricket, football, hockey and badminton stadiums. Internet is available in the academic zone and the faculty and staff residential zone. Earlier Internet was limited in hostel-zone from 2:00 pm till midnight and from 5:00 am to 8:00 am, but increasing demand during academic semester led to round-the-clock Internet service.IIT Madras also has supercomputing capability, with the IBM Virgo Super Cluster with 97 teraflops worth of computational power.\n",
            "\n",
            "\n",
            "== Organisation and administration ==\n",
            "\n",
            "\n",
            "=== Governance ===\n",
            "IIT Madras is an autonomous statutory organisation functioning within the Institutes of Technology Act. The sixteen IITs are administered centrally by the IIT Council, an apex body established by the Government of India. The Minister of Human Resources and Development is the chairman of the council. Each institute has a Board of Governors responsible for its administration and control.\n",
            "The Senate comprises all professors of the Institute and decides its academic policy. It controls and approves the curriculum, courses, examinations, and results. It appoints committees to examine specific academic matters. The Director of the institute serves as the Chairman of the Senate. The current director is Kamakoti Veezhinathan.Three Senate Sub-Committees – The Board of Academic Research, The Board of Academic Courses and The Board of Students – help in academic administration and in the operations of the institute. The Finance Committee advises on matters of financial policy, while the Building and Works Committee advises on buildings and infrastructure. The Board of Industrial Consultancy and Sponsored Research addresses industrial consultancy and the Library Advisory Committee oversees library matters.\n",
            "\n",
            "\n",
            "=== Departments ===\n",
            "Aerospace Engineering\n",
            "Applied Mechanics\n",
            "Biotechnology (Bhupat and Jyoti Mehta School of Biosciences)\n",
            "Chemical Engineering\n",
            "Chemistry\n",
            "Civil Engineering\n",
            "Computer Science and Engineering\n",
            "Electrical Engineering\n",
            "Engineering Design\n",
            "Humanities and Social Sciences\n",
            "Mechanical Engineering\n",
            "Management Studies\n",
            "Metallurgical and Materials Engineering\n",
            "Mathematics\n",
            "Ocean Engineering\n",
            "Physics\n",
            "\n",
            "\n",
            "== Academics ==\n",
            "IIT Madras offers undergraduate, postgraduate and research degrees across 16 disciplines in Engineering, Sciences, Humanities and Management. About 600 faculty belonging to science and engineering departments and centres of the Institute are engaged in teaching, research and industrial consultancy.\n",
            "The institute has 16 academic departments and advanced research centres across disciplines of engineering and pure sciences, with nearly 100 laboratories. The academic calendar is organised around the semester. Each semester provides a minimum of seventy days of instruction in English. Students are evaluated on a continuous basis throughout the semester. Evaluation is done by the faculty, a consequence of the autonomous status granted to the institute. Research work is evaluated on the basis of the review thesis by peer examiners both from within the country and abroad. Ordinances that govern the academic programme of study are prepared by the Senate, the highest academic body within the institute.\n",
            "\n",
            "\n",
            "=== Admission tests ===\n",
            "For the undergraduate curriculum, admission to the BTech and Dual Degree (BSc + MSc or BTech + MTech) programme is done through the Joint Entrance Examination – Advanced (JEE-Advanced). IIT Madras conducted JEE Advanced in 2017. Admission to the five-year integrated Master of Arts (MA) programme is through the Humanities and Social Sciences Entrance Examination (HSEE), an IIT Madras specific exam. Admissions to the online degree programme for B.Sc. in Programming and Data Science are done through a Qualifier Process which includes four weeks of instruction in Computational Thinking, Mathematics, Statistics and English.For the postgraduate curriculum, admission to the MTech and MS programmes are through the Graduate Aptitude Test in Engineering (GATE). The Joint Admission Test to MSc (JAM) is the entrance exam for the two-year MSc programme, and other post BSc programmes. MBA candidates are accepted through the Common Admission Test (CAT).\n",
            "\n",
            "\n",
            "=== Rankings ===\n",
            "Internationally, IIT Madras was ranked 250 in the QS World University Rankings for 2023. The same rankings ranked it 54 in Asia.IIT Madras also ranked first among engineering colleges by the National Institutional Ranking Framework (NIRF) in 2020 and first overall. It ranked first in Atal Rankings of Institutions on Innovation Achievements (ARIIA) for three consecutive years from 2019 to 2021.\n",
            "\n",
            "\n",
            "=== Grading System and Student Evaluation ===\n",
            "The Indian Institutes of Technology are under control of the Government of India and therefore have strict rules for grade.\n",
            "Depending on the course the evaluation is based on participation in class, attendance, quiz, exam and/or paper. Continuous evaluation is done by course instructors.\n",
            "The Evaluation System of IIT Madras which is also used in other IITs is the Cumulative Grade Point Average with a scale from 0 to 10 which is converted to letters:\n",
            "\n",
            "CGPA then gets calculated as the cumulative credit-weighted average of the grade points:\n",
            "CGPA = (Σ Ci • GPi) / (Σ Ci)\n",
            "where:\n",
            "N is the number of courses\n",
            "Ci is credits for the ith course\n",
            "GPi is grade points for the ith course\n",
            "CGPA is the cumulative grade point average\n",
            "The CGPA is not the same as the one commonly used in the United States.\n",
            "In India some credits might be awarded during Bachelor studies for Co-curricular and Extra-curricular Activities, while during the Master Programme this is not allowed.\n",
            "Through agreements with numerous international organisations, IIT grades are accepted from many international organisations like NTU, NUS and DAAD.\n",
            "Additionally, the attendance of the students is evaluated with VG for very good (always present), G for good (not present every lecture) and P for poor (student was present less than 85% of lectures).\n",
            "\n",
            "\n",
            "=== Academic research programmes ===\n",
            "The institute has departments and advanced research centres across the disciplines of engineering and the pure sciences, and nearly 100 laboratories.Research programmes concern work undertaken by faculty members or specific research groups within departments that award an MS or PhD degree. Research is carried out by scholars admitted into these departmental programmes, under the guidance of their faculty.  Each department makes known its areas of interest to the academic community through handbooks, brochures and bulletins. Topics of interest may be theoretical or experimental. IIT Madras has initiated 16 inter-disciplinary research projects against identified focus areas.\n",
            "\n",
            "\n",
            "=== Partnership with other universities ===\n",
            "The institute maintains academic friendship with educational institutes around the world through faculty exchange programmes. The institute has signed Memoranda of Understanding (MOUs) with foreign universities, resulting in cooperative projects and assignments.\n",
            "\n",
            "\n",
            "=== Industrial Consultancy and Sponsored Research ===\n",
            "Through industrial consultancy, faculty and staff undertake assignments for industry that may include project design, testing and evaluation, or training in new areas of industrial development. Industries and organisations like the Indian Ordnance Factories, reach out to the IIT faculty to undertake assignments channeled through the Centre For Industrial Consultancy and Sponsored Research (ICSR).\n",
            "National organisations sponsor programmes of research by funding projects undertaken by the faculty. Such research is time bound and allows project participants to register for a degree.  Project proposals are usually prepared by the IIT faculty and forwarded to interested organisations, based on the nature of their research and their interest to fund such projects.\n",
            "Sponsored projects are often vehicles for new resources within departments, and often permit their project staff to register for academic degrees in the institute. All sponsored research activities at the institute are coordinated by ICSR.\n",
            "Park\n",
            "The IIT Madras Research Park, the first of its kind to be established in India, functions to propel successful innovation in established companies and provide a nurturing ecosystem to startups through incubation efforts and technical infrastructure. Following its success, 50 research parks were planned as part of Start Up India initiative of the Central Government of India. Corporate clients of IIT Madras Research park include Bharat Heavy Electricals Limited, Saint-Gobain and Forbes Marshall. Ather Energy, Hyperverge and Gyandata are some of the startups incubated at the Research Park. The Research Park is primarily reason why a very large number of startups are incubated at IIT Madras.\n",
            "\n",
            "\n",
            "=== National Programme on Technology Enhanced Learning (NPTEL) ===\n",
            "To improve the quality of higher education in India, IIT Madras came up with an initiative called NPTEL (National Programme on Technology Enhanced Learning) in the year 2003. As per this initiative, all the IITs, along with the IISc Bangalore would come up with a series of video lecture based courses across all the streams of engineering. This initiative has gained wide popularity in India and the lectures are being used by several engineering students from across India. It is the Largest online repository in the world of courses in engineering, basic sciences and selected humanities and social sciences subjects.\n",
            "\n",
            "\n",
            "=== BSc Degree Programme in Programming and Data Science. ===\n",
            "The institute launched the country's first online BSc program in Programming and Data Science. The 116 credit program consists of three levels—Foundation (32 credits), Diploma (48 credits), and Degree (36 credits). The faculty of the program include Madhavan Mukund (Department of Computer Science & Engineering, Chennai Mathematical Institute), Rajesh Kumar (Professor, Department of Humanities and Social Sciences, IIT Madras), Andrew Thangaraj (Professor, Electrical Engineering Department, IIT Madras), Sudarshan Iyengar (Associate Professor, Department of Computer Science and Engineering, IIT Ropar), and several more faculty, instructors and mentors.\n",
            "\n",
            "The first batch of 8,154 students who joined the program in 2020 have brought unprecedented diversity: Prathap Haridoss, professor in charge of the online degree programme, said nearly 30% of the learners are working professionals from IT, banking, manufacturing, finance, law, healthcare, marketing and other sectors.The institute has been working with experts from NPTEL to manage the program. Instruction is via recorded videos followed by activity questions. There are at least three sessions per week for each course subject that allow students to interact, discuss and study. Weekly graded assignments, monthly quizzes and an end term final exam are used to award grades as per the IIT Grading System. The in-person quizzes and exams are conducted at the test centres across the country.\n",
            "In additional to a challenging academic curriculum, the students are encouraged to participate in various professional development, skill development and social activities organized by the institute, students and their clubs. In April 2021, the BSc program department organized the  'Cricket Hackathon 2021' for students, professionals, and data science enthusiasts. The academic competition was designed for beginners to learn and compete, as well as for professionals to showcase their capabilities in programming, data science, and analytics.\n",
            "\n",
            "\n",
            "== Student activities ==\n",
            "\n",
            "\n",
            "=== Festivals ===\n",
            "\n",
            "\n",
            "==== Shaastra ====\n",
            "\n",
            "Shaastra is the annual technical festival of IIT Madras. It is typically held in the second week of January and is the first ISO 9001:2015 certified student organised festival in the world. It is known for its organisation and activities. Forums include the symposia, workshops, video conferences, lectures, demonstrations, and technical exhibitions. Competitive activities cover design events, programming, simulations, quizzes, applied engineering, speedcubing, robotics, and junk-yard wars.\n",
            "\n",
            "\n",
            "==== Saarang ====\n",
            "\n",
            "Saarang is the annual social and cultural festival of IIT Madras. It is a five-day-long event held in early January every year and attracts a crowd of 70,000 students and young people from across the country, making it the largest student-run fest in India. Saarang events include speaking, dancing, thespian, quizzing and word games, professional shows (nicknamed proshows) and workshops on music, fashion, art, and dance.\n",
            "\n",
            "\n",
            "==== Department festivals ====\n",
            "Several departments organise department festivals. Samanvay, Biofest, ExeBit, Wavez, Mechanica, CEA Fest, ChemPlus, Amalgam and Forays are some of the festivals organised by the Department of Management Studies, Computer Science and Engineering, Ocean Engineering, Mechanical Engineering, Civil Engineering, Chemical Engineering, Metallurgical and Materials Engineering and Maths departments respectively. Department of Humanities and Social Sciences hosts Annual Academic Conference.\n",
            "\n",
            "\n",
            "=== The Entrepreneurship Cell ===\n",
            "The Entrepreneurship Cell, IITM, abbreviated as E-Cell IITM, is a student-run body responsible for promoting and inculcating a spirit of entrepreneurial thinking among both the faculty and the student fraternity of IIT Madras. E-Cell was earlier known as \"C-TIDES\", and was rechristened in 2015 along with a series of organizational changes in an effort to promote greater engagement among students.\n",
            "E-Summit is the flagship event of E-Cell and is a three-day-long event typically held in the first week of April. It includes a myriad of events and competitions, such as the Startup Boot Camp, PitchFest, the Intern Fair, a social campaign and workshops, talks and panel discussions from some of the most eminent entrepreneurs of India. Past speakers have included the likes of Ritesh Agarwal and Nandini Vaidyanathan.The second instance of E-Summit in 2017 attracted about 1,000 attendees from nearly 30 colleges and involved over 100 startups.\n",
            "\n",
            "\n",
            "=== Centre For Innovation (CFI) ===\n",
            "Centre For Innovation is a \"Student Lab\" set up in 2008.\n",
            "The annual flagship event of CFI, the \"OPEN HOUSE\" displays the innovative projects of all CFI clubs, many of which have bagged international and national honours, along with the works of the Competitive Teams.\n",
            "\n",
            "\n",
            "=== Extra Mural Lectures (EML) ===\n",
            "Launched in 1980, by a group of students with support from the then Director of IIT Madras, Late Prof. P.V. Indiresan, the main aim of the Extra Mural Lectures series is to expose the IIT Madras community to the ideas and experiences of eminent personalities from diverse backgrounds. Over the years, the likes of late former President of India A.P.J. Abdul Kalam, Nobel Laureate The 14th Dalai Lama, Nobel Peace Laureate Kailash Satyarthi, Chess Grandmaster Vishwanathan Anand, Filmmaker S.S. Rajamouli, Honorable Governor Shri. E.S.L. Narasimhan, Honorable Minister of Railways Shri. Suresh Prabhu, current Vice President of India Shri. M.Venkaiah Naidu, Music Composer Ilayaraja, co-founder of Infosys Shri. Kris Gopalakrishnan and Ambassador of Japan to India H.E. Mr. Kenji Hiramatsu have been hosted at IIT Madras for Extra Mural Lectures, to motivate the students and broaden their perspectives.\n",
            "\n",
            "\n",
            "=== Extracurricular activities ===\n",
            "\n",
            "The Sustainability Network (S-Net) is an alumni-student-faculty initiative launched in May 2009 to sensitise and highlight the need to preserve the unique niche of one of the best educational campus in India. S-Net was envisioned to work towards development and deployment of solutions for making a self-sustaining campus (focusing on energy/electricity, water, and waste management), which could eventually be replicated across the country through tie-ups with other educational institutions. \n",
            "The Fifth Estate is the official media body of IIT Madras and gives an insight into the happenings inside the campus and important news related to the institute.\n",
            "The Open Air Theatre hosts the weekly movie, a Saturday night tradition, besides other activities. It seats over 7,000.\n",
            "The National Service Scheme (NSS) in IIT Madras has been noted for taking up socially relevant initiatives, taken up as individual projects to create an impact on the society as well as the students. The wing of NSS at IITM has over 400 students every year, contributing to the cause of the scheme. Since its inception, NSS at IITM has achieved many milestones in its history as a unique, student-run organisation. Linked with several NGOs and social organisations both within and outside Chennai. By working out projects from Braille magazines to technology interventions, from teaching children in urban slums to educational video content, NSS (IITM) seeks to challenge the mediocre thinking, and reach out into the darkness, to pull a hand into the light.\n",
            "Hobby clubs include the speaking club, the astro club, dramatics, music and robotics.\n",
            "Student bodies such as Vivekananda Study Circle (VSC), Islamic Study Circle, IIT Christian Fellowship, Genesis and Reflections focus on spiritual discussions.\n",
            "The campus has evolved a slang, attracting a published Master's thesis at a German University. A mix of English, Hindi, Telugu (Gult), Malayalam (Mallu) and Tamil (Tam), aspects of the campus slang have been adopted by some other Chennai colleges.\n",
            "Unlike its sister institutions, IIT Madras has no single Indian language used among its students: Tamil, Telugu, Malayalam, Marathi, Kannada, English and Hindi are all very commonly used. Consequently, all student participatory activities like debating, dramatics, short-film making, and others are held in English.  This is even reflected in the slang that uses more of English and other Indian regional languages than Hindi, unlike in IIT-M's northern counterparts.\n",
            "\n",
            "\n",
            "=== IIT Madras Heritage Centre ===\n",
            " The Heritage Centre was formally inaugurated by Dr Arcot Ramachandran, former Director IIT Madras on 3 March 2006. The centre is located on the ground floor of the administration building. The actual idea of a Heritage Centre was mooted in the year 2000 and has become a reality due to the efforts of the Professor-in-charge Dr. Ajit Kumar Kolar and his team. The centre will function as a repository of material of heritage value and historical significance of various facets of the institute.\n",
            "The exhibits include photographs, documents, publications, paintings, portraits, products developed and other articles. Information regarding important events, laboratory development, visits of important dignitaries, Indo-German cooperative activities, and academic achievements of faculty and students also are included. Aspects of IITM campus features and development, campus life and student activities are also included, thus broadening the scope of the centre in the future to non-academic activities also.\n",
            "\n",
            "\n",
            "== Controversies ==\n",
            "Several members of the Hindu Munnani were arrested in November 2014 for organising a \"spitting protest\" outside the IIT-Madras after the institute played host to the ‘Kiss of Love’ campaign. The members of the group gathered and started spitting at the pictures of students kissing and hugging at the kiss of love campaign the past week. Additionally, they also hurled abuse at the students.\n",
            "\n",
            "\n",
            "== Notable alumni ==\n",
            "\n",
            "Arumugam Manthiram, director, Texas Materials Institute, Professor of Mechanical Engineering, University of Texas at Austin\n",
            "Anand Rajaraman, founder of Junglee; Currently Heading Kosmix.com with Venky Harinarayan\n",
            "Anant Agarwal, professor of Electrical Engineering and Computer Science at MIT\n",
            "Anima Anandkumar, Bren Professor of Computing at California Institute of Technology. She is a director of Machine Learning research at NVIDIA.\n",
            "Arun Sundararajan, professor at Stern School of Business, New York University\n",
            "Atul Chokshi, materials engineer, Shanti Swarup Bhatnagar laureate\n",
            "B. N. Suresh, director of IISST\n",
            "B. Muthuraman, managing Director of Tata Steel\n",
            "Bhaskar Ramamurthi, director, IIT Madras (2011 – 2022)\n",
            "Gururaj Deshpande, founder of Sycamore Networks\n",
            "T. V. Rajan Babu, professor of chemistry at Ohio State University\n",
            "G. K. Ananthasuresh, professor at Indian Institute of Science\n",
            "Hari Balakrishnan, Fujitsu Chair Professor in the EECS Department at MIT\n",
            "Jai Menon, IBM Fellow, CTO and VP, Technical Strategy – IBM Systems and Technology Group\n",
            "B. Jayant Baliga, inventor of the insulated gate bipolar transistor (IGBT)\n",
            "Jayaraman Chandrasekhar, computational chemist, Shanti Swarup Bhatnagar laureate\n",
            "Kris Gopalakrishnan, co-chairman and co-founder of Infosys\n",
            "Krishna Bharat, creator of Google News, principal scientist, Google\n",
            "L. Mahadevan, FRS, de Valpine Professor of Applied Mathematics, Physics and Biology, Harvard University, MacArthur Fellow 2009\n",
            "K. Mani Chandy, former chair of Engineering and Applied Science at Caltech\n",
            "Marti G. Subrahmanyam, professor of finance, Stern School of Business at New York University\n",
            "Murali Sastry, nanotechnologist, Shanti Swarup Bhatnagar laureate\n",
            "Mas Subramanian, Milton Harris Chair Professor of Materials Chemistry at Oregon State University\n",
            "Narayanan Chandrakumar, chemical physicist, Shanti Swarup Bhatnagar laureate\n",
            "Neelesh B. Mehta, communications engineer, Shanti Swarup Bhatnagar laureate\n",
            "Prabhakar Raghavan, vice president of Engineering, Google and Consulting Professor at Stanford University\n",
            "R. Prasanna, guitarist / carnatic musician\n",
            "Pinaki Majumdar, condensed matter physicist, Shanti Swarup Bhatnagar laureate\n",
            "Prem Watsa, billionaire; founder, chairman, and chief executive of Fairfax Financial Holdings, which owns BlackBerry\n",
            "Radha Vembu, co-founder, Zoho Corporation.\n",
            "Ramanathan V. Guha, inventor of RSS feed technology, computer scientist at Google; won the Distinguished Alumnus award from IIT Madras in 2013\n",
            "Ramesh Govindan, Northrop Grumman Chair in Engineering and Professor of Computer Science and Electrical Engineering at the University of Southern California; won the Distinguished Alumnus award from IIT Madras in 2014\n",
            "Raghu Ramakrishnan, technical fellow and CTO, Information Services Microsoft\n",
            "Raju Narayana Swamy, IAS Officer\n",
            "Ramayya Krishnan, dean of the Heinz College at Carnegie Mellon University\n",
            "S. Sowmya, carnatic vocalist\n",
            "Timothy A. Gonsalves, computer scientist and first Director of IIT Mandi\n",
            "Shashi Nambisan, director of the Centre for Transportation Research and Education at Iowa State University\n",
            "Sridhar Tayur, Ford Distinguished Research Chair and Professor of Operations Management at Carnegie Mellon University; founder, SmartOps and OrganJet\n",
            "Sridhar Vembu, founder and CEO of Zoho Corporation\n",
            "Subra Suresh, former president of Carnegie Mellon University, former director of the National Science Foundation, former dean of the MIT School of Engineering\n",
            "Venkat Rangan, co-founder and CTO at Clearwell Systems\n",
            "Venkatesan Guruswami, associate professor, Department of Computer Science, Carnegie Mellon University\n",
            "Venky Harinarayan, co-founder Kosmix\n",
            "Vic Gundotra, former senior vice president Google, creator of Google plus and MIT technology Review top innovators in world\n",
            "Vinay Nair, visiting professor at The Wharton School and founding principal of Ada Investments\n",
            "Viswanathan Kumaran, chemical engineer, Shanti Swarup Bhatnagar laureate\n",
            "\n",
            "\n",
            "== See also ==\n",
            "Education in India\n",
            "Institutes of National Importance\n",
            "List of institutions of higher education in India\n",
            "List of universities in India\n",
            "Vemuri Anjaneya Sarma\n",
            "\n",
            "\n",
            "== References ==\n",
            "\n",
            "\n",
            "== External links ==\n",
            "Official website\n"
          ]
        }
      ]
    },
    {
      "cell_type": "code",
      "source": [
        "print(full_page.url)"
      ],
      "metadata": {
        "id": "0pKu3UZBxAQO",
        "colab": {
          "base_uri": "https://localhost:8080/"
        },
        "outputId": "9e1d3f54-82d3-4945-d6d7-e3438c282499"
      },
      "execution_count": 65,
      "outputs": [
        {
          "output_type": "stream",
          "name": "stdout",
          "text": [
            "https://en.wikipedia.org/wiki/IIT_Madras\n"
          ]
        }
      ]
    },
    {
      "cell_type": "code",
      "source": [
        "print(full_page.references)"
      ],
      "metadata": {
        "id": "dDAjR47kxJNZ",
        "colab": {
          "base_uri": "https://localhost:8080/"
        },
        "outputId": "21d3fcb9-0abd-425a-99ba-3074a9911bdf"
      },
      "execution_count": 66,
      "outputs": [
        {
          "output_type": "stream",
          "name": "stdout",
          "text": [
            "['http://www.businessweek.com/smallbiz/news/date/9811/e981130.htm', 'http://www.hindu.com/2009/02/28/stories/2009022854140500.htm', 'http://timesofindia.indiatimes.com/tech/tech-news/IIT-Madras-is-Indias-Stanford/articleshow/46629160.cms', 'http://www.thehindu.com/news/cities/chennai/a-helping-hand-to-entrepreneurship/article17856871.ece', 'http://www.thehindu.com/sci-tech/technology/iitm-computer-system-gets-fastest-tag/article3972727.ece', 'http://www.thehindubusinessline.com/news/education/esummit-at-iit-madras-starts-on-april-7/article9620678.ece', 'http://archiv.tu-chemnitz.de/pub/2006/0020/data/MAthesis_EvelynRichter.pdf', 'http://www.oeb.harvard.edu/faculty/mahadevan/mahadevan-oeb.html', 'http://www.csail.mit.edu/user/723', 'http://nms.lcs.mit.edu/~hari/', 'http://ccw.iitm.ac.in/?q=IITMHostels/hinfo', 'http://www.ecell.iitm.ac.in/e-summit/', 'http://nptel.iitm.ac.in/', 'http://nptel.iitm.ac.in/pdf/NPTEL%20Document.pdf', 'http://www.nss.iitm.ac.in/', 'http://placement.iitm.ac.in/academics.html', 'http://respark.iitm.ac.in/', 'http://t5e.iitm.ac.in/', 'http://t5e.iitm.ac.in/2009/12/the-snet-energy-survey-8th-nov/', 'http://www.iitm.ac.in', 'http://www.iitm.ac.in/The%20Institute/', 'http://www.iitm.ac.in/about', 'http://www.iitm.ac.in/aboutcampus', 'http://www.iitm.ac.in/admissiontests', 'http://www.iitsystem.ac.in/IITcouncil/council.jsp', 'http://nptel.ac.in/course.php', 'http://www.frontline.in/static/html/fl2003/stories/20030214007506500.htm', 'http://ofb.gov.in/download/pr/pr_dgof_interview.pdf', 'http://ssbprize.gov.in/Content/Detail.aspx?AID=531', 'http://www.hri.res.in/~pinaki/', 'http://www.macfound.org/site/c.lkLXJ8MQKrH/b.5458019/k.8448/L_Mahadevan.htm', 'http://www.shaastra.org/2013/main', 'http://geohack.toolforge.org/geohack.php?pagename=IIT_Madras&params=12.99151_N_80.23362_E_', 'http://www.worldcat.org/issn/0971-751X', 'http://www.worldcat.org/issn/0971-8257', 'https://drive.google.com/file/d/0B0cmCKgXUt7ceHZ3SUEwa2s5bTg/view', 'https://timesofindia.indiatimes.com/city/chennai/Its-spit-of-anger-vs-kiss-of-love-at-IIT/articleshow/45183914.cms', 'https://timesofindia.indiatimes.com/city/chennai/iit-madras-diamond-jubilee-celebrations-assume-global-proportions-events-to-be-held-in-83-cities/articleshow/70143608.cms', 'https://timesofindia.indiatimes.com/city/chennai/iit-madras-alumnus-is-now-its-new-director/articleshow/88821542.cms', 'https://www.livemint.com/news/india/iit-madras-raises-700-crore-as-endowment-fund-11616957609084.html', 'https://www.ndtv.com/education/iit-madras-to-hold-open-house-to-showcase-student-innovations-2125282', 'https://www.thehindu.com/education/in-1966-she-was-iit-madras-first-woman-civil-engineering-student/article28759995.ece', 'https://www.thehindu.com/news/cities/chennai/chen-society/golden-jubilee-of-iitms-first-batch-of-graduands/article6218293.ece', 'https://www.thehindu.com/news/cities/chennai/iit-madras-named-most-innovative-institute/article38067215.ece', 'https://www.thehindu.com/news/cities/chennai/iitm-turns-60-a-chat-with-first-batch-students/article28744533.ece', 'https://www.thehindu.com/news/national/tamil-nadu/over-8100-join-iit-madras-online-bsc-degree-course/article33295371.ece', 'https://www.thenewsminute.com/tamils/287?amp', 'https://www.topuniversities.com/universities/indian-institute-technology-madras-iitm', 'https://www.youtube.com/watch?v=5485lx6wsao', 'https://aleph.nkp.cz/F/?func=find-c&local_base=aut&ccl_term=ica=ko2008435605&CON_LNG=ENG', 'https://www.projekt-mida.de/reflexicon/indo-german-entanglements-in-science-and-technology-the-indian-institute-of-technology-madras/', 'https://cms.caltech.edu/people/mani', 'https://catalogue.bnf.fr/ark:/12148/cb12442559g', 'https://data.bnf.fr/ark:/12148/cb12442559g', 'https://www.idref.fr/033570418', 'https://id.loc.gov/authorities/names/n50063099', 'https://oir.iitm.ac.in/mou/', 'https://onlinedegree.iitm.ac.in/', 'https://onlinedegree.iitm.ac.in/admissions.html#AD2', 'https://onlinedegree.iitm.ac.in/course_pages/BSCCS1002.html', 'https://onlinedegree.iitm.ac.in/course_pages/BSCHS1001.html', 'https://onlinedegree.iitm.ac.in/course_pages/BSCMA1001.html#9003', 'https://onlinedegree.iitm.ac.in/course_pages/BSCMA1004.html', 'https://research.iitm.ac.in/department_list#:~:text=RESEARCH%20AREAS,-Cellular,%20Molecular%20and&text=Bioinformatics%20and%20Computational%20Biology;%20Biomedical,Molecular%20Genetics%20of%20Plant%20Development.', 'https://respark.iitm.ac.in/iit-madras-launches-worlds-first-ever-online-b-sc-degree-in-programming-and-data-science/', 'https://www.iitm.ac.in/', 'https://www.iitm.ac.in/happenings/press-releases-and-coverages/iit-madras-launches-cricket-hackathon-2021', 'https://www.iitm.ac.in/nirfreports/nirf2016/NIRF-Overall-FullReport.pdf', 'https://www.iitm.ac.in/sites/default/files/Others/annual-budget-2021-22.pdf', 'https://www.iitm.ac.in/the-institute/administration/academic-administration', 'https://nptel.ac.in/', 'https://www.collegesearch.in/exam/jee-advanced/article/top-10-iits-in-india-2018-29-174', 'https://www.ariia.gov.in/Ranking2019.html', 'https://eparlib.nic.in/bitstream/123456789/1530/1/lsd_02_06_02-12-1958.pdf', 'https://eparlib.nic.in/bitstream/123456789/1769/1/lsd_02_08_10-08-1959.pdf', 'https://web.archive.org/web/20060427232338/http://www.iitm.ac.in/The%20Institute/', 'https://web.archive.org/web/20090303061238/http://www.hindu.com/2009/02/28/stories/2009022854140500.htm', 'https://web.archive.org/web/20091115092457/http://www.businessweek.com/smallbiz/news/date/9811/e981130.htm', 'https://web.archive.org/web/20100215010549/http://archiv.tu-chemnitz.de/pub/2006/0020/data/MAthesis_EvelynRichter.pdf', 'https://web.archive.org/web/20120113170811/http://www.nptel.iitm.ac.in/', 'https://web.archive.org/web/20120227163617/http://www.oeb.harvard.edu/faculty/mahadevan/mahadevan-oeb.html', 'https://web.archive.org/web/20120623211803/http://www.nss.iitm.ac.in/', 'https://web.archive.org/web/20120904044551/http://nptel.iitm.ac.in/pdf/NPTEL%20Document.pdf', 'https://web.archive.org/web/20130409125154/http://placement.iitm.ac.in/academics.html', 'https://web.archive.org/web/20130707013747/http://t5e.iitm.ac.in/', 'https://web.archive.org/web/20130907050154/http://www.shaastra.org/2013/main', 'https://web.archive.org/web/20140810091111/http://www.iitsystem.ac.in/IITcouncil/council.jsp', 'https://web.archive.org/web/20141103172852/http://t5e.iitm.ac.in/2009/12/the-snet-energy-survey-8th-nov/', 'https://web.archive.org/web/20161128191932/http://nptel.ac.in/course.php', 'https://web.archive.org/web/20170704084948/http://www.ecell.iitm.ac.in/e-summit/', 'https://ghostarchive.org/varchive/youtube/20211107/5485lx6wsao', 'https://isni.org/isni/000000012314788X', 'https://isni.org/isni/0000000123151926', 'https://www.nirfindia.org/2018/EngineeringRanking.html', 'https://www.nirfindia.org/2019/EngineeringRanking.html', 'https://www.nirfindia.org/2021/EngineeringRanking.html', 'https://www.nirfindia.org/2021/OverallRanking.html', 'https://www.nobelprize.org/prizes/chemistry/2019/goodenough/lecture/', 'https://viaf.org/viaf/168123199', 'https://www.wikidata.org/wiki/Q858662#identifiers', 'https://www.worldcat.org/identities/lccn-n50063099/']\n"
          ]
        }
      ]
    },
    {
      "cell_type": "code",
      "source": [
        "print(full_page.title)"
      ],
      "metadata": {
        "id": "ruoNvjGJxLFc",
        "colab": {
          "base_uri": "https://localhost:8080/"
        },
        "outputId": "53fd5a0f-1cde-40a2-ce4c-b0dc39b77271"
      },
      "execution_count": 67,
      "outputs": [
        {
          "output_type": "stream",
          "name": "stdout",
          "text": [
            "IIT Madras\n"
          ]
        }
      ]
    },
    {
      "cell_type": "code",
      "source": [
        "print(full_page.images)"
      ],
      "metadata": {
        "id": "TDuHLTb6xNCg",
        "colab": {
          "base_uri": "https://localhost:8080/"
        },
        "outputId": "d246c50c-287c-4814-9c75-ff6b007cb852"
      },
      "execution_count": 68,
      "outputs": [
        {
          "output_type": "stream",
          "name": "stdout",
          "text": [
            "['https://upload.wikimedia.org/wikipedia/commons/f/f2/Blackbuck_white.jpg', 'https://upload.wikimedia.org/wikipedia/commons/1/1b/Brahmaputra_Hostel.jpg', 'https://upload.wikimedia.org/wikipedia/commons/c/c4/Deer_of_IIT_Madras_masatran_0058_0010.jpeg', 'https://upload.wikimedia.org/wikipedia/commons/e/e4/Godavari_Hostel_Entrance.jpg', 'https://upload.wikimedia.org/wikipedia/commons/0/08/Heritage_Center1.jpg', 'https://upload.wikimedia.org/wikipedia/commons/8/85/Pfeil_links.svg', 'https://upload.wikimedia.org/wikipedia/commons/7/76/Pfeil_oben.svg', 'https://upload.wikimedia.org/wikipedia/commons/c/c5/Pfeil_rechts.svg', 'https://upload.wikimedia.org/wikipedia/commons/c/c3/Pfeil_unten.svg', 'https://upload.wikimedia.org/wikipedia/commons/7/71/Sabarmathi_hostel2.jpg', 'https://upload.wikimedia.org/wikipedia/en/4/4a/Commons-logo.svg', 'https://upload.wikimedia.org/wikipedia/en/f/f2/Edit-clear.svg', 'https://upload.wikimedia.org/wikipedia/en/4/41/Flag_of_India.svg', 'https://upload.wikimedia.org/wikipedia/en/6/69/IIT_Madras_Logo.svg', 'https://upload.wikimedia.org/wikipedia/en/8/8a/OOjs_UI_icon_edit-ltr-progressive.svg', 'https://upload.wikimedia.org/wikipedia/en/9/99/Question_book-new.svg', 'https://upload.wikimedia.org/wikipedia/en/9/96/Symbol_category_class.svg']\n"
          ]
        }
      ]
    },
    {
      "cell_type": "code",
      "source": [
        "print(full_page.images[0])"
      ],
      "metadata": {
        "id": "q7qy5FD7xOfs",
        "colab": {
          "base_uri": "https://localhost:8080/"
        },
        "outputId": "658db833-0e74-459a-a625-fa398d6ace88"
      },
      "execution_count": 69,
      "outputs": [
        {
          "output_type": "stream",
          "name": "stdout",
          "text": [
            "https://upload.wikimedia.org/wikipedia/commons/f/f2/Blackbuck_white.jpg\n"
          ]
        }
      ]
    },
    {
      "cell_type": "code",
      "source": [
        "#extract html code of wikipedia page based on any search text\n",
        "html = wk.page(\"IIT Madras\").html().encode(\"UTF-8\") \n",
        "\n",
        "import pandas as pd\n",
        "df = pd.read_html(html)[6]  \n",
        "\n",
        "df"
      ],
      "metadata": {
        "id": "JDg5o4dKxQ47",
        "colab": {
          "base_uri": "https://localhost:8080/",
          "height": 80
        },
        "outputId": "a25f02ec-1f13-448c-cf37-d761bb6d7981"
      },
      "execution_count": 70,
      "outputs": [
        {
          "output_type": "execute_result",
          "data": {
            "text/plain": [
              "    0                                                  1\n",
              "0 NaN  This article's list of alumni may not follow W..."
            ],
            "text/html": [
              "\n",
              "  <div id=\"df-2c2b7a5a-5615-486e-85e3-ab7cac940535\">\n",
              "    <div class=\"colab-df-container\">\n",
              "      <div>\n",
              "<style scoped>\n",
              "    .dataframe tbody tr th:only-of-type {\n",
              "        vertical-align: middle;\n",
              "    }\n",
              "\n",
              "    .dataframe tbody tr th {\n",
              "        vertical-align: top;\n",
              "    }\n",
              "\n",
              "    .dataframe thead th {\n",
              "        text-align: right;\n",
              "    }\n",
              "</style>\n",
              "<table border=\"1\" class=\"dataframe\">\n",
              "  <thead>\n",
              "    <tr style=\"text-align: right;\">\n",
              "      <th></th>\n",
              "      <th>0</th>\n",
              "      <th>1</th>\n",
              "    </tr>\n",
              "  </thead>\n",
              "  <tbody>\n",
              "    <tr>\n",
              "      <th>0</th>\n",
              "      <td>NaN</td>\n",
              "      <td>This article's list of alumni may not follow W...</td>\n",
              "    </tr>\n",
              "  </tbody>\n",
              "</table>\n",
              "</div>\n",
              "      <button class=\"colab-df-convert\" onclick=\"convertToInteractive('df-2c2b7a5a-5615-486e-85e3-ab7cac940535')\"\n",
              "              title=\"Convert this dataframe to an interactive table.\"\n",
              "              style=\"display:none;\">\n",
              "        \n",
              "  <svg xmlns=\"http://www.w3.org/2000/svg\" height=\"24px\"viewBox=\"0 0 24 24\"\n",
              "       width=\"24px\">\n",
              "    <path d=\"M0 0h24v24H0V0z\" fill=\"none\"/>\n",
              "    <path d=\"M18.56 5.44l.94 2.06.94-2.06 2.06-.94-2.06-.94-.94-2.06-.94 2.06-2.06.94zm-11 1L8.5 8.5l.94-2.06 2.06-.94-2.06-.94L8.5 2.5l-.94 2.06-2.06.94zm10 10l.94 2.06.94-2.06 2.06-.94-2.06-.94-.94-2.06-.94 2.06-2.06.94z\"/><path d=\"M17.41 7.96l-1.37-1.37c-.4-.4-.92-.59-1.43-.59-.52 0-1.04.2-1.43.59L10.3 9.45l-7.72 7.72c-.78.78-.78 2.05 0 2.83L4 21.41c.39.39.9.59 1.41.59.51 0 1.02-.2 1.41-.59l7.78-7.78 2.81-2.81c.8-.78.8-2.07 0-2.86zM5.41 20L4 18.59l7.72-7.72 1.47 1.35L5.41 20z\"/>\n",
              "  </svg>\n",
              "      </button>\n",
              "      \n",
              "  <style>\n",
              "    .colab-df-container {\n",
              "      display:flex;\n",
              "      flex-wrap:wrap;\n",
              "      gap: 12px;\n",
              "    }\n",
              "\n",
              "    .colab-df-convert {\n",
              "      background-color: #E8F0FE;\n",
              "      border: none;\n",
              "      border-radius: 50%;\n",
              "      cursor: pointer;\n",
              "      display: none;\n",
              "      fill: #1967D2;\n",
              "      height: 32px;\n",
              "      padding: 0 0 0 0;\n",
              "      width: 32px;\n",
              "    }\n",
              "\n",
              "    .colab-df-convert:hover {\n",
              "      background-color: #E2EBFA;\n",
              "      box-shadow: 0px 1px 2px rgba(60, 64, 67, 0.3), 0px 1px 3px 1px rgba(60, 64, 67, 0.15);\n",
              "      fill: #174EA6;\n",
              "    }\n",
              "\n",
              "    [theme=dark] .colab-df-convert {\n",
              "      background-color: #3B4455;\n",
              "      fill: #D2E3FC;\n",
              "    }\n",
              "\n",
              "    [theme=dark] .colab-df-convert:hover {\n",
              "      background-color: #434B5C;\n",
              "      box-shadow: 0px 1px 3px 1px rgba(0, 0, 0, 0.15);\n",
              "      filter: drop-shadow(0px 1px 2px rgba(0, 0, 0, 0.3));\n",
              "      fill: #FFFFFF;\n",
              "    }\n",
              "  </style>\n",
              "\n",
              "      <script>\n",
              "        const buttonEl =\n",
              "          document.querySelector('#df-2c2b7a5a-5615-486e-85e3-ab7cac940535 button.colab-df-convert');\n",
              "        buttonEl.style.display =\n",
              "          google.colab.kernel.accessAllowed ? 'block' : 'none';\n",
              "\n",
              "        async function convertToInteractive(key) {\n",
              "          const element = document.querySelector('#df-2c2b7a5a-5615-486e-85e3-ab7cac940535');\n",
              "          const dataTable =\n",
              "            await google.colab.kernel.invokeFunction('convertToInteractive',\n",
              "                                                     [key], {});\n",
              "          if (!dataTable) return;\n",
              "\n",
              "          const docLinkHtml = 'Like what you see? Visit the ' +\n",
              "            '<a target=\"_blank\" href=https://colab.research.google.com/notebooks/data_table.ipynb>data table notebook</a>'\n",
              "            + ' to learn more about interactive tables.';\n",
              "          element.innerHTML = '';\n",
              "          dataTable['output_type'] = 'display_data';\n",
              "          await google.colab.output.renderOutput(dataTable, element);\n",
              "          const docLink = document.createElement('div');\n",
              "          docLink.innerHTML = docLinkHtml;\n",
              "          element.appendChild(docLink);\n",
              "        }\n",
              "      </script>\n",
              "    </div>\n",
              "  </div>\n",
              "  "
            ]
          },
          "metadata": {},
          "execution_count": 70
        }
      ]
    },
    {
      "cell_type": "markdown",
      "source": [
        "# **Tutorial To Scrape PDFs from a Given URL**\n",
        "This tutorial will help us to download all the PDFs in a given URL. In addition to downloading the PDF, this tutorial also helps us in reading a PDF and saving a table from the PDF to a conservative structured format like a CSV."
      ],
      "metadata": {
        "id": "YTTxCCGaxVCI"
      }
    },
    {
      "cell_type": "code",
      "source": [
        "import os\n",
        "import requests\n",
        "import urllib.request\n",
        "import pandas as pd\n",
        "import tabula #to parse the pdf files\n",
        "from urllib.parse import urljoin\n",
        "from bs4 import BeautifulSoup"
      ],
      "metadata": {
        "id": "yWXtq0Ucxe_B"
      },
      "execution_count": 97,
      "outputs": []
    },
    {
      "cell_type": "code",
      "source": [
        "# Tabula scrapes tables from PDFs\n",
        "!pip install tabula-py\n",
        "import tabula"
      ],
      "metadata": {
        "id": "rrmaW8MZxvGV"
      },
      "execution_count": null,
      "outputs": []
    },
    {
      "cell_type": "code",
      "source": [
        "import tabula"
      ],
      "metadata": {
        "id": "7TmHAOnpx8TL"
      },
      "execution_count": 73,
      "outputs": []
    },
    {
      "cell_type": "code",
      "source": [
        "folder_location = \"premier_league\""
      ],
      "metadata": {
        "id": "-pv0NYTEyHsA"
      },
      "execution_count": 86,
      "outputs": []
    },
    {
      "cell_type": "code",
      "source": [
        "# Create a folder to store the downloaded pdfs\n",
        "if not os.path.exists(folder_location):\n",
        "    os.mkdir(folder_location)"
      ],
      "metadata": {
        "id": "WHmOrYqBtsZQ"
      },
      "execution_count": 87,
      "outputs": []
    },
    {
      "cell_type": "code",
      "source": [
        "url = \"https://www.premierleague.com/publications\"\n",
        "response = requests.get(url)\n",
        "soup = BeautifulSoup(response.text, \"html.parser\")"
      ],
      "metadata": {
        "id": "L66io4eutvod"
      },
      "execution_count": 88,
      "outputs": []
    },
    {
      "cell_type": "code",
      "source": [
        "#This snippet is commented, since it'll take a long time to finish downloading all pdfs.\n",
        "for each in soup.find_all(\"a\",  attrs={'href': re.compile('.*\\.pdf')}):\n",
        "  filename = os.path.join(\"premier_league\", each['href'].split('/')[-1])\n",
        "  print(filename)\n",
        "  with open(filename, 'wb') as f:\n",
        "    f.write(requests.get(urljoin(url,each['href'])).content)    "
      ],
      "metadata": {
        "id": "CBc1CIldyKbB",
        "colab": {
          "base_uri": "https://localhost:8080/"
        },
        "outputId": "3caa2f1d-36ee-4b3a-f295-b180460e8429"
      },
      "execution_count": 94,
      "outputs": [
        {
          "output_type": "stream",
          "name": "stdout",
          "text": [
            "premier_league/PL_Handbook_2021_22_DIGITAL_07-04-22.pdf\n",
            "premier_league/PL_2021-22_Youth_Development_Rules_23.09.pdf\n",
            "premier_league/PL2_2021-22_Handbook_23.09.pdf\n",
            "premier_league/PDL_2021-22_Handbook_23.09.pdf\n",
            "premier_league/U18-PL_2021-22_Handbook_23.09.pdf\n",
            "premier_league/U18PDL_2022-21_Handbook_23.09.pdf\n",
            "premier_league/FP-Player-Parent-Handbook-2020-21.pdf\n",
            "premier_league/YDP-Player-Parent-Handbook-2020-21.pdf\n",
            "premier_league/Professional-Retain-List-2021-22.pdf\n",
            "premier_league/Professional-Retain-List-2021-22.pdf\n",
            "premier_league/PL-Commitment-re.-abusive-and-discriminatory-conduct-August-2021-.pdf\n",
            "premier_league/Accessible-Stadia-Guidelines-Premier-League-Report-2017-appendix.pdf\n",
            "premier_league/BAME-FEMALE-COACH-INITIATIVE-2018.pdf\n",
            "premier_league/U23-Weekly-Bulletin-2021-22-41.pdf\n",
            "premier_league/U18-Weekly-Bulletin-2021-22-41.pdf\n",
            "premier_league/U18-Weekly-Bulletin-2021-22-40.pdf\n",
            "premier_league/U18-Weekly-Bulletin-2021-22-40.pdf\n",
            "premier_league/U23-Weekly-Bulletin-2021-22-39.pdf\n",
            "premier_league/U18-Weekly-Bulletin-2021-22-39.pdf\n",
            "premier_league/U23-Weekly-Bulletin-2021-22-38.pdf\n",
            "premier_league/U18-Weekly-Bulletin-2021-22-38.pdf\n",
            "premier_league/U23-Weekly-Bulletin-2021-22-37.pdf\n",
            "premier_league/U18-Weekly-Bulletin-2021-22-37.pdf\n",
            "premier_league/U23-Weekly-Bulletin-2021-22-36.pdf\n",
            "premier_league/U18-Weekly-Bulletin-2021-22-36.pdf\n",
            "premier_league/U23-Weekly-Bulletin-2021-22-35.pdf\n",
            "premier_league/U18-Weekly-Bulletin-2021-22-35.pdf\n",
            "premier_league/U23-Weekly-Bulletin-2021-22-34.pdf\n",
            "premier_league/U18-Weekly-Bulletin-2021-22-34.pdf\n",
            "premier_league/U23-Weekly-Bulletin-2021-22-33.pdf\n",
            "premier_league/U18-Weekly-Bulletin-2021-22-33.pdf\n",
            "premier_league/U23-Weekly-Bulletin-2021-22-32.pdf\n",
            "premier_league/U18-Weekly-Bulletin-2021-22-32.pdf\n",
            "premier_league/U23-Weekly-Bulletin-2021-22-31.pdf\n",
            "premier_league/U18-Weekly-Bulletin-2021-22-31.pdf\n",
            "premier_league/U23-Weekly-Bulletin-2021-22-30.pdf\n",
            "premier_league/U18-Weekly-Bulletin-2021-22-30.pdf\n",
            "premier_league/U23-Weekly-Bulletin-2021-22-29.pdf\n",
            "premier_league/U18-Weekly-Bulletin-2021-22-29.pdf\n",
            "premier_league/U18-Weekly-Bulletin-2021-22-28.pdf\n",
            "premier_league/U18-Weekly-Bulletin-2021-22-28.pdf\n",
            "premier_league/U23-Weekly-Bulletin-2021-22-27.pdf\n",
            "premier_league/U18-Weekly-Bulletin-2021-22-27.pdf\n",
            "premier_league/U23-Weekly-Bulletin-2021-22-26.pdf\n",
            "premier_league/U18-Weekly-Bulletin-2021-22-26.pdf\n",
            "premier_league/U23-Weekly-Bulletin-2021-22-25.pdf\n",
            "premier_league/U18-Weekly-Bulletin-2021-22-25.pdf\n",
            "premier_league/U23-Weekly-Bulletin-2021-22-24.pdf\n",
            "premier_league/U18-Weekly-Bulletin-2021-22-24.pdf\n",
            "premier_league/U23-Weekly-Bulletin-2021-22-23.pdf\n",
            "premier_league/U18-Weekly-Bulletin-2021-22-23.pdf\n",
            "premier_league/U23-Weekly-Bulletin-2021-22-22.pdf\n",
            "premier_league/U18-Weekly-Bulletin-2021-22-22.pdf\n",
            "premier_league/U23-Weekly-Bulletin-2021-22-21.pdf\n",
            "premier_league/U18-Weekly-Bulletin-2021-22-21.pdf\n",
            "premier_league/U23-Weekly-Bulletin-2021-22-20.pdf\n",
            "premier_league/U18-Weekly-Bulletin-2021-22-20.pdf\n",
            "premier_league/U18-Weekly-Bulletin-2021-22-19.pdf\n",
            "premier_league/U23-Weekly-Bulletin-2021-22-18.pdf\n",
            "premier_league/U18-Weekly-Bulletin-2021-22-18.pdf\n",
            "premier_league/U23-Weekly-Bulletin-2021-22-17.pdf\n",
            "premier_league/U18-Weekly-Bulletin-2021-22-17.pdf\n",
            "premier_league/U23-Weekly-Bulletin-2021-22-16.pdf\n",
            "premier_league/U18-Weekly-Bulletin-2021-22-16.pdf\n",
            "premier_league/U23-Weekly-Bulletin-2021-22-15.pdf\n",
            "premier_league/U18-Weekly-Bulletin-2021-22-15.pdf\n",
            "premier_league/U23-Weekly-Bulletin-2021-22-14.pdf\n",
            "premier_league/U18-Weekly-Bulletin-2021-22-14.pdf\n",
            "premier_league/U23-Weekly-Bulletin-2021-22-13.pdf\n",
            "premier_league/U18-Weekly-Bulletin-2021-22-13.pdf\n",
            "premier_league/U23-Weekly-Bulletin-2021-22-12.pdf\n",
            "premier_league/U18-Weekly-Bulletin-2021-22-12.pdf\n",
            "premier_league/U23-Weekly-Bulletin-2021-22-11.pdf\n",
            "premier_league/U18-Weekly-Bulletin-2021-22-11.pdf\n",
            "premier_league/U23-Weekly-Bulletin-2021-22-10.pdf\n",
            "premier_league/U18-Weekly-Bulletin-2021-22-10.pdf\n",
            "premier_league/U23-Weekly-Bulletin-2021-22-9.pdf\n",
            "premier_league/U18-Weekly-Bulletin-2021-22-9.pdf\n",
            "premier_league/U23-Weekly-Bulletin-2021-22-8.pdf\n",
            "premier_league/U18-Weekly-Bulletin-2021-22-8.pdf\n",
            "premier_league/U18-Weekly-Bulletin-2021-22-7.pdf\n",
            "premier_league/U18-Weekly-Bulletin-2021-22-7.pdf\n",
            "premier_league/U23-Weekly-Bulletin-2021-22-6.pdf\n",
            "premier_league/U18-Weekly-Bulletin-2021-22-6.pdf\n",
            "premier_league/U23-Weekly-Bulletin-2021-22-5.pdf\n",
            "premier_league/U18-Weekly-Bulletin-2021-22-5.pdf\n",
            "premier_league/U23-Weekly-Bulletin-2021-22-4.pdf\n",
            "premier_league/U18-Weekly-Bulletin-2021-22-4.pdf\n",
            "premier_league/U23-Weekly-Bulletin-2021-22-3.pdf\n",
            "premier_league/U18-Weekly-Bulletin-2021-22-3.pdf\n",
            "premier_league/U23-Weekly-Bulletin-2021-22-2.pdf\n",
            "premier_league/U18-Weekly-Bulletin-2021-22-2.pdf\n",
            "premier_league/U23-Weekly-Bulletin-2021-22-1.pdf\n",
            "premier_league/U18-Weekly-Bulletin-2021-22-1.pdf\n",
            "premier_league/PL_Report_20-21_Digital.pdf\n",
            "premier_league/Premier-League-Review-201920.pdf\n",
            "premier_league/TIPL_Digital.pdf\n",
            "premier_league/This-is-PL-Interactive-Combined.pdf\n",
            "premier_league/This_Is_Premier_League_2016-17.pdf\n",
            "premier_league/Premier_League_Inspiring_stories_2015-16.pdf\n",
            "premier_league/Premier_League_Connecting-with-communities_2015-16.pdf\n",
            "premier_league/2014-15-premier-league-season-review.pdf\n",
            "premier_league/premier-league-communities-2014-15.pdf\n",
            "premier_league/2013-14-premier-league-season-review.pdf\n",
            "premier_league/2012-13-premier-league-season-review.pdf\n",
            "premier_league/2011-12-premier-league-season-review.pdf\n"
          ]
        }
      ]
    },
    {
      "cell_type": "code",
      "source": [
        "#This snippet only downloads one particular file\n",
        "filename = os.path.join(\"premier_league\", \"/This-is-PL-Interactive-Combined.pdf\")\n",
        "with open(filename, 'wb') as f:\n",
        "    f.write(requests.get(urljoin(url,\"This-is-PL-Interactive-Combined.pdf\")).content)    "
      ],
      "metadata": {
        "id": "DZaXA0yQyb_D"
      },
      "execution_count": 95,
      "outputs": []
    },
    {
      "cell_type": "code",
      "source": [
        "# Converting the table in one of the pdf files to csv format.\n",
        "from tabula import convert_into\n",
        "\n",
        "combined_pdf = folder_location + \"/This-is-PL-Interactive-Combined.pdf\"\n",
        "convert_into(combined_pdf, folder_location +\"/table_output.csv\", output_format=\"csv\",pages = 18,area=[[275,504,640,900]])\n",
        "pd.read_csv(folder_location+\"/table_output.csv\", encoding= \"ISO-8859-1\")"
      ],
      "metadata": {
        "id": "o5cc_yYGydtO",
        "colab": {
          "base_uri": "https://localhost:8080/",
          "height": 731
        },
        "outputId": "5ba4b30a-e409-4b33-fbbd-f158d92b43db"
      },
      "execution_count": 99,
      "outputs": [
        {
          "output_type": "execute_result",
          "data": {
            "text/plain": [
              "     Pos Unnamed: 1                    Club     W     D     L    GD    Pts  \\\n",
              "0    1.0        NaN         Manchester City  32.0   4.0   2.0  79.0  100.0   \n",
              "1    2.0        NaN       Manchester United  25.0   6.0   7.0  40.0   81.0   \n",
              "2    3.0        NaN       Tottenham Hotspur  23.0   8.0   7.0  38.0   77.0   \n",
              "3    4.0        NaN               Liverpool  21.0  12.0   5.0  46.0   75.0   \n",
              "4    5.0        NaN                 Chelsea  21.0   7.0  10.0  24.0   70.0   \n",
              "5    6.0        NaN                 Arsenal  19.0   6.0  13.0  23.0   63.0   \n",
              "6    7.0        NaN                 Burnley  14.0  12.0  12.0  -3.0   54.0   \n",
              "7    8.0        NaN                 Everton  13.0  10.0  15.0 -14.0   49.0   \n",
              "8    9.0        NaN          Leicester City  12.0  11.0  15.0  -4.0   47.0   \n",
              "9   10.0        NaN        Newcastle United  12.0   8.0  18.0  -8.0   44.0   \n",
              "10   NaN        125                     NaN   NaN   NaN   NaN   NaN    NaN   \n",
              "11   NaN    E RY SA                     NaN   NaN   NaN   NaN   NaN    NaN   \n",
              "12  11.0        NaN          Crystal Palace  11.0  11.0  16.0 -10.0   44.0   \n",
              "13  12.0        NaN         AFC Bournemouth  11.0  11.0  16.0 -16.0   44.0   \n",
              "14  13.0        NaN         West Ham United  10.0  12.0  16.0 -20.0   42.0   \n",
              "15  14.0        NaN                 Watford  11.0   8.0  19.0 -20.0   41.0   \n",
              "16  15.0        NaN  Brighton & Hove Albion   9.0  13.0  16.0 -20.0   40.0   \n",
              "17  16.0        NaN       Huddersfield Town   9.0  10.0  19.0 -30.0   37.0   \n",
              "18  17.0        NaN             Southampton   7.0  15.0  16.0 -19.0   36.0   \n",
              "19  18.0        NaN            Swansea City   8.0   9.0  21.0 -28.0   33.0   \n",
              "20  19.0        NaN              Stoke City   7.0  12.0  19.0 -33.0   33.0   \n",
              "21  20.0        NaN    West Bromwich Albion   6.0  13.0  19.0 -25.0   31.0   \n",
              "\n",
              "   Total payment  \n",
              "0       Â£149.4m  \n",
              "1       Â£149.8m  \n",
              "2       Â£144.4m  \n",
              "3       Â£145.9m  \n",
              "4       Â£141.7m  \n",
              "5       Â£142.0m  \n",
              "6       Â£119.8m  \n",
              "7       Â£128.0m  \n",
              "8       Â£118.2m  \n",
              "9       Â£123.0m  \n",
              "10           NaN  \n",
              "11           NaN  \n",
              "12      Â£114.3m  \n",
              "13      Â£111.2m  \n",
              "14      Â£116.1m  \n",
              "15      Â£106.3m  \n",
              "16      Â£107.7m  \n",
              "17      Â£102.4m  \n",
              "18      Â£107.2m  \n",
              "19       Â£98.5m  \n",
              "20       Â£98.9m  \n",
              "21       Â£94.7m  "
            ],
            "text/html": [
              "\n",
              "  <div id=\"df-ea3a8529-c760-4865-8255-4c39c900ca18\">\n",
              "    <div class=\"colab-df-container\">\n",
              "      <div>\n",
              "<style scoped>\n",
              "    .dataframe tbody tr th:only-of-type {\n",
              "        vertical-align: middle;\n",
              "    }\n",
              "\n",
              "    .dataframe tbody tr th {\n",
              "        vertical-align: top;\n",
              "    }\n",
              "\n",
              "    .dataframe thead th {\n",
              "        text-align: right;\n",
              "    }\n",
              "</style>\n",
              "<table border=\"1\" class=\"dataframe\">\n",
              "  <thead>\n",
              "    <tr style=\"text-align: right;\">\n",
              "      <th></th>\n",
              "      <th>Pos</th>\n",
              "      <th>Unnamed: 1</th>\n",
              "      <th>Club</th>\n",
              "      <th>W</th>\n",
              "      <th>D</th>\n",
              "      <th>L</th>\n",
              "      <th>GD</th>\n",
              "      <th>Pts</th>\n",
              "      <th>Total payment</th>\n",
              "    </tr>\n",
              "  </thead>\n",
              "  <tbody>\n",
              "    <tr>\n",
              "      <th>0</th>\n",
              "      <td>1.0</td>\n",
              "      <td>NaN</td>\n",
              "      <td>Manchester City</td>\n",
              "      <td>32.0</td>\n",
              "      <td>4.0</td>\n",
              "      <td>2.0</td>\n",
              "      <td>79.0</td>\n",
              "      <td>100.0</td>\n",
              "      <td>Â£149.4m</td>\n",
              "    </tr>\n",
              "    <tr>\n",
              "      <th>1</th>\n",
              "      <td>2.0</td>\n",
              "      <td>NaN</td>\n",
              "      <td>Manchester United</td>\n",
              "      <td>25.0</td>\n",
              "      <td>6.0</td>\n",
              "      <td>7.0</td>\n",
              "      <td>40.0</td>\n",
              "      <td>81.0</td>\n",
              "      <td>Â£149.8m</td>\n",
              "    </tr>\n",
              "    <tr>\n",
              "      <th>2</th>\n",
              "      <td>3.0</td>\n",
              "      <td>NaN</td>\n",
              "      <td>Tottenham Hotspur</td>\n",
              "      <td>23.0</td>\n",
              "      <td>8.0</td>\n",
              "      <td>7.0</td>\n",
              "      <td>38.0</td>\n",
              "      <td>77.0</td>\n",
              "      <td>Â£144.4m</td>\n",
              "    </tr>\n",
              "    <tr>\n",
              "      <th>3</th>\n",
              "      <td>4.0</td>\n",
              "      <td>NaN</td>\n",
              "      <td>Liverpool</td>\n",
              "      <td>21.0</td>\n",
              "      <td>12.0</td>\n",
              "      <td>5.0</td>\n",
              "      <td>46.0</td>\n",
              "      <td>75.0</td>\n",
              "      <td>Â£145.9m</td>\n",
              "    </tr>\n",
              "    <tr>\n",
              "      <th>4</th>\n",
              "      <td>5.0</td>\n",
              "      <td>NaN</td>\n",
              "      <td>Chelsea</td>\n",
              "      <td>21.0</td>\n",
              "      <td>7.0</td>\n",
              "      <td>10.0</td>\n",
              "      <td>24.0</td>\n",
              "      <td>70.0</td>\n",
              "      <td>Â£141.7m</td>\n",
              "    </tr>\n",
              "    <tr>\n",
              "      <th>5</th>\n",
              "      <td>6.0</td>\n",
              "      <td>NaN</td>\n",
              "      <td>Arsenal</td>\n",
              "      <td>19.0</td>\n",
              "      <td>6.0</td>\n",
              "      <td>13.0</td>\n",
              "      <td>23.0</td>\n",
              "      <td>63.0</td>\n",
              "      <td>Â£142.0m</td>\n",
              "    </tr>\n",
              "    <tr>\n",
              "      <th>6</th>\n",
              "      <td>7.0</td>\n",
              "      <td>NaN</td>\n",
              "      <td>Burnley</td>\n",
              "      <td>14.0</td>\n",
              "      <td>12.0</td>\n",
              "      <td>12.0</td>\n",
              "      <td>-3.0</td>\n",
              "      <td>54.0</td>\n",
              "      <td>Â£119.8m</td>\n",
              "    </tr>\n",
              "    <tr>\n",
              "      <th>7</th>\n",
              "      <td>8.0</td>\n",
              "      <td>NaN</td>\n",
              "      <td>Everton</td>\n",
              "      <td>13.0</td>\n",
              "      <td>10.0</td>\n",
              "      <td>15.0</td>\n",
              "      <td>-14.0</td>\n",
              "      <td>49.0</td>\n",
              "      <td>Â£128.0m</td>\n",
              "    </tr>\n",
              "    <tr>\n",
              "      <th>8</th>\n",
              "      <td>9.0</td>\n",
              "      <td>NaN</td>\n",
              "      <td>Leicester City</td>\n",
              "      <td>12.0</td>\n",
              "      <td>11.0</td>\n",
              "      <td>15.0</td>\n",
              "      <td>-4.0</td>\n",
              "      <td>47.0</td>\n",
              "      <td>Â£118.2m</td>\n",
              "    </tr>\n",
              "    <tr>\n",
              "      <th>9</th>\n",
              "      <td>10.0</td>\n",
              "      <td>NaN</td>\n",
              "      <td>Newcastle United</td>\n",
              "      <td>12.0</td>\n",
              "      <td>8.0</td>\n",
              "      <td>18.0</td>\n",
              "      <td>-8.0</td>\n",
              "      <td>44.0</td>\n",
              "      <td>Â£123.0m</td>\n",
              "    </tr>\n",
              "    <tr>\n",
              "      <th>10</th>\n",
              "      <td>NaN</td>\n",
              "      <td>125</td>\n",
              "      <td>NaN</td>\n",
              "      <td>NaN</td>\n",
              "      <td>NaN</td>\n",
              "      <td>NaN</td>\n",
              "      <td>NaN</td>\n",
              "      <td>NaN</td>\n",
              "      <td>NaN</td>\n",
              "    </tr>\n",
              "    <tr>\n",
              "      <th>11</th>\n",
              "      <td>NaN</td>\n",
              "      <td>E RY SA</td>\n",
              "      <td>NaN</td>\n",
              "      <td>NaN</td>\n",
              "      <td>NaN</td>\n",
              "      <td>NaN</td>\n",
              "      <td>NaN</td>\n",
              "      <td>NaN</td>\n",
              "      <td>NaN</td>\n",
              "    </tr>\n",
              "    <tr>\n",
              "      <th>12</th>\n",
              "      <td>11.0</td>\n",
              "      <td>NaN</td>\n",
              "      <td>Crystal Palace</td>\n",
              "      <td>11.0</td>\n",
              "      <td>11.0</td>\n",
              "      <td>16.0</td>\n",
              "      <td>-10.0</td>\n",
              "      <td>44.0</td>\n",
              "      <td>Â£114.3m</td>\n",
              "    </tr>\n",
              "    <tr>\n",
              "      <th>13</th>\n",
              "      <td>12.0</td>\n",
              "      <td>NaN</td>\n",
              "      <td>AFC Bournemouth</td>\n",
              "      <td>11.0</td>\n",
              "      <td>11.0</td>\n",
              "      <td>16.0</td>\n",
              "      <td>-16.0</td>\n",
              "      <td>44.0</td>\n",
              "      <td>Â£111.2m</td>\n",
              "    </tr>\n",
              "    <tr>\n",
              "      <th>14</th>\n",
              "      <td>13.0</td>\n",
              "      <td>NaN</td>\n",
              "      <td>West Ham United</td>\n",
              "      <td>10.0</td>\n",
              "      <td>12.0</td>\n",
              "      <td>16.0</td>\n",
              "      <td>-20.0</td>\n",
              "      <td>42.0</td>\n",
              "      <td>Â£116.1m</td>\n",
              "    </tr>\n",
              "    <tr>\n",
              "      <th>15</th>\n",
              "      <td>14.0</td>\n",
              "      <td>NaN</td>\n",
              "      <td>Watford</td>\n",
              "      <td>11.0</td>\n",
              "      <td>8.0</td>\n",
              "      <td>19.0</td>\n",
              "      <td>-20.0</td>\n",
              "      <td>41.0</td>\n",
              "      <td>Â£106.3m</td>\n",
              "    </tr>\n",
              "    <tr>\n",
              "      <th>16</th>\n",
              "      <td>15.0</td>\n",
              "      <td>NaN</td>\n",
              "      <td>Brighton &amp; Hove Albion</td>\n",
              "      <td>9.0</td>\n",
              "      <td>13.0</td>\n",
              "      <td>16.0</td>\n",
              "      <td>-20.0</td>\n",
              "      <td>40.0</td>\n",
              "      <td>Â£107.7m</td>\n",
              "    </tr>\n",
              "    <tr>\n",
              "      <th>17</th>\n",
              "      <td>16.0</td>\n",
              "      <td>NaN</td>\n",
              "      <td>Huddersfield Town</td>\n",
              "      <td>9.0</td>\n",
              "      <td>10.0</td>\n",
              "      <td>19.0</td>\n",
              "      <td>-30.0</td>\n",
              "      <td>37.0</td>\n",
              "      <td>Â£102.4m</td>\n",
              "    </tr>\n",
              "    <tr>\n",
              "      <th>18</th>\n",
              "      <td>17.0</td>\n",
              "      <td>NaN</td>\n",
              "      <td>Southampton</td>\n",
              "      <td>7.0</td>\n",
              "      <td>15.0</td>\n",
              "      <td>16.0</td>\n",
              "      <td>-19.0</td>\n",
              "      <td>36.0</td>\n",
              "      <td>Â£107.2m</td>\n",
              "    </tr>\n",
              "    <tr>\n",
              "      <th>19</th>\n",
              "      <td>18.0</td>\n",
              "      <td>NaN</td>\n",
              "      <td>Swansea City</td>\n",
              "      <td>8.0</td>\n",
              "      <td>9.0</td>\n",
              "      <td>21.0</td>\n",
              "      <td>-28.0</td>\n",
              "      <td>33.0</td>\n",
              "      <td>Â£98.5m</td>\n",
              "    </tr>\n",
              "    <tr>\n",
              "      <th>20</th>\n",
              "      <td>19.0</td>\n",
              "      <td>NaN</td>\n",
              "      <td>Stoke City</td>\n",
              "      <td>7.0</td>\n",
              "      <td>12.0</td>\n",
              "      <td>19.0</td>\n",
              "      <td>-33.0</td>\n",
              "      <td>33.0</td>\n",
              "      <td>Â£98.9m</td>\n",
              "    </tr>\n",
              "    <tr>\n",
              "      <th>21</th>\n",
              "      <td>20.0</td>\n",
              "      <td>NaN</td>\n",
              "      <td>West Bromwich Albion</td>\n",
              "      <td>6.0</td>\n",
              "      <td>13.0</td>\n",
              "      <td>19.0</td>\n",
              "      <td>-25.0</td>\n",
              "      <td>31.0</td>\n",
              "      <td>Â£94.7m</td>\n",
              "    </tr>\n",
              "  </tbody>\n",
              "</table>\n",
              "</div>\n",
              "      <button class=\"colab-df-convert\" onclick=\"convertToInteractive('df-ea3a8529-c760-4865-8255-4c39c900ca18')\"\n",
              "              title=\"Convert this dataframe to an interactive table.\"\n",
              "              style=\"display:none;\">\n",
              "        \n",
              "  <svg xmlns=\"http://www.w3.org/2000/svg\" height=\"24px\"viewBox=\"0 0 24 24\"\n",
              "       width=\"24px\">\n",
              "    <path d=\"M0 0h24v24H0V0z\" fill=\"none\"/>\n",
              "    <path d=\"M18.56 5.44l.94 2.06.94-2.06 2.06-.94-2.06-.94-.94-2.06-.94 2.06-2.06.94zm-11 1L8.5 8.5l.94-2.06 2.06-.94-2.06-.94L8.5 2.5l-.94 2.06-2.06.94zm10 10l.94 2.06.94-2.06 2.06-.94-2.06-.94-.94-2.06-.94 2.06-2.06.94z\"/><path d=\"M17.41 7.96l-1.37-1.37c-.4-.4-.92-.59-1.43-.59-.52 0-1.04.2-1.43.59L10.3 9.45l-7.72 7.72c-.78.78-.78 2.05 0 2.83L4 21.41c.39.39.9.59 1.41.59.51 0 1.02-.2 1.41-.59l7.78-7.78 2.81-2.81c.8-.78.8-2.07 0-2.86zM5.41 20L4 18.59l7.72-7.72 1.47 1.35L5.41 20z\"/>\n",
              "  </svg>\n",
              "      </button>\n",
              "      \n",
              "  <style>\n",
              "    .colab-df-container {\n",
              "      display:flex;\n",
              "      flex-wrap:wrap;\n",
              "      gap: 12px;\n",
              "    }\n",
              "\n",
              "    .colab-df-convert {\n",
              "      background-color: #E8F0FE;\n",
              "      border: none;\n",
              "      border-radius: 50%;\n",
              "      cursor: pointer;\n",
              "      display: none;\n",
              "      fill: #1967D2;\n",
              "      height: 32px;\n",
              "      padding: 0 0 0 0;\n",
              "      width: 32px;\n",
              "    }\n",
              "\n",
              "    .colab-df-convert:hover {\n",
              "      background-color: #E2EBFA;\n",
              "      box-shadow: 0px 1px 2px rgba(60, 64, 67, 0.3), 0px 1px 3px 1px rgba(60, 64, 67, 0.15);\n",
              "      fill: #174EA6;\n",
              "    }\n",
              "\n",
              "    [theme=dark] .colab-df-convert {\n",
              "      background-color: #3B4455;\n",
              "      fill: #D2E3FC;\n",
              "    }\n",
              "\n",
              "    [theme=dark] .colab-df-convert:hover {\n",
              "      background-color: #434B5C;\n",
              "      box-shadow: 0px 1px 3px 1px rgba(0, 0, 0, 0.15);\n",
              "      filter: drop-shadow(0px 1px 2px rgba(0, 0, 0, 0.3));\n",
              "      fill: #FFFFFF;\n",
              "    }\n",
              "  </style>\n",
              "\n",
              "      <script>\n",
              "        const buttonEl =\n",
              "          document.querySelector('#df-ea3a8529-c760-4865-8255-4c39c900ca18 button.colab-df-convert');\n",
              "        buttonEl.style.display =\n",
              "          google.colab.kernel.accessAllowed ? 'block' : 'none';\n",
              "\n",
              "        async function convertToInteractive(key) {\n",
              "          const element = document.querySelector('#df-ea3a8529-c760-4865-8255-4c39c900ca18');\n",
              "          const dataTable =\n",
              "            await google.colab.kernel.invokeFunction('convertToInteractive',\n",
              "                                                     [key], {});\n",
              "          if (!dataTable) return;\n",
              "\n",
              "          const docLinkHtml = 'Like what you see? Visit the ' +\n",
              "            '<a target=\"_blank\" href=https://colab.research.google.com/notebooks/data_table.ipynb>data table notebook</a>'\n",
              "            + ' to learn more about interactive tables.';\n",
              "          element.innerHTML = '';\n",
              "          dataTable['output_type'] = 'display_data';\n",
              "          await google.colab.output.renderOutput(dataTable, element);\n",
              "          const docLink = document.createElement('div');\n",
              "          docLink.innerHTML = docLinkHtml;\n",
              "          element.appendChild(docLink);\n",
              "        }\n",
              "      </script>\n",
              "    </div>\n",
              "  </div>\n",
              "  "
            ]
          },
          "metadata": {},
          "execution_count": 99
        }
      ]
    },
    {
      "cell_type": "markdown",
      "source": [
        "# Image Labelling"
      ],
      "metadata": {
        "id": "jCgaj7wgnFoq"
      }
    },
    {
      "cell_type": "code",
      "source": [
        "import requests, lxml, re, urllib.parse, base64\n",
        "from bs4 import BeautifulSoup\n",
        "from PIL import Image\n",
        "from io import BytesIO"
      ],
      "metadata": {
        "id": "geQae7j6nJRm"
      },
      "execution_count": 130,
      "outputs": []
    },
    {
      "cell_type": "code",
      "source": [
        "headers = {\n",
        "    \"User-Agent\":\n",
        "    \"Mozilla/5.0 (Windows NT 10.0; Win64; x64) AppleWebKit/537.36 (KHTML, like Gecko) Chrome/70.0.3538.102 Safari/537.36 Edge/18.19582\"\n",
        "}\n",
        "\n",
        "params = {\n",
        "    \"q\": \"chess pawn\",\n",
        "    \"sourceid\": \"chrome\",\n",
        "}\n",
        "query_term = params['q']\n",
        "html = requests.get(\"https://www.google.com/search\", params=params)\n",
        "soup = BeautifulSoup(html.text, 'lxml')\n",
        "\n",
        "for result in soup.select('div[jsname=dTDiAc]'):\n",
        "    link = f\"https://www.google.com{result.a['href']}\"\n",
        "    being_used_on = result['data-lpage']\n",
        "    print(f'Link: {link}\\nBeing used on: {being_used_on}\\n')\n",
        "\n",
        "# finding all script (<script>) tags\n"
      ],
      "metadata": {
        "id": "-Q68A1nxnK9r"
      },
      "execution_count": 131,
      "outputs": []
    },
    {
      "cell_type": "code",
      "source": [
        "script_img_tags = soup.find_all('script')\n",
        "\n",
        "# https://regex101.com/r/L3IZXe/4\n",
        "img_matches = re.findall(r\"s='data:image/jpeg;base64,(.*?)';\", str(script_img_tags))\n",
        "\n",
        "for index, image in enumerate(img_matches):\n",
        "    try:\n",
        "        # https://stackoverflow.com/a/6966225/15164646\n",
        "        final_image = Image.open(BytesIO(base64.b64decode(str(image))))\n",
        "\n",
        "        # https://www.educative.io/edpresso/absolute-vs-relative-path\n",
        "        # https://stackoverflow.com/a/31434485/15164646\n",
        "        final_image.save(f'{query_term}_{index}.jpg', 'JPEG')\n",
        "    except:\n",
        "        pass"
      ],
      "metadata": {
        "id": "AwLviaGInaZU"
      },
      "execution_count": 132,
      "outputs": []
    },
    {
      "cell_type": "code",
      "source": [
        "from google.colab import drive\n",
        "drive.mount('/content/drive')"
      ],
      "metadata": {
        "colab": {
          "base_uri": "https://localhost:8080/"
        },
        "id": "qNwUwyMuncOy",
        "outputId": "6d09b203-c627-4ad2-ca6f-b886c0f72989"
      },
      "execution_count": 133,
      "outputs": [
        {
          "output_type": "stream",
          "name": "stdout",
          "text": [
            "Drive already mounted at /content/drive; to attempt to forcibly remount, call drive.mount(\"/content/drive\", force_remount=True).\n"
          ]
        }
      ]
    }
  ]
}