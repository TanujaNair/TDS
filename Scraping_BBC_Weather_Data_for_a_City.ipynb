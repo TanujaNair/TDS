{
  "nbformat": 4,
  "nbformat_minor": 0,
  "metadata": {
    "colab": {
      "name": "Scraping BBC Weather Data for a City.ipynb",
      "provenance": [],
      "authorship_tag": "ABX9TyPnNnyIOyWd3IVBzC2oAs43"
    },
    "kernelspec": {
      "name": "python3",
      "display_name": "Python 3"
    },
    "language_info": {
      "name": "python"
    }
  },
  "cells": [
    {
      "cell_type": "markdown",
      "source": [
        "This example scrapes the BBC weather website for any specific city, and collects weather forecast for the next 14 days and saves it as a csv file."
      ],
      "metadata": {
        "id": "vytA1BcqMHfC"
      }
    },
    {
      "cell_type": "code",
      "execution_count": 1,
      "metadata": {
        "id": "KggYdaZeLDe0"
      },
      "outputs": [],
      "source": [
        "import json                   # to convert API to json format\n",
        "from urllib.parse import urlencode\n",
        "import requests               # to get the webpage\n",
        "from bs4 import BeautifulSoup # to parse the webpage\n",
        "import pandas as pd\n",
        "import re                     # regular expression operators\n",
        "from datetime import datetime"
      ]
    },
    {
      "cell_type": "markdown",
      "source": [
        "Getting the webpage of interest from the server"
      ],
      "metadata": {
        "id": "sZUyvYghMPJd"
      }
    },
    {
      "cell_type": "code",
      "source": [
        "required_city = \"Mumbai\"\n",
        "location_url = 'https://locator-service.api.bbci.co.uk/locations?' + urlencode({\n",
        "   'api_key': 'AGbFAKx58hyjQScCXIYrxuEwJh2W2cmv',\n",
        "   's': required_city,\n",
        "   'stack': 'aws',\n",
        "   'locale': 'en',\n",
        "   'filter': 'international',\n",
        "   'place-types': 'settlement,airport,district',\n",
        "   'order': 'importance',\n",
        "   'a': 'true',\n",
        "   'format': 'json'\n",
        "})\n",
        "location_url"
      ],
      "metadata": {
        "colab": {
          "base_uri": "https://localhost:8080/",
          "height": 54
        },
        "id": "Thrij1VaMUsl",
        "outputId": "5263bbc9-dfa4-4e52-c4df-9555c7e958df"
      },
      "execution_count": 2,
      "outputs": [
        {
          "output_type": "execute_result",
          "data": {
            "text/plain": [
              "'https://locator-service.api.bbci.co.uk/locations?api_key=AGbFAKx58hyjQScCXIYrxuEwJh2W2cmv&s=Mumbai&stack=aws&locale=en&filter=international&place-types=settlement%2Cairport%2Cdistrict&order=importance&a=true&format=json'"
            ],
            "application/vnd.google.colaboratory.intrinsic+json": {
              "type": "string"
            }
          },
          "metadata": {},
          "execution_count": 2
        }
      ]
    },
    {
      "cell_type": "code",
      "source": [
        "result = requests.get(location_url).json()\n",
        "result"
      ],
      "metadata": {
        "colab": {
          "base_uri": "https://localhost:8080/"
        },
        "id": "NKbtXYaNMbrE",
        "outputId": "fbd7aaa9-c139-4930-f810-5a782e80235e"
      },
      "execution_count": 3,
      "outputs": [
        {
          "output_type": "execute_result",
          "data": {
            "text/plain": [
              "{'response': {'results': {'results': [{'container': 'India',\n",
              "     'containerId': 1269750,\n",
              "     'country': 'IN',\n",
              "     'id': '1275339',\n",
              "     'language': 'en',\n",
              "     'latitude': 19.07283,\n",
              "     'longitude': 72.88261,\n",
              "     'name': 'Mumbai',\n",
              "     'placeType': 'settlement',\n",
              "     'timezone': 'Asia/Kolkata'}],\n",
              "   'totalResults': 1}}}"
            ]
          },
          "metadata": {},
          "execution_count": 3
        }
      ]
    },
    {
      "cell_type": "code",
      "source": [
        "# url      = 'https://www.bbc.com/weather/1275339' # url to BBC weather, corresponding to a specific city (Mumbai, in this example)\n",
        "url      = 'https://www.bbc.com/weather/'+result['response']['results']['results'][0]['id']\n",
        "response = requests.get(url)\n",
        "url"
      ],
      "metadata": {
        "colab": {
          "base_uri": "https://localhost:8080/",
          "height": 37
        },
        "id": "vaGeXFHjMjhm",
        "outputId": "29447beb-226c-4569-dcb8-c5ef906f9471"
      },
      "execution_count": 12,
      "outputs": [
        {
          "output_type": "execute_result",
          "data": {
            "text/plain": [
              "'https://www.bbc.com/weather/1275339'"
            ],
            "application/vnd.google.colaboratory.intrinsic+json": {
              "type": "string"
            }
          },
          "metadata": {},
          "execution_count": 12
        }
      ]
    },
    {
      "cell_type": "code",
      "source": [
        "#Initiating BeautifulSoup\n",
        "soup = BeautifulSoup(response.content,'html.parser') "
      ],
      "metadata": {
        "id": "1kg6EuKFMnpd"
      },
      "execution_count": 5,
      "outputs": []
    },
    {
      "cell_type": "markdown",
      "source": [
        "we want (daily high and low temp., and daily weather summary, are in specific blocks on the webpage. We need to find the block type, type of identifier, and the identifier name"
      ],
      "metadata": {
        "id": "upyy_ePpNWkF"
      }
    },
    {
      "cell_type": "code",
      "source": [
        "#predicted highest temperatures for next 14 days\n",
        "daily_high_values = soup.find_all('span', attrs={'class': 'wr-day-temperature__high-value'}) # block-type: span; identifier type: class; and class name: wr-day-temperature__high-value \n",
        "daily_high_values"
      ],
      "metadata": {
        "colab": {
          "base_uri": "https://localhost:8080/"
        },
        "id": "Vi3CbB02NXHR",
        "outputId": "3278fb62-154b-4979-fb9e-55751dd0c9df"
      },
      "execution_count": 6,
      "outputs": [
        {
          "output_type": "execute_result",
          "data": {
            "text/plain": [
              "[<span class=\"wr-day-temperature__high-value\"><span class=\"wr-value--temperature \"><span class=\"wr-value--temperature--c\">30°</span><span class=\"wr-hide\"> </span><span class=\"wr-value--temperature--f\">86°</span></span></span>,\n",
              " <span class=\"wr-day-temperature__high-value\"><span class=\"wr-value--temperature \"><span class=\"wr-value--temperature--c\">30°</span><span class=\"wr-hide\"> </span><span class=\"wr-value--temperature--f\">86°</span></span></span>,\n",
              " <span class=\"wr-day-temperature__high-value\"><span class=\"wr-value--temperature \"><span class=\"wr-value--temperature--c\">31°</span><span class=\"wr-hide\"> </span><span class=\"wr-value--temperature--f\">88°</span></span></span>,\n",
              " <span class=\"wr-day-temperature__high-value\"><span class=\"wr-value--temperature \"><span class=\"wr-value--temperature--c\">30°</span><span class=\"wr-hide\"> </span><span class=\"wr-value--temperature--f\">86°</span></span></span>,\n",
              " <span class=\"wr-day-temperature__high-value\"><span class=\"wr-value--temperature \"><span class=\"wr-value--temperature--c\">30°</span><span class=\"wr-hide\"> </span><span class=\"wr-value--temperature--f\">87°</span></span></span>,\n",
              " <span class=\"wr-day-temperature__high-value\"><span class=\"wr-value--temperature \"><span class=\"wr-value--temperature--c\">29°</span><span class=\"wr-hide\"> </span><span class=\"wr-value--temperature--f\">85°</span></span></span>,\n",
              " <span class=\"wr-day-temperature__high-value\"><span class=\"wr-value--temperature \"><span class=\"wr-value--temperature--c\">30°</span><span class=\"wr-hide\"> </span><span class=\"wr-value--temperature--f\">86°</span></span></span>,\n",
              " <span class=\"wr-day-temperature__high-value\"><span class=\"wr-value--temperature \"><span class=\"wr-value--temperature--c\">29°</span><span class=\"wr-hide\"> </span><span class=\"wr-value--temperature--f\">84°</span></span></span>,\n",
              " <span class=\"wr-day-temperature__high-value\"><span class=\"wr-value--temperature \"><span class=\"wr-value--temperature--c\">29°</span><span class=\"wr-hide\"> </span><span class=\"wr-value--temperature--f\">85°</span></span></span>,\n",
              " <span class=\"wr-day-temperature__high-value\"><span class=\"wr-value--temperature \"><span class=\"wr-value--temperature--c\">29°</span><span class=\"wr-hide\"> </span><span class=\"wr-value--temperature--f\">84°</span></span></span>,\n",
              " <span class=\"wr-day-temperature__high-value\"><span class=\"wr-value--temperature \"><span class=\"wr-value--temperature--c\">30°</span><span class=\"wr-hide\"> </span><span class=\"wr-value--temperature--f\">85°</span></span></span>,\n",
              " <span class=\"wr-day-temperature__high-value\"><span class=\"wr-value--temperature \"><span class=\"wr-value--temperature--c\">30°</span><span class=\"wr-hide\"> </span><span class=\"wr-value--temperature--f\">85°</span></span></span>,\n",
              " <span class=\"wr-day-temperature__high-value\"><span class=\"wr-value--temperature \"><span class=\"wr-value--temperature--c\">29°</span><span class=\"wr-hide\"> </span><span class=\"wr-value--temperature--f\">85°</span></span></span>,\n",
              " <span class=\"wr-day-temperature__high-value\"><span class=\"wr-value--temperature \"><span class=\"wr-value--temperature--c\">29°</span><span class=\"wr-hide\"> </span><span class=\"wr-value--temperature--f\">85°</span></span></span>]"
            ]
          },
          "metadata": {},
          "execution_count": 6
        }
      ]
    },
    {
      "cell_type": "code",
      "source": [
        "#predicted lowest temperatures for next 14 days\n",
        "daily_low_values  = soup.find_all('span', attrs={'class': 'wr-day-temperature__low-value'})\n",
        "daily_low_values"
      ],
      "metadata": {
        "colab": {
          "base_uri": "https://localhost:8080/"
        },
        "id": "kt_JAWfBNbQW",
        "outputId": "dc0b167a-ca37-4d97-b411-60f5703e3018"
      },
      "execution_count": 7,
      "outputs": [
        {
          "output_type": "execute_result",
          "data": {
            "text/plain": [
              "[<span class=\"wr-day-temperature__low-value\"><span class=\"wr-value--temperature \"><span class=\"wr-value--temperature--c\">25°</span><span class=\"wr-hide\"> </span><span class=\"wr-value--temperature--f\">76°</span></span></span>,\n",
              " <span class=\"wr-day-temperature__low-value\"><span class=\"wr-value--temperature \"><span class=\"wr-value--temperature--c\">26°</span><span class=\"wr-hide\"> </span><span class=\"wr-value--temperature--f\">78°</span></span></span>,\n",
              " <span class=\"wr-day-temperature__low-value\"><span class=\"wr-value--temperature \"><span class=\"wr-value--temperature--c\">26°</span><span class=\"wr-hide\"> </span><span class=\"wr-value--temperature--f\">79°</span></span></span>,\n",
              " <span class=\"wr-day-temperature__low-value\"><span class=\"wr-value--temperature \"><span class=\"wr-value--temperature--c\">26°</span><span class=\"wr-hide\"> </span><span class=\"wr-value--temperature--f\">79°</span></span></span>,\n",
              " <span class=\"wr-day-temperature__low-value\"><span class=\"wr-value--temperature \"><span class=\"wr-value--temperature--c\">26°</span><span class=\"wr-hide\"> </span><span class=\"wr-value--temperature--f\">78°</span></span></span>,\n",
              " <span class=\"wr-day-temperature__low-value\"><span class=\"wr-value--temperature \"><span class=\"wr-value--temperature--c\">26°</span><span class=\"wr-hide\"> </span><span class=\"wr-value--temperature--f\">79°</span></span></span>,\n",
              " <span class=\"wr-day-temperature__low-value\"><span class=\"wr-value--temperature \"><span class=\"wr-value--temperature--c\">26°</span><span class=\"wr-hide\"> </span><span class=\"wr-value--temperature--f\">79°</span></span></span>,\n",
              " <span class=\"wr-day-temperature__low-value\"><span class=\"wr-value--temperature \"><span class=\"wr-value--temperature--c\">26°</span><span class=\"wr-hide\"> </span><span class=\"wr-value--temperature--f\">79°</span></span></span>,\n",
              " <span class=\"wr-day-temperature__low-value\"><span class=\"wr-value--temperature \"><span class=\"wr-value--temperature--c\">26°</span><span class=\"wr-hide\"> </span><span class=\"wr-value--temperature--f\">79°</span></span></span>,\n",
              " <span class=\"wr-day-temperature__low-value\"><span class=\"wr-value--temperature \"><span class=\"wr-value--temperature--c\">26°</span><span class=\"wr-hide\"> </span><span class=\"wr-value--temperature--f\">78°</span></span></span>,\n",
              " <span class=\"wr-day-temperature__low-value\"><span class=\"wr-value--temperature \"><span class=\"wr-value--temperature--c\">26°</span><span class=\"wr-hide\"> </span><span class=\"wr-value--temperature--f\">78°</span></span></span>,\n",
              " <span class=\"wr-day-temperature__low-value\"><span class=\"wr-value--temperature \"><span class=\"wr-value--temperature--c\">26°</span><span class=\"wr-hide\"> </span><span class=\"wr-value--temperature--f\">78°</span></span></span>,\n",
              " <span class=\"wr-day-temperature__low-value\"><span class=\"wr-value--temperature \"><span class=\"wr-value--temperature--c\">26°</span><span class=\"wr-hide\"> </span><span class=\"wr-value--temperature--f\">78°</span></span></span>,\n",
              " <span class=\"wr-day-temperature__low-value\"><span class=\"wr-value--temperature \"><span class=\"wr-value--temperature--c\">25°</span><span class=\"wr-hide\"> </span><span class=\"wr-value--temperature--f\">78°</span></span></span>]"
            ]
          },
          "metadata": {},
          "execution_count": 7
        }
      ]
    },
    {
      "cell_type": "markdown",
      "source": [
        "daily_high_values and daily_low values return a lot of junk, we want only the ˚C values, hence we run the following piece of code"
      ],
      "metadata": {
        "id": "XlC0_aQRQ34w"
      }
    },
    {
      "cell_type": "code",
      "source": [
        "daily_high_values_list = [daily_high_values[i].text.strip().split()[0] for i in range(len(daily_high_values))]\n",
        "daily_high_values_list"
      ],
      "metadata": {
        "colab": {
          "base_uri": "https://localhost:8080/"
        },
        "id": "3z2ttpxxQqI4",
        "outputId": "bbda0699-4375-4348-d1ea-99d1cac2e207"
      },
      "execution_count": 13,
      "outputs": [
        {
          "output_type": "execute_result",
          "data": {
            "text/plain": [
              "['30°',\n",
              " '30°',\n",
              " '31°',\n",
              " '30°',\n",
              " '30°',\n",
              " '29°',\n",
              " '30°',\n",
              " '29°',\n",
              " '29°',\n",
              " '29°',\n",
              " '30°',\n",
              " '30°',\n",
              " '29°',\n",
              " '29°']"
            ]
          },
          "metadata": {},
          "execution_count": 13
        }
      ]
    },
    {
      "cell_type": "code",
      "source": [
        "daily_low_values_list = [daily_low_values[i].text.strip().split()[0] for i in range(len(daily_low_values))]\n",
        "daily_low_values_list"
      ],
      "metadata": {
        "colab": {
          "base_uri": "https://localhost:8080/"
        },
        "id": "MfQGuwMzRWmg",
        "outputId": "d7dfd9e1-5431-462d-9f4a-c6da12683d8d"
      },
      "execution_count": 14,
      "outputs": [
        {
          "output_type": "execute_result",
          "data": {
            "text/plain": [
              "['25°',\n",
              " '26°',\n",
              " '26°',\n",
              " '26°',\n",
              " '26°',\n",
              " '26°',\n",
              " '26°',\n",
              " '26°',\n",
              " '26°',\n",
              " '26°',\n",
              " '26°',\n",
              " '26°',\n",
              " '26°',\n",
              " '25°']"
            ]
          },
          "metadata": {},
          "execution_count": 14
        }
      ]
    },
    {
      "cell_type": "code",
      "source": [
        "#To return the highest ˚C and ˚F values of a particular day\n",
        "daily_high_values[0].text.strip() #current day's values"
      ],
      "metadata": {
        "colab": {
          "base_uri": "https://localhost:8080/",
          "height": 37
        },
        "id": "JUvvi6zDRjUk",
        "outputId": "c5c7b972-6f20-4fc3-b050-6dc67c8f79b5"
      },
      "execution_count": 15,
      "outputs": [
        {
          "output_type": "execute_result",
          "data": {
            "text/plain": [
              "'30° 86°'"
            ],
            "application/vnd.google.colaboratory.intrinsic+json": {
              "type": "string"
            }
          },
          "metadata": {},
          "execution_count": 15
        }
      ]
    },
    {
      "cell_type": "code",
      "source": [
        "#To return the lowest ˚C and ˚F values of a particular day\n",
        "daily_low_values[0].text.strip() #current day's values"
      ],
      "metadata": {
        "colab": {
          "base_uri": "https://localhost:8080/",
          "height": 37
        },
        "id": "Aa8rWemWRybk",
        "outputId": "c94bfa1b-bd53-4d1e-c13b-6c9be67b4079"
      },
      "execution_count": 16,
      "outputs": [
        {
          "output_type": "execute_result",
          "data": {
            "text/plain": [
              "'25° 76°'"
            ],
            "application/vnd.google.colaboratory.intrinsic+json": {
              "type": "string"
            }
          },
          "metadata": {},
          "execution_count": 16
        }
      ]
    },
    {
      "cell_type": "code",
      "source": [
        "daily_summary = soup.find('div', attrs={'class': 'wr-day-summary'})\n",
        "daily_summary"
      ],
      "metadata": {
        "colab": {
          "base_uri": "https://localhost:8080/"
        },
        "id": "ndcOPtNuNeF1",
        "outputId": "0440beac-b152-498e-df7a-0f1f77e7df5e"
      },
      "execution_count": 8,
      "outputs": [
        {
          "output_type": "execute_result",
          "data": {
            "text/plain": [
              "<div class=\"wr-day-summary\"><div class=\"gel-wrap\"><span class=\"\">Light rain showers and a gentle breeze</span><span class=\"wr-hide\">Thundery showers and a gentle breeze</span><span class=\"wr-hide\">Thundery showers and a gentle breeze</span><span class=\"wr-hide\">Thundery showers and a gentle breeze</span><span class=\"wr-hide\">Thundery showers and a gentle breeze</span><span class=\"wr-hide\">Thundery showers and a gentle breeze</span><span class=\"wr-hide\">Thundery showers and a moderate breeze</span><span class=\"wr-hide\">Thundery showers and a moderate breeze</span><span class=\"wr-hide\">Thundery showers and a moderate breeze</span><span class=\"wr-hide\">Thundery showers and a moderate breeze</span><span class=\"wr-hide\">Thundery showers and a moderate breeze</span><span class=\"wr-hide\">Thundery showers and a moderate breeze</span><span class=\"wr-hide\">Thundery showers and a moderate breeze</span><span class=\"wr-hide\">Thundery showers and a moderate breeze</span></div></div>"
            ]
          },
          "metadata": {},
          "execution_count": 8
        }
      ]
    },
    {
      "cell_type": "code",
      "source": [
        "daily_summary.text"
      ],
      "metadata": {
        "colab": {
          "base_uri": "https://localhost:8080/",
          "height": 88
        },
        "id": "I8Hhd67qNg8o",
        "outputId": "08389a4d-8dd3-4469-d7a0-72052791c3e3"
      },
      "execution_count": 9,
      "outputs": [
        {
          "output_type": "execute_result",
          "data": {
            "text/plain": [
              "'Light rain showers and a gentle breezeThundery showers and a gentle breezeThundery showers and a gentle breezeThundery showers and a gentle breezeThundery showers and a gentle breezeThundery showers and a gentle breezeThundery showers and a moderate breezeThundery showers and a moderate breezeThundery showers and a moderate breezeThundery showers and a moderate breezeThundery showers and a moderate breezeThundery showers and a moderate breezeThundery showers and a moderate breezeThundery showers and a moderate breeze'"
            ],
            "application/vnd.google.colaboratory.intrinsic+json": {
              "type": "string"
            }
          },
          "metadata": {},
          "execution_count": 9
        }
      ]
    },
    {
      "cell_type": "code",
      "source": [
        "#Splitting the summary of the 14 days by finding capitalised words\n",
        "daily_summary_list = re.findall('[a-zA-Z][^A-Z]*', daily_summary.text) #split the string on uppercase\n",
        "daily_summary_list"
      ],
      "metadata": {
        "colab": {
          "base_uri": "https://localhost:8080/"
        },
        "id": "7zQl-oGgScCZ",
        "outputId": "9410589e-e81e-48f2-f306-aa02d421791f"
      },
      "execution_count": 17,
      "outputs": [
        {
          "output_type": "execute_result",
          "data": {
            "text/plain": [
              "['Light rain showers and a gentle breeze',\n",
              " 'Thundery showers and a gentle breeze',\n",
              " 'Thundery showers and a gentle breeze',\n",
              " 'Thundery showers and a gentle breeze',\n",
              " 'Thundery showers and a gentle breeze',\n",
              " 'Thundery showers and a gentle breeze',\n",
              " 'Thundery showers and a moderate breeze',\n",
              " 'Thundery showers and a moderate breeze',\n",
              " 'Thundery showers and a moderate breeze',\n",
              " 'Thundery showers and a moderate breeze',\n",
              " 'Thundery showers and a moderate breeze',\n",
              " 'Thundery showers and a moderate breeze',\n",
              " 'Thundery showers and a moderate breeze',\n",
              " 'Thundery showers and a moderate breeze']"
            ]
          },
          "metadata": {},
          "execution_count": 17
        }
      ]
    },
    {
      "cell_type": "code",
      "source": [
        "#creating a date column using the panda's date range function\n",
        "datelist = pd.date_range(datetime.today(), periods=len(daily_high_values)).tolist()\n",
        "datelist"
      ],
      "metadata": {
        "colab": {
          "base_uri": "https://localhost:8080/"
        },
        "id": "6oA5GijESxu6",
        "outputId": "d6fbb980-d794-40a7-defa-6f36e5425b11"
      },
      "execution_count": 18,
      "outputs": [
        {
          "output_type": "execute_result",
          "data": {
            "text/plain": [
              "[Timestamp('2022-06-22 07:24:34.210324', freq='D'),\n",
              " Timestamp('2022-06-23 07:24:34.210324', freq='D'),\n",
              " Timestamp('2022-06-24 07:24:34.210324', freq='D'),\n",
              " Timestamp('2022-06-25 07:24:34.210324', freq='D'),\n",
              " Timestamp('2022-06-26 07:24:34.210324', freq='D'),\n",
              " Timestamp('2022-06-27 07:24:34.210324', freq='D'),\n",
              " Timestamp('2022-06-28 07:24:34.210324', freq='D'),\n",
              " Timestamp('2022-06-29 07:24:34.210324', freq='D'),\n",
              " Timestamp('2022-06-30 07:24:34.210324', freq='D'),\n",
              " Timestamp('2022-07-01 07:24:34.210324', freq='D'),\n",
              " Timestamp('2022-07-02 07:24:34.210324', freq='D'),\n",
              " Timestamp('2022-07-03 07:24:34.210324', freq='D'),\n",
              " Timestamp('2022-07-04 07:24:34.210324', freq='D'),\n",
              " Timestamp('2022-07-05 07:24:34.210324', freq='D')]"
            ]
          },
          "metadata": {},
          "execution_count": 18
        }
      ]
    },
    {
      "cell_type": "code",
      "source": [
        "#Stripping off all the junk, and getting only date from above list\n",
        "datelist = [datelist[i].date().strftime('%y-%m-%d') for i in range(len(datelist))]\n",
        "datelist"
      ],
      "metadata": {
        "colab": {
          "base_uri": "https://localhost:8080/"
        },
        "id": "jxZndbGtTPxx",
        "outputId": "08d25db8-b7f8-47a9-f23a-6b5adb61fb60"
      },
      "execution_count": 19,
      "outputs": [
        {
          "output_type": "execute_result",
          "data": {
            "text/plain": [
              "['22-06-22',\n",
              " '22-06-23',\n",
              " '22-06-24',\n",
              " '22-06-25',\n",
              " '22-06-26',\n",
              " '22-06-27',\n",
              " '22-06-28',\n",
              " '22-06-29',\n",
              " '22-06-30',\n",
              " '22-07-01',\n",
              " '22-07-02',\n",
              " '22-07-03',\n",
              " '22-07-04',\n",
              " '22-07-05']"
            ]
          },
          "metadata": {},
          "execution_count": 19
        }
      ]
    },
    {
      "cell_type": "code",
      "source": [
        "zipped = zip(datelist, daily_high_values_list, daily_low_values_list, daily_summary_list)"
      ],
      "metadata": {
        "id": "cHKMO2qlTchC"
      },
      "execution_count": 20,
      "outputs": []
    },
    {
      "cell_type": "code",
      "source": [
        "df = pd.DataFrame(list(zipped), columns=['Date', 'High','Low', 'Summary'])"
      ],
      "metadata": {
        "id": "yknGeSx3Te3c"
      },
      "execution_count": 21,
      "outputs": []
    },
    {
      "cell_type": "code",
      "source": [
        "display(df)"
      ],
      "metadata": {
        "colab": {
          "base_uri": "https://localhost:8080/",
          "height": 483
        },
        "id": "eeFa6-qSTgnR",
        "outputId": "2ca85550-673f-4609-d6f4-d3d7ae3b3ba6"
      },
      "execution_count": 22,
      "outputs": [
        {
          "output_type": "display_data",
          "data": {
            "text/plain": [
              "        Date High  Low                                 Summary\n",
              "0   22-06-22  30°  25°  Light rain showers and a gentle breeze\n",
              "1   22-06-23  30°  26°    Thundery showers and a gentle breeze\n",
              "2   22-06-24  31°  26°    Thundery showers and a gentle breeze\n",
              "3   22-06-25  30°  26°    Thundery showers and a gentle breeze\n",
              "4   22-06-26  30°  26°    Thundery showers and a gentle breeze\n",
              "5   22-06-27  29°  26°    Thundery showers and a gentle breeze\n",
              "6   22-06-28  30°  26°  Thundery showers and a moderate breeze\n",
              "7   22-06-29  29°  26°  Thundery showers and a moderate breeze\n",
              "8   22-06-30  29°  26°  Thundery showers and a moderate breeze\n",
              "9   22-07-01  29°  26°  Thundery showers and a moderate breeze\n",
              "10  22-07-02  30°  26°  Thundery showers and a moderate breeze\n",
              "11  22-07-03  30°  26°  Thundery showers and a moderate breeze\n",
              "12  22-07-04  29°  26°  Thundery showers and a moderate breeze\n",
              "13  22-07-05  29°  25°  Thundery showers and a moderate breeze"
            ],
            "text/html": [
              "\n",
              "  <div id=\"df-36c24fdb-aa7d-4838-b804-1a32b24c5246\">\n",
              "    <div class=\"colab-df-container\">\n",
              "      <div>\n",
              "<style scoped>\n",
              "    .dataframe tbody tr th:only-of-type {\n",
              "        vertical-align: middle;\n",
              "    }\n",
              "\n",
              "    .dataframe tbody tr th {\n",
              "        vertical-align: top;\n",
              "    }\n",
              "\n",
              "    .dataframe thead th {\n",
              "        text-align: right;\n",
              "    }\n",
              "</style>\n",
              "<table border=\"1\" class=\"dataframe\">\n",
              "  <thead>\n",
              "    <tr style=\"text-align: right;\">\n",
              "      <th></th>\n",
              "      <th>Date</th>\n",
              "      <th>High</th>\n",
              "      <th>Low</th>\n",
              "      <th>Summary</th>\n",
              "    </tr>\n",
              "  </thead>\n",
              "  <tbody>\n",
              "    <tr>\n",
              "      <th>0</th>\n",
              "      <td>22-06-22</td>\n",
              "      <td>30°</td>\n",
              "      <td>25°</td>\n",
              "      <td>Light rain showers and a gentle breeze</td>\n",
              "    </tr>\n",
              "    <tr>\n",
              "      <th>1</th>\n",
              "      <td>22-06-23</td>\n",
              "      <td>30°</td>\n",
              "      <td>26°</td>\n",
              "      <td>Thundery showers and a gentle breeze</td>\n",
              "    </tr>\n",
              "    <tr>\n",
              "      <th>2</th>\n",
              "      <td>22-06-24</td>\n",
              "      <td>31°</td>\n",
              "      <td>26°</td>\n",
              "      <td>Thundery showers and a gentle breeze</td>\n",
              "    </tr>\n",
              "    <tr>\n",
              "      <th>3</th>\n",
              "      <td>22-06-25</td>\n",
              "      <td>30°</td>\n",
              "      <td>26°</td>\n",
              "      <td>Thundery showers and a gentle breeze</td>\n",
              "    </tr>\n",
              "    <tr>\n",
              "      <th>4</th>\n",
              "      <td>22-06-26</td>\n",
              "      <td>30°</td>\n",
              "      <td>26°</td>\n",
              "      <td>Thundery showers and a gentle breeze</td>\n",
              "    </tr>\n",
              "    <tr>\n",
              "      <th>5</th>\n",
              "      <td>22-06-27</td>\n",
              "      <td>29°</td>\n",
              "      <td>26°</td>\n",
              "      <td>Thundery showers and a gentle breeze</td>\n",
              "    </tr>\n",
              "    <tr>\n",
              "      <th>6</th>\n",
              "      <td>22-06-28</td>\n",
              "      <td>30°</td>\n",
              "      <td>26°</td>\n",
              "      <td>Thundery showers and a moderate breeze</td>\n",
              "    </tr>\n",
              "    <tr>\n",
              "      <th>7</th>\n",
              "      <td>22-06-29</td>\n",
              "      <td>29°</td>\n",
              "      <td>26°</td>\n",
              "      <td>Thundery showers and a moderate breeze</td>\n",
              "    </tr>\n",
              "    <tr>\n",
              "      <th>8</th>\n",
              "      <td>22-06-30</td>\n",
              "      <td>29°</td>\n",
              "      <td>26°</td>\n",
              "      <td>Thundery showers and a moderate breeze</td>\n",
              "    </tr>\n",
              "    <tr>\n",
              "      <th>9</th>\n",
              "      <td>22-07-01</td>\n",
              "      <td>29°</td>\n",
              "      <td>26°</td>\n",
              "      <td>Thundery showers and a moderate breeze</td>\n",
              "    </tr>\n",
              "    <tr>\n",
              "      <th>10</th>\n",
              "      <td>22-07-02</td>\n",
              "      <td>30°</td>\n",
              "      <td>26°</td>\n",
              "      <td>Thundery showers and a moderate breeze</td>\n",
              "    </tr>\n",
              "    <tr>\n",
              "      <th>11</th>\n",
              "      <td>22-07-03</td>\n",
              "      <td>30°</td>\n",
              "      <td>26°</td>\n",
              "      <td>Thundery showers and a moderate breeze</td>\n",
              "    </tr>\n",
              "    <tr>\n",
              "      <th>12</th>\n",
              "      <td>22-07-04</td>\n",
              "      <td>29°</td>\n",
              "      <td>26°</td>\n",
              "      <td>Thundery showers and a moderate breeze</td>\n",
              "    </tr>\n",
              "    <tr>\n",
              "      <th>13</th>\n",
              "      <td>22-07-05</td>\n",
              "      <td>29°</td>\n",
              "      <td>25°</td>\n",
              "      <td>Thundery showers and a moderate breeze</td>\n",
              "    </tr>\n",
              "  </tbody>\n",
              "</table>\n",
              "</div>\n",
              "      <button class=\"colab-df-convert\" onclick=\"convertToInteractive('df-36c24fdb-aa7d-4838-b804-1a32b24c5246')\"\n",
              "              title=\"Convert this dataframe to an interactive table.\"\n",
              "              style=\"display:none;\">\n",
              "        \n",
              "  <svg xmlns=\"http://www.w3.org/2000/svg\" height=\"24px\"viewBox=\"0 0 24 24\"\n",
              "       width=\"24px\">\n",
              "    <path d=\"M0 0h24v24H0V0z\" fill=\"none\"/>\n",
              "    <path d=\"M18.56 5.44l.94 2.06.94-2.06 2.06-.94-2.06-.94-.94-2.06-.94 2.06-2.06.94zm-11 1L8.5 8.5l.94-2.06 2.06-.94-2.06-.94L8.5 2.5l-.94 2.06-2.06.94zm10 10l.94 2.06.94-2.06 2.06-.94-2.06-.94-.94-2.06-.94 2.06-2.06.94z\"/><path d=\"M17.41 7.96l-1.37-1.37c-.4-.4-.92-.59-1.43-.59-.52 0-1.04.2-1.43.59L10.3 9.45l-7.72 7.72c-.78.78-.78 2.05 0 2.83L4 21.41c.39.39.9.59 1.41.59.51 0 1.02-.2 1.41-.59l7.78-7.78 2.81-2.81c.8-.78.8-2.07 0-2.86zM5.41 20L4 18.59l7.72-7.72 1.47 1.35L5.41 20z\"/>\n",
              "  </svg>\n",
              "      </button>\n",
              "      \n",
              "  <style>\n",
              "    .colab-df-container {\n",
              "      display:flex;\n",
              "      flex-wrap:wrap;\n",
              "      gap: 12px;\n",
              "    }\n",
              "\n",
              "    .colab-df-convert {\n",
              "      background-color: #E8F0FE;\n",
              "      border: none;\n",
              "      border-radius: 50%;\n",
              "      cursor: pointer;\n",
              "      display: none;\n",
              "      fill: #1967D2;\n",
              "      height: 32px;\n",
              "      padding: 0 0 0 0;\n",
              "      width: 32px;\n",
              "    }\n",
              "\n",
              "    .colab-df-convert:hover {\n",
              "      background-color: #E2EBFA;\n",
              "      box-shadow: 0px 1px 2px rgba(60, 64, 67, 0.3), 0px 1px 3px 1px rgba(60, 64, 67, 0.15);\n",
              "      fill: #174EA6;\n",
              "    }\n",
              "\n",
              "    [theme=dark] .colab-df-convert {\n",
              "      background-color: #3B4455;\n",
              "      fill: #D2E3FC;\n",
              "    }\n",
              "\n",
              "    [theme=dark] .colab-df-convert:hover {\n",
              "      background-color: #434B5C;\n",
              "      box-shadow: 0px 1px 3px 1px rgba(0, 0, 0, 0.15);\n",
              "      filter: drop-shadow(0px 1px 2px rgba(0, 0, 0, 0.3));\n",
              "      fill: #FFFFFF;\n",
              "    }\n",
              "  </style>\n",
              "\n",
              "      <script>\n",
              "        const buttonEl =\n",
              "          document.querySelector('#df-36c24fdb-aa7d-4838-b804-1a32b24c5246 button.colab-df-convert');\n",
              "        buttonEl.style.display =\n",
              "          google.colab.kernel.accessAllowed ? 'block' : 'none';\n",
              "\n",
              "        async function convertToInteractive(key) {\n",
              "          const element = document.querySelector('#df-36c24fdb-aa7d-4838-b804-1a32b24c5246');\n",
              "          const dataTable =\n",
              "            await google.colab.kernel.invokeFunction('convertToInteractive',\n",
              "                                                     [key], {});\n",
              "          if (!dataTable) return;\n",
              "\n",
              "          const docLinkHtml = 'Like what you see? Visit the ' +\n",
              "            '<a target=\"_blank\" href=https://colab.research.google.com/notebooks/data_table.ipynb>data table notebook</a>'\n",
              "            + ' to learn more about interactive tables.';\n",
              "          element.innerHTML = '';\n",
              "          dataTable['output_type'] = 'display_data';\n",
              "          await google.colab.output.renderOutput(dataTable, element);\n",
              "          const docLink = document.createElement('div');\n",
              "          docLink.innerHTML = docLinkHtml;\n",
              "          element.appendChild(docLink);\n",
              "        }\n",
              "      </script>\n",
              "    </div>\n",
              "  </div>\n",
              "  "
            ]
          },
          "metadata": {}
        }
      ]
    },
    {
      "cell_type": "code",
      "source": [
        "# remove the 'degree' character\n",
        "df.High = df.High.replace('\\°','',regex=True).astype(float)\n",
        "df.Low  = df.Low.replace('\\°','',regex=True).astype(float)"
      ],
      "metadata": {
        "id": "M6C6DH5LTqEu"
      },
      "execution_count": 23,
      "outputs": []
    },
    {
      "cell_type": "code",
      "source": [
        "display(df)"
      ],
      "metadata": {
        "colab": {
          "base_uri": "https://localhost:8080/",
          "height": 483
        },
        "id": "w8rTmvh_Tr2P",
        "outputId": "bb903ba0-1b12-40f6-aa71-5da0b0a206e7"
      },
      "execution_count": 24,
      "outputs": [
        {
          "output_type": "display_data",
          "data": {
            "text/plain": [
              "        Date  High   Low                                 Summary\n",
              "0   22-06-22  30.0  25.0  Light rain showers and a gentle breeze\n",
              "1   22-06-23  30.0  26.0    Thundery showers and a gentle breeze\n",
              "2   22-06-24  31.0  26.0    Thundery showers and a gentle breeze\n",
              "3   22-06-25  30.0  26.0    Thundery showers and a gentle breeze\n",
              "4   22-06-26  30.0  26.0    Thundery showers and a gentle breeze\n",
              "5   22-06-27  29.0  26.0    Thundery showers and a gentle breeze\n",
              "6   22-06-28  30.0  26.0  Thundery showers and a moderate breeze\n",
              "7   22-06-29  29.0  26.0  Thundery showers and a moderate breeze\n",
              "8   22-06-30  29.0  26.0  Thundery showers and a moderate breeze\n",
              "9   22-07-01  29.0  26.0  Thundery showers and a moderate breeze\n",
              "10  22-07-02  30.0  26.0  Thundery showers and a moderate breeze\n",
              "11  22-07-03  30.0  26.0  Thundery showers and a moderate breeze\n",
              "12  22-07-04  29.0  26.0  Thundery showers and a moderate breeze\n",
              "13  22-07-05  29.0  25.0  Thundery showers and a moderate breeze"
            ],
            "text/html": [
              "\n",
              "  <div id=\"df-2afec2fe-9771-499a-b0da-fa91d9c452cf\">\n",
              "    <div class=\"colab-df-container\">\n",
              "      <div>\n",
              "<style scoped>\n",
              "    .dataframe tbody tr th:only-of-type {\n",
              "        vertical-align: middle;\n",
              "    }\n",
              "\n",
              "    .dataframe tbody tr th {\n",
              "        vertical-align: top;\n",
              "    }\n",
              "\n",
              "    .dataframe thead th {\n",
              "        text-align: right;\n",
              "    }\n",
              "</style>\n",
              "<table border=\"1\" class=\"dataframe\">\n",
              "  <thead>\n",
              "    <tr style=\"text-align: right;\">\n",
              "      <th></th>\n",
              "      <th>Date</th>\n",
              "      <th>High</th>\n",
              "      <th>Low</th>\n",
              "      <th>Summary</th>\n",
              "    </tr>\n",
              "  </thead>\n",
              "  <tbody>\n",
              "    <tr>\n",
              "      <th>0</th>\n",
              "      <td>22-06-22</td>\n",
              "      <td>30.0</td>\n",
              "      <td>25.0</td>\n",
              "      <td>Light rain showers and a gentle breeze</td>\n",
              "    </tr>\n",
              "    <tr>\n",
              "      <th>1</th>\n",
              "      <td>22-06-23</td>\n",
              "      <td>30.0</td>\n",
              "      <td>26.0</td>\n",
              "      <td>Thundery showers and a gentle breeze</td>\n",
              "    </tr>\n",
              "    <tr>\n",
              "      <th>2</th>\n",
              "      <td>22-06-24</td>\n",
              "      <td>31.0</td>\n",
              "      <td>26.0</td>\n",
              "      <td>Thundery showers and a gentle breeze</td>\n",
              "    </tr>\n",
              "    <tr>\n",
              "      <th>3</th>\n",
              "      <td>22-06-25</td>\n",
              "      <td>30.0</td>\n",
              "      <td>26.0</td>\n",
              "      <td>Thundery showers and a gentle breeze</td>\n",
              "    </tr>\n",
              "    <tr>\n",
              "      <th>4</th>\n",
              "      <td>22-06-26</td>\n",
              "      <td>30.0</td>\n",
              "      <td>26.0</td>\n",
              "      <td>Thundery showers and a gentle breeze</td>\n",
              "    </tr>\n",
              "    <tr>\n",
              "      <th>5</th>\n",
              "      <td>22-06-27</td>\n",
              "      <td>29.0</td>\n",
              "      <td>26.0</td>\n",
              "      <td>Thundery showers and a gentle breeze</td>\n",
              "    </tr>\n",
              "    <tr>\n",
              "      <th>6</th>\n",
              "      <td>22-06-28</td>\n",
              "      <td>30.0</td>\n",
              "      <td>26.0</td>\n",
              "      <td>Thundery showers and a moderate breeze</td>\n",
              "    </tr>\n",
              "    <tr>\n",
              "      <th>7</th>\n",
              "      <td>22-06-29</td>\n",
              "      <td>29.0</td>\n",
              "      <td>26.0</td>\n",
              "      <td>Thundery showers and a moderate breeze</td>\n",
              "    </tr>\n",
              "    <tr>\n",
              "      <th>8</th>\n",
              "      <td>22-06-30</td>\n",
              "      <td>29.0</td>\n",
              "      <td>26.0</td>\n",
              "      <td>Thundery showers and a moderate breeze</td>\n",
              "    </tr>\n",
              "    <tr>\n",
              "      <th>9</th>\n",
              "      <td>22-07-01</td>\n",
              "      <td>29.0</td>\n",
              "      <td>26.0</td>\n",
              "      <td>Thundery showers and a moderate breeze</td>\n",
              "    </tr>\n",
              "    <tr>\n",
              "      <th>10</th>\n",
              "      <td>22-07-02</td>\n",
              "      <td>30.0</td>\n",
              "      <td>26.0</td>\n",
              "      <td>Thundery showers and a moderate breeze</td>\n",
              "    </tr>\n",
              "    <tr>\n",
              "      <th>11</th>\n",
              "      <td>22-07-03</td>\n",
              "      <td>30.0</td>\n",
              "      <td>26.0</td>\n",
              "      <td>Thundery showers and a moderate breeze</td>\n",
              "    </tr>\n",
              "    <tr>\n",
              "      <th>12</th>\n",
              "      <td>22-07-04</td>\n",
              "      <td>29.0</td>\n",
              "      <td>26.0</td>\n",
              "      <td>Thundery showers and a moderate breeze</td>\n",
              "    </tr>\n",
              "    <tr>\n",
              "      <th>13</th>\n",
              "      <td>22-07-05</td>\n",
              "      <td>29.0</td>\n",
              "      <td>25.0</td>\n",
              "      <td>Thundery showers and a moderate breeze</td>\n",
              "    </tr>\n",
              "  </tbody>\n",
              "</table>\n",
              "</div>\n",
              "      <button class=\"colab-df-convert\" onclick=\"convertToInteractive('df-2afec2fe-9771-499a-b0da-fa91d9c452cf')\"\n",
              "              title=\"Convert this dataframe to an interactive table.\"\n",
              "              style=\"display:none;\">\n",
              "        \n",
              "  <svg xmlns=\"http://www.w3.org/2000/svg\" height=\"24px\"viewBox=\"0 0 24 24\"\n",
              "       width=\"24px\">\n",
              "    <path d=\"M0 0h24v24H0V0z\" fill=\"none\"/>\n",
              "    <path d=\"M18.56 5.44l.94 2.06.94-2.06 2.06-.94-2.06-.94-.94-2.06-.94 2.06-2.06.94zm-11 1L8.5 8.5l.94-2.06 2.06-.94-2.06-.94L8.5 2.5l-.94 2.06-2.06.94zm10 10l.94 2.06.94-2.06 2.06-.94-2.06-.94-.94-2.06-.94 2.06-2.06.94z\"/><path d=\"M17.41 7.96l-1.37-1.37c-.4-.4-.92-.59-1.43-.59-.52 0-1.04.2-1.43.59L10.3 9.45l-7.72 7.72c-.78.78-.78 2.05 0 2.83L4 21.41c.39.39.9.59 1.41.59.51 0 1.02-.2 1.41-.59l7.78-7.78 2.81-2.81c.8-.78.8-2.07 0-2.86zM5.41 20L4 18.59l7.72-7.72 1.47 1.35L5.41 20z\"/>\n",
              "  </svg>\n",
              "      </button>\n",
              "      \n",
              "  <style>\n",
              "    .colab-df-container {\n",
              "      display:flex;\n",
              "      flex-wrap:wrap;\n",
              "      gap: 12px;\n",
              "    }\n",
              "\n",
              "    .colab-df-convert {\n",
              "      background-color: #E8F0FE;\n",
              "      border: none;\n",
              "      border-radius: 50%;\n",
              "      cursor: pointer;\n",
              "      display: none;\n",
              "      fill: #1967D2;\n",
              "      height: 32px;\n",
              "      padding: 0 0 0 0;\n",
              "      width: 32px;\n",
              "    }\n",
              "\n",
              "    .colab-df-convert:hover {\n",
              "      background-color: #E2EBFA;\n",
              "      box-shadow: 0px 1px 2px rgba(60, 64, 67, 0.3), 0px 1px 3px 1px rgba(60, 64, 67, 0.15);\n",
              "      fill: #174EA6;\n",
              "    }\n",
              "\n",
              "    [theme=dark] .colab-df-convert {\n",
              "      background-color: #3B4455;\n",
              "      fill: #D2E3FC;\n",
              "    }\n",
              "\n",
              "    [theme=dark] .colab-df-convert:hover {\n",
              "      background-color: #434B5C;\n",
              "      box-shadow: 0px 1px 3px 1px rgba(0, 0, 0, 0.15);\n",
              "      filter: drop-shadow(0px 1px 2px rgba(0, 0, 0, 0.3));\n",
              "      fill: #FFFFFF;\n",
              "    }\n",
              "  </style>\n",
              "\n",
              "      <script>\n",
              "        const buttonEl =\n",
              "          document.querySelector('#df-2afec2fe-9771-499a-b0da-fa91d9c452cf button.colab-df-convert');\n",
              "        buttonEl.style.display =\n",
              "          google.colab.kernel.accessAllowed ? 'block' : 'none';\n",
              "\n",
              "        async function convertToInteractive(key) {\n",
              "          const element = document.querySelector('#df-2afec2fe-9771-499a-b0da-fa91d9c452cf');\n",
              "          const dataTable =\n",
              "            await google.colab.kernel.invokeFunction('convertToInteractive',\n",
              "                                                     [key], {});\n",
              "          if (!dataTable) return;\n",
              "\n",
              "          const docLinkHtml = 'Like what you see? Visit the ' +\n",
              "            '<a target=\"_blank\" href=https://colab.research.google.com/notebooks/data_table.ipynb>data table notebook</a>'\n",
              "            + ' to learn more about interactive tables.';\n",
              "          element.innerHTML = '';\n",
              "          dataTable['output_type'] = 'display_data';\n",
              "          await google.colab.output.renderOutput(dataTable, element);\n",
              "          const docLink = document.createElement('div');\n",
              "          docLink.innerHTML = docLinkHtml;\n",
              "          element.appendChild(docLink);\n",
              "        }\n",
              "      </script>\n",
              "    </div>\n",
              "  </div>\n",
              "  "
            ]
          },
          "metadata": {}
        }
      ]
    },
    {
      "cell_type": "code",
      "source": [
        "#Extracting the name of the city for which data is gathered\n",
        "#location = soup.find('div', attrs={'class':'wr-c-location'})\n",
        "location = soup.find('h1', attrs={'id':'wr-location-name-id'})\n",
        "location.text.split()"
      ],
      "metadata": {
        "colab": {
          "base_uri": "https://localhost:8080/"
        },
        "id": "84_AIcvHT0_L",
        "outputId": "35faeb44-3159-44a4-a7e1-00872bc14cf5"
      },
      "execution_count": 25,
      "outputs": [
        {
          "output_type": "execute_result",
          "data": {
            "text/plain": [
              "['Mumbai', '-', 'Weather', 'warnings', 'issued']"
            ]
          },
          "metadata": {},
          "execution_count": 25
        }
      ]
    },
    {
      "cell_type": "code",
      "source": [
        "#Saving as csv\n",
        "filename_csv = location.text.split()[0]+'.csv'\n",
        "df.to_csv(filename_csv, index=None)"
      ],
      "metadata": {
        "id": "sCBGZDEqT8pi"
      },
      "execution_count": 26,
      "outputs": []
    },
    {
      "cell_type": "code",
      "source": [
        "#Saving as xlsx\n",
        "filename_xlsx = location.text.split()[0]+'.xlsx'\n",
        "df.to_excel(filename_xlsx)"
      ],
      "metadata": {
        "id": "1T4jtvp8UBqo"
      },
      "execution_count": null,
      "outputs": []
    }
  ]
}